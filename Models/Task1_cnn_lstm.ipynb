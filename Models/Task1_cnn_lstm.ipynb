{
 "cells": [
  {
   "cell_type": "code",
   "execution_count": 3,
   "metadata": {},
   "outputs": [
    {
     "name": "stderr",
     "output_type": "stream",
     "text": [
      "/var/folders/ls/rcj43y9j0d38d39d28pbbfz40000gn/T/ipykernel_16358/4238391245.py:29: DeprecationWarning: `import kerastuner` is deprecated, please use `import keras_tuner`.\n",
      "  from kerastuner import RandomSearch, Hyperband\n"
     ]
    }
   ],
   "source": [
    "import numpy as np\n",
    "import pandas as pd\n",
    "from scipy.fft import fft, ifft\n",
    "from scipy.interpolate import interp1d\n",
    "from scipy.stats import entropy, iqr, kurtosis, mode, skew\n",
    "from sklearn.decomposition import PCA\n",
    "from sklearn.metrics import classification_report, confusion_matrix, ConfusionMatrixDisplay\n",
    "from sklearn.model_selection import train_test_split\n",
    "from sklearn.preprocessing import LabelEncoder, OneHotEncoder, StandardScaler\n",
    "import tensorflow as tf\n",
    "from tensorflow import keras\n",
    "from tensorflow.keras.callbacks import EarlyStopping, ModelCheckpoint\n",
    "from tensorflow.keras.layers import (Activation, BatchNormalization, Bidirectional,\n",
    "                                     Conv1D, Conv2D, Dense, Dropout,\n",
    "                                     Flatten, GlobalAveragePooling1D, LSTM,\n",
    "                                     MaxPool1D, MaxPooling2D, Reshape,\n",
    "                                     TimeDistributed)\n",
    "from tensorflow.keras.models import Sequential\n",
    "from tensorflow.keras.utils import to_categorical\n",
    "import matplotlib.pyplot as plt\n",
    "import os\n",
    "import pickle\n",
    "from pandas import read_csv, unique\n",
    "from scipy.signal import argrelextrema, butter, find_peaks, lfilter, lfilter_zi\n",
    "from tensorflow import keras\n",
    "from tensorflow.keras.losses import categorical_crossentropy\n",
    "from tensorflow.keras.optimizers import Adam\n",
    "from tensorflow.keras.metrics import categorical_accuracy\n",
    "from kerastuner import RandomSearch, Hyperband\n",
    "import kerastuner\n"
   ]
  },
  {
   "cell_type": "code",
   "execution_count": 4,
   "metadata": {},
   "outputs": [
    {
     "ename": "FileNotFoundError",
     "evalue": "[Errno 2] No such file or directory: 'X_respeck_all_phys'",
     "output_type": "error",
     "traceback": [
      "\u001b[0;31m---------------------------------------------------------------------------\u001b[0m",
      "\u001b[0;31mFileNotFoundError\u001b[0m                         Traceback (most recent call last)",
      "\u001b[1;32m/Users/apple/Library/Mobile Documents/com~apple~CloudDocs/Year 3/Final-Project/0 Modules/IoT/PDIoT-cw3-q1-1/Models/Task1_cnn_lstm.ipynb Cell 2\u001b[0m line \u001b[0;36m1\n\u001b[0;32m----> <a href='vscode-notebook-cell:/Users/apple/Library/Mobile%20Documents/com~apple~CloudDocs/Year%203/Final-Project/0%20Modules/IoT/PDIoT-cw3-q1-1/Models/Task1_cnn_lstm.ipynb#X46sZmlsZQ%3D%3D?line=0'>1</a>\u001b[0m X_respeck \u001b[39m=\u001b[39m pickle\u001b[39m.\u001b[39mload(\u001b[39mopen\u001b[39;49m(\u001b[39m\"\u001b[39;49m\u001b[39mX_respeck_all_phys\u001b[39;49m\u001b[39m\"\u001b[39;49m, \u001b[39m\"\u001b[39;49m\u001b[39mrb\u001b[39;49m\u001b[39m\"\u001b[39;49m))\n\u001b[1;32m      <a href='vscode-notebook-cell:/Users/apple/Library/Mobile%20Documents/com~apple~CloudDocs/Year%203/Final-Project/0%20Modules/IoT/PDIoT-cw3-q1-1/Models/Task1_cnn_lstm.ipynb#X46sZmlsZQ%3D%3D?line=1'>2</a>\u001b[0m y_respeck \u001b[39m=\u001b[39m pickle\u001b[39m.\u001b[39mload(\u001b[39mopen\u001b[39m(\u001b[39m\"\u001b[39m\u001b[39my_respeck_all_phys\u001b[39m\u001b[39m\"\u001b[39m, \u001b[39m\"\u001b[39m\u001b[39mrb\u001b[39m\u001b[39m\"\u001b[39m))\n\u001b[1;32m      <a href='vscode-notebook-cell:/Users/apple/Library/Mobile%20Documents/com~apple~CloudDocs/Year%203/Final-Project/0%20Modules/IoT/PDIoT-cw3-q1-1/Models/Task1_cnn_lstm.ipynb#X46sZmlsZQ%3D%3D?line=2'>3</a>\u001b[0m \u001b[39mprint\u001b[39m(X_respeck\u001b[39m.\u001b[39mshape)\n",
      "File \u001b[0;32m~/.pyenv/versions/3.8.12/lib/python3.8/site-packages/IPython/core/interactiveshell.py:282\u001b[0m, in \u001b[0;36m_modified_open\u001b[0;34m(file, *args, **kwargs)\u001b[0m\n\u001b[1;32m    275\u001b[0m \u001b[39mif\u001b[39;00m file \u001b[39min\u001b[39;00m {\u001b[39m0\u001b[39m, \u001b[39m1\u001b[39m, \u001b[39m2\u001b[39m}:\n\u001b[1;32m    276\u001b[0m     \u001b[39mraise\u001b[39;00m \u001b[39mValueError\u001b[39;00m(\n\u001b[1;32m    277\u001b[0m         \u001b[39mf\u001b[39m\u001b[39m\"\u001b[39m\u001b[39mIPython won\u001b[39m\u001b[39m'\u001b[39m\u001b[39mt let you open fd=\u001b[39m\u001b[39m{\u001b[39;00mfile\u001b[39m}\u001b[39;00m\u001b[39m by default \u001b[39m\u001b[39m\"\u001b[39m\n\u001b[1;32m    278\u001b[0m         \u001b[39m\"\u001b[39m\u001b[39mas it is likely to crash IPython. If you know what you are doing, \u001b[39m\u001b[39m\"\u001b[39m\n\u001b[1;32m    279\u001b[0m         \u001b[39m\"\u001b[39m\u001b[39myou can use builtins\u001b[39m\u001b[39m'\u001b[39m\u001b[39m open.\u001b[39m\u001b[39m\"\u001b[39m\n\u001b[1;32m    280\u001b[0m     )\n\u001b[0;32m--> 282\u001b[0m \u001b[39mreturn\u001b[39;00m io_open(file, \u001b[39m*\u001b[39;49margs, \u001b[39m*\u001b[39;49m\u001b[39m*\u001b[39;49mkwargs)\n",
      "\u001b[0;31mFileNotFoundError\u001b[0m: [Errno 2] No such file or directory: 'X_respeck_all_phys'"
     ]
    }
   ],
   "source": [
    "\n",
    "X_respeck = pickle.load(open(\"X_respeck_all_phys\", \"rb\"))\n",
    "y_respeck = pickle.load(open(\"y_respeck_all_phys\", \"rb\"))\n",
    "print(X_respeck.shape)\n",
    "print(y_respeck.shape)\n",
    "print(y_respeck[0])\n",
    "enc = OneHotEncoder(handle_unknown='ignore')\n",
    "enc_fitted = enc.fit(y_respeck)\n",
    "enc_fitted.categories_\n",
    "y_respeck = enc.transform(y_respeck).toarray()\n",
    "print(enc_fitted.categories_)# One Hot is inexed as this array prints!!!!!"
   ]
  },
  {
   "cell_type": "code",
   "execution_count": 103,
   "metadata": {},
   "outputs": [
    {
     "name": "stdout",
     "output_type": "stream",
     "text": [
      "<class 'numpy.float64'>\n",
      "<class 'numpy.float64'>\n"
     ]
    }
   ],
   "source": [
    "X_train, X_temp, y_train, y_temp = train_test_split(X_respeck, y_respeck, test_size=0.2, random_state=42)\n",
    "X_test, X_val, y_test, y_val = train_test_split(X_temp, y_temp, test_size=0.5, random_state=42)\n",
    "\n",
    "# enc = enc.fit(np.array(y_train))\n",
    "# y_train = enc.transform(y_train)\n",
    "# y_val = enc.transform(y_val)\n",
    "# y_test = enc.transform(y_test)\n",
    "# print(X_train.shape)\n",
    "# print(y_val.shape)\n",
    "# enc.categories_\n",
    "X_train.shape\n"
   ]
  },
  {
   "cell_type": "code",
   "execution_count": 64,
   "metadata": {},
   "outputs": [],
   "source": [
    "def build_model(hp):\n",
    "    model = Sequential()\n",
    "    model.add(LSTM(units=hp.Int('lstm_units1', min_value=16, max_value=256, step=16), return_sequences=True, input_shape=X_train[0].shape, activation='relu'))\n",
    "    model.add(LSTM(units=hp.Int('lstm_units2', min_value=16, max_value=256, step=16), return_sequences=True, activation='relu'))\n",
    "    model.add(Conv1D(filters=hp.Int('conv1d_filters1', min_value=16, max_value=128, step=16), kernel_size=hp.Int('conv1d_kernel_size1', min_value=2, max_value=5), activation='relu', strides=2))\n",
    "    model.add(MaxPool1D(pool_size=hp.Int('maxpool1d_pool_size', min_value=2, max_value=5), padding='same'))\n",
    "    model.add(Conv1D(filters=hp.Int('conv1d_filters2', min_value=16, max_value=128, step=16), kernel_size=hp.Int('conv1d_kernel_size2', min_value=2, max_value=5), activation='relu', strides=1))\n",
    "    model.add(GlobalAveragePooling1D())\n",
    "    model.add(BatchNormalization(epsilon=1e-06))\n",
    "    model.add(Dense(y_train.shape[1], activation='softmax'))\n",
    "\n",
    "    # Compile the model with tunable hyperparameters\n",
    "    model.compile(\n",
    "        optimizer=Adam(learning_rate=hp.Float('learning_rate', min_value=1e-4, max_value=1e-2, sampling='log')),\n",
    "        loss=categorical_crossentropy,\n",
    "        metrics=['categorical_accuracy']\n",
    "    )\n",
    "    \n",
    "    return model\n"
   ]
  },
  {
   "cell_type": "code",
   "execution_count": 65,
   "metadata": {},
   "outputs": [],
   "source": [
    "\n",
    "tuner = Hyperband(\n",
    "    build_model,\n",
    "    factor=3,  # Reduction factor for the number of models in each bracket\n",
    "    max_epochs=20,  # Maximum number of training epochs for each model\n",
    "    objective='categorical_accuracy',  # The metric to optimize\n",
    "    directory='tuner_dir',  # Directory to store results\n",
    "    project_name='Task_1_larger_lstm', # Name of the tuning project\n",
    ")\n"
   ]
  },
  {
   "cell_type": "code",
   "execution_count": 16,
   "metadata": {},
   "outputs": [],
   "source": [
    "# from kerastuner.tuners import BayesianOptimization\n",
    "# tuner = RandomSearch(\n",
    "#     build_model,\n",
    "#     objective='categorical_accuracy',  # The metric to optimize\n",
    "#     max_trials=10,  # Number of trials\n",
    "#     # num_initial_points=5,  # Number of initial random trials\n",
    "#     directory='tuner_dir',  # Directory to store results\n",
    "#     project_name='cnn_lstm_random_no_max_pool'  # Name of the tuning project\n",
    "# )\n"
   ]
  },
  {
   "cell_type": "code",
   "execution_count": 66,
   "metadata": {},
   "outputs": [
    {
     "name": "stdout",
     "output_type": "stream",
     "text": [
      "Trial 30 Complete [00h 23m 09s]\n",
      "categorical_accuracy: 0.9372983574867249\n",
      "\n",
      "Best categorical_accuracy So Far: 0.9419420957565308\n",
      "Total elapsed time: 04h 52m 36s\n",
      "INFO:tensorflow:Oracle triggered exit\n"
     ]
    }
   ],
   "source": [
    "tuner.search(X_train, y_train, validation_data=(X_val, y_val), batch_size=64, shuffle=False)"
   ]
  },
  {
   "cell_type": "code",
   "execution_count": 67,
   "metadata": {},
   "outputs": [
    {
     "name": "stdout",
     "output_type": "stream",
     "text": [
      "WARNING:tensorflow:Detecting that an object or model or tf.train.Checkpoint is being deleted with unrestored values. See the following logs for the specific values in question. To silence these warnings, use `status.expect_partial()`. See https://www.tensorflow.org/api_docs/python/tf/train/Checkpoint#restorefor details about the status object returned by the restore function.\n",
      "WARNING:tensorflow:Value in checkpoint could not be found in the restored object: (root).optimizer._variables.1\n",
      "WARNING:tensorflow:Value in checkpoint could not be found in the restored object: (root).optimizer._variables.2\n",
      "WARNING:tensorflow:Value in checkpoint could not be found in the restored object: (root).optimizer._variables.3\n",
      "WARNING:tensorflow:Value in checkpoint could not be found in the restored object: (root).optimizer._variables.4\n",
      "WARNING:tensorflow:Value in checkpoint could not be found in the restored object: (root).optimizer._variables.5\n",
      "WARNING:tensorflow:Value in checkpoint could not be found in the restored object: (root).optimizer._variables.6\n",
      "WARNING:tensorflow:Value in checkpoint could not be found in the restored object: (root).optimizer._variables.7\n",
      "WARNING:tensorflow:Value in checkpoint could not be found in the restored object: (root).optimizer._variables.8\n",
      "WARNING:tensorflow:Value in checkpoint could not be found in the restored object: (root).optimizer._variables.9\n",
      "WARNING:tensorflow:Value in checkpoint could not be found in the restored object: (root).optimizer._variables.10\n",
      "WARNING:tensorflow:Value in checkpoint could not be found in the restored object: (root).optimizer._variables.11\n",
      "WARNING:tensorflow:Value in checkpoint could not be found in the restored object: (root).optimizer._variables.12\n",
      "WARNING:tensorflow:Value in checkpoint could not be found in the restored object: (root).optimizer._variables.13\n",
      "WARNING:tensorflow:Value in checkpoint could not be found in the restored object: (root).optimizer._variables.14\n",
      "WARNING:tensorflow:Value in checkpoint could not be found in the restored object: (root).optimizer._variables.15\n",
      "WARNING:tensorflow:Value in checkpoint could not be found in the restored object: (root).optimizer._variables.16\n",
      "WARNING:tensorflow:Value in checkpoint could not be found in the restored object: (root).optimizer._variables.17\n",
      "WARNING:tensorflow:Value in checkpoint could not be found in the restored object: (root).optimizer._variables.18\n",
      "WARNING:tensorflow:Value in checkpoint could not be found in the restored object: (root).optimizer._variables.19\n",
      "WARNING:tensorflow:Value in checkpoint could not be found in the restored object: (root).optimizer._variables.20\n",
      "WARNING:tensorflow:Value in checkpoint could not be found in the restored object: (root).optimizer._variables.21\n",
      "WARNING:tensorflow:Value in checkpoint could not be found in the restored object: (root).optimizer._variables.22\n",
      "WARNING:tensorflow:Value in checkpoint could not be found in the restored object: (root).optimizer._variables.23\n",
      "WARNING:tensorflow:Value in checkpoint could not be found in the restored object: (root).optimizer._variables.24\n",
      "WARNING:tensorflow:Value in checkpoint could not be found in the restored object: (root).optimizer._variables.25\n",
      "WARNING:tensorflow:Value in checkpoint could not be found in the restored object: (root).optimizer._variables.26\n",
      "WARNING:tensorflow:Value in checkpoint could not be found in the restored object: (root).optimizer._variables.27\n",
      "WARNING:tensorflow:Value in checkpoint could not be found in the restored object: (root).optimizer._variables.28\n",
      "Model: \"sequential\"\n",
      "_________________________________________________________________\n",
      " Layer (type)                Output Shape              Param #   \n",
      "=================================================================\n",
      " lstm (LSTM)                 (None, 50, 192)           155904    \n",
      "                                                                 \n",
      " lstm_1 (LSTM)               (None, 50, 224)           373632    \n",
      "                                                                 \n",
      " conv1d (Conv1D)             (None, 24, 96)            86112     \n",
      "                                                                 \n",
      " max_pooling1d (MaxPooling1D  (None, 8, 96)            0         \n",
      " )                                                               \n",
      "                                                                 \n",
      " conv1d_1 (Conv1D)           (None, 6, 96)             27744     \n",
      "                                                                 \n",
      " global_average_pooling1d (G  (None, 96)               0         \n",
      " lobalAveragePooling1D)                                          \n",
      "                                                                 \n",
      " batch_normalization (BatchN  (None, 96)               384       \n",
      " ormalization)                                                   \n",
      "                                                                 \n",
      " dense (Dense)               (None, 12)                1164      \n",
      "                                                                 \n",
      "=================================================================\n",
      "Total params: 644,940\n",
      "Trainable params: 644,748\n",
      "Non-trainable params: 192\n",
      "_________________________________________________________________\n"
     ]
    }
   ],
   "source": [
    "tuner.get_best_hyperparameters()[0].values\n",
    "best = tuner.get_best_models()[0]\n",
    "best.summary()"
   ]
  },
  {
   "cell_type": "code",
   "execution_count": 68,
   "metadata": {},
   "outputs": [],
   "source": [
    "with open('Task1.json', 'w') as f:\n",
    "    f.write(best.to_json())\n",
    "best.save('Trained_Task1_2.keras')"
   ]
  },
  {
   "cell_type": "code",
   "execution_count": 95,
   "metadata": {},
   "outputs": [],
   "source": [
    "trained_t1 = keras.models.load_model('Trained_Task1_2.keras')"
   ]
  },
  {
   "cell_type": "code",
   "execution_count": null,
   "metadata": {},
   "outputs": [],
   "source": [
    "# cnn_lstm = Sequential()\n",
    "# cnn_lstm.add(LSTM(122, return_sequences=True, input_shape=X_train[0].shape, activation='relu'))\n",
    "# cnn_lstm.add(LSTM(128,return_sequences=True, activation='relu'))\n",
    "# cnn_lstm.add(Conv1D(filters=64,kernel_size=3, activation='relu', strides=2))\n",
    "# cnn_lstm.add(MaxPool1D(pool_size=5, padding='same'))\n",
    "# cnn_lstm.add(Conv1D(filters=112, kernel_size=3, activation='relu', strides=1))\n",
    "# cnn_lstm.add(GlobalAveragePooling1D())\n",
    "# cnn_lstm.add(BatchNormalization(epsilon=1e-06))\n",
    "# cnn_lstm.add(Dense(12))\n",
    "# cnn_lstm.add(Activation('softmax'))\n",
    "# cnn_lstm.compile(loss='categorical_crossentropy', optimizer='adam', metrics=['accuracy'])\n",
    "# cnn_lstm.fit(X_train, y_train, batch_size=64, verbose=1, validation_data=(X_val, y_val), epochs=50)"
   ]
  },
  {
   "cell_type": "code",
   "execution_count": 70,
   "metadata": {},
   "outputs": [
    {
     "name": "stdout",
     "output_type": "stream",
     "text": [
      "Epoch 1/50\n",
      "717/717 [==============================] - 131s 179ms/step - loss: 0.1610 - categorical_accuracy: 0.9294 - val_loss: 0.2115 - val_categorical_accuracy: 0.9196\n",
      "Epoch 2/50\n",
      "717/717 [==============================] - 128s 179ms/step - loss: 0.1420 - categorical_accuracy: 0.9365 - val_loss: 0.1686 - val_categorical_accuracy: 0.9262\n",
      "Epoch 3/50\n",
      "717/717 [==============================] - 128s 179ms/step - loss: 0.1385 - categorical_accuracy: 0.9397 - val_loss: 0.1653 - val_categorical_accuracy: 0.9287\n",
      "Epoch 4/50\n",
      "717/717 [==============================] - 129s 180ms/step - loss: 0.1368 - categorical_accuracy: 0.9393 - val_loss: 0.1626 - val_categorical_accuracy: 0.9302\n",
      "Epoch 5/50\n",
      "717/717 [==============================] - 137s 191ms/step - loss: 0.1285 - categorical_accuracy: 0.9427 - val_loss: 0.1580 - val_categorical_accuracy: 0.9283\n",
      "Epoch 6/50\n",
      "717/717 [==============================] - 127s 177ms/step - loss: 0.1254 - categorical_accuracy: 0.9440 - val_loss: 0.1550 - val_categorical_accuracy: 0.9329\n",
      "Epoch 7/50\n",
      "717/717 [==============================] - 120s 167ms/step - loss: 0.1227 - categorical_accuracy: 0.9455 - val_loss: 0.1512 - val_categorical_accuracy: 0.9325\n",
      "Epoch 8/50\n",
      "717/717 [==============================] - 119s 166ms/step - loss: 0.1241 - categorical_accuracy: 0.9457 - val_loss: 0.1483 - val_categorical_accuracy: 0.9390\n",
      "Epoch 9/50\n",
      "717/717 [==============================] - 123s 172ms/step - loss: 0.1150 - categorical_accuracy: 0.9492 - val_loss: 0.1400 - val_categorical_accuracy: 0.9416\n",
      "Epoch 10/50\n",
      "717/717 [==============================] - 119s 166ms/step - loss: 0.1128 - categorical_accuracy: 0.9505 - val_loss: 0.1561 - val_categorical_accuracy: 0.9330\n",
      "Epoch 11/50\n",
      "717/717 [==============================] - 119s 166ms/step - loss: 0.1117 - categorical_accuracy: 0.9521 - val_loss: 0.1632 - val_categorical_accuracy: 0.9332\n",
      "Epoch 12/50\n",
      "717/717 [==============================] - 121s 169ms/step - loss: 0.1098 - categorical_accuracy: 0.9529 - val_loss: 0.1330 - val_categorical_accuracy: 0.9447\n",
      "Epoch 13/50\n",
      "717/717 [==============================] - 129s 180ms/step - loss: 0.1046 - categorical_accuracy: 0.9551 - val_loss: 0.1483 - val_categorical_accuracy: 0.9416\n",
      "Epoch 14/50\n",
      "717/717 [==============================] - 121s 169ms/step - loss: 0.1029 - categorical_accuracy: 0.9555 - val_loss: 0.1389 - val_categorical_accuracy: 0.9435\n",
      "Epoch 15/50\n",
      "717/717 [==============================] - 119s 166ms/step - loss: 0.0988 - categorical_accuracy: 0.9577 - val_loss: 0.1324 - val_categorical_accuracy: 0.9452\n",
      "Epoch 16/50\n",
      "717/717 [==============================] - 121s 168ms/step - loss: 0.0986 - categorical_accuracy: 0.9583 - val_loss: 0.1522 - val_categorical_accuracy: 0.9416\n",
      "Epoch 17/50\n",
      "717/717 [==============================] - 120s 168ms/step - loss: 0.0945 - categorical_accuracy: 0.9601 - val_loss: 0.1474 - val_categorical_accuracy: 0.9435\n",
      "Epoch 18/50\n",
      "717/717 [==============================] - 119s 166ms/step - loss: 0.0908 - categorical_accuracy: 0.9612 - val_loss: 0.1251 - val_categorical_accuracy: 0.9503\n",
      "Epoch 19/50\n",
      "717/717 [==============================] - 119s 166ms/step - loss: 0.0879 - categorical_accuracy: 0.9624 - val_loss: 0.1345 - val_categorical_accuracy: 0.9430\n",
      "Epoch 20/50\n",
      "717/717 [==============================] - 128s 178ms/step - loss: 0.0879 - categorical_accuracy: 0.9627 - val_loss: 0.1328 - val_categorical_accuracy: 0.9470\n",
      "Epoch 21/50\n",
      "717/717 [==============================] - 125s 175ms/step - loss: 0.0856 - categorical_accuracy: 0.9625 - val_loss: 0.1263 - val_categorical_accuracy: 0.9486\n",
      "Epoch 22/50\n",
      "717/717 [==============================] - 120s 167ms/step - loss: 0.0838 - categorical_accuracy: 0.9646 - val_loss: 0.1355 - val_categorical_accuracy: 0.9444\n",
      "Epoch 23/50\n",
      "717/717 [==============================] - 120s 167ms/step - loss: 0.0803 - categorical_accuracy: 0.9659 - val_loss: 0.1278 - val_categorical_accuracy: 0.9479\n",
      "Epoch 24/50\n",
      "717/717 [==============================] - 123s 172ms/step - loss: 0.0794 - categorical_accuracy: 0.9665 - val_loss: 0.1209 - val_categorical_accuracy: 0.9573\n",
      "Epoch 25/50\n",
      "717/717 [==============================] - 119s 166ms/step - loss: 0.0826 - categorical_accuracy: 0.9650 - val_loss: 0.1461 - val_categorical_accuracy: 0.9437\n",
      "Epoch 26/50\n",
      "717/717 [==============================] - 119s 167ms/step - loss: 0.0744 - categorical_accuracy: 0.9686 - val_loss: 0.1174 - val_categorical_accuracy: 0.9557\n",
      "Epoch 27/50\n",
      "717/717 [==============================] - 122s 170ms/step - loss: 0.0698 - categorical_accuracy: 0.9709 - val_loss: 0.1224 - val_categorical_accuracy: 0.9550\n",
      "Epoch 28/50\n",
      "717/717 [==============================] - 129s 179ms/step - loss: 0.0715 - categorical_accuracy: 0.9704 - val_loss: 0.1230 - val_categorical_accuracy: 0.9513\n",
      "Epoch 29/50\n",
      "717/717 [==============================] - 120s 167ms/step - loss: 0.0680 - categorical_accuracy: 0.9718 - val_loss: 0.1214 - val_categorical_accuracy: 0.9547\n",
      "Epoch 30/50\n",
      "717/717 [==============================] - 122s 170ms/step - loss: 0.0651 - categorical_accuracy: 0.9727 - val_loss: 0.1260 - val_categorical_accuracy: 0.9519\n",
      "Epoch 31/50\n",
      "717/717 [==============================] - 119s 166ms/step - loss: 0.0672 - categorical_accuracy: 0.9726 - val_loss: 0.1211 - val_categorical_accuracy: 0.9536\n",
      "Epoch 32/50\n",
      "717/717 [==============================] - 119s 166ms/step - loss: 0.0580 - categorical_accuracy: 0.9767 - val_loss: 0.1103 - val_categorical_accuracy: 0.9566\n",
      "Epoch 33/50\n",
      "717/717 [==============================] - 127s 177ms/step - loss: 0.0607 - categorical_accuracy: 0.9749 - val_loss: 0.1359 - val_categorical_accuracy: 0.9473\n",
      "Epoch 34/50\n",
      "717/717 [==============================] - 122s 169ms/step - loss: 0.0608 - categorical_accuracy: 0.9751 - val_loss: 0.1255 - val_categorical_accuracy: 0.9547\n",
      "Epoch 35/50\n",
      "717/717 [==============================] - 120s 167ms/step - loss: 0.0592 - categorical_accuracy: 0.9751 - val_loss: 0.1230 - val_categorical_accuracy: 0.9552\n",
      "Epoch 36/50\n",
      "717/717 [==============================] - 123s 171ms/step - loss: 0.0562 - categorical_accuracy: 0.9772 - val_loss: 0.1269 - val_categorical_accuracy: 0.9550\n",
      "Epoch 37/50\n",
      "717/717 [==============================] - 120s 167ms/step - loss: 0.0546 - categorical_accuracy: 0.9776 - val_loss: 0.1181 - val_categorical_accuracy: 0.9602\n",
      "Epoch 38/50\n",
      "717/717 [==============================] - 120s 167ms/step - loss: 0.0565 - categorical_accuracy: 0.9781 - val_loss: 0.1227 - val_categorical_accuracy: 0.9580\n",
      "Epoch 39/50\n",
      "717/717 [==============================] - 126s 175ms/step - loss: 0.0526 - categorical_accuracy: 0.9792 - val_loss: 0.1230 - val_categorical_accuracy: 0.9587\n",
      "Epoch 40/50\n",
      "717/717 [==============================] - 125s 174ms/step - loss: 0.0511 - categorical_accuracy: 0.9793 - val_loss: 0.1043 - val_categorical_accuracy: 0.9651\n",
      "Epoch 41/50\n",
      "717/717 [==============================] - 120s 167ms/step - loss: 0.0534 - categorical_accuracy: 0.9787 - val_loss: 0.1185 - val_categorical_accuracy: 0.9576\n",
      "Epoch 42/50\n",
      "717/717 [==============================] - 120s 167ms/step - loss: 0.0484 - categorical_accuracy: 0.9809 - val_loss: 0.1189 - val_categorical_accuracy: 0.9595\n",
      "Epoch 43/50\n",
      "717/717 [==============================] - 122s 170ms/step - loss: 0.0494 - categorical_accuracy: 0.9804 - val_loss: 0.1341 - val_categorical_accuracy: 0.9567\n",
      "Epoch 44/50\n",
      "717/717 [==============================] - 119s 166ms/step - loss: 0.0499 - categorical_accuracy: 0.9804 - val_loss: 0.1129 - val_categorical_accuracy: 0.9592\n",
      "Epoch 45/50\n",
      "717/717 [==============================] - 119s 166ms/step - loss: 0.0424 - categorical_accuracy: 0.9833 - val_loss: 0.1087 - val_categorical_accuracy: 0.9656\n",
      "Epoch 46/50\n",
      "717/717 [==============================] - 119s 166ms/step - loss: 0.0464 - categorical_accuracy: 0.9820 - val_loss: 0.1325 - val_categorical_accuracy: 0.9576\n",
      "Epoch 47/50\n",
      "717/717 [==============================] - 119s 166ms/step - loss: 0.0439 - categorical_accuracy: 0.9827 - val_loss: 0.0989 - val_categorical_accuracy: 0.9629\n",
      "Epoch 48/50\n",
      "717/717 [==============================] - 119s 166ms/step - loss: 0.0420 - categorical_accuracy: 0.9832 - val_loss: 0.1055 - val_categorical_accuracy: 0.9637\n",
      "Epoch 49/50\n",
      "717/717 [==============================] - 119s 166ms/step - loss: 0.0420 - categorical_accuracy: 0.9836 - val_loss: 0.1140 - val_categorical_accuracy: 0.9581\n",
      "Epoch 50/50\n",
      "717/717 [==============================] - 119s 167ms/step - loss: 0.0435 - categorical_accuracy: 0.9834 - val_loss: 0.1100 - val_categorical_accuracy: 0.9620\n"
     ]
    },
    {
     "data": {
      "text/plain": [
       "<keras.callbacks.History at 0x7fa48fc28ed0>"
      ]
     },
     "execution_count": 70,
     "metadata": {},
     "output_type": "execute_result"
    }
   ],
   "source": [
    "best.fit(X_train, y_train, batch_size=64, verbose=1, validation_data=(X_val, y_val), epochs=50)"
   ]
  },
  {
   "cell_type": "code",
   "execution_count": 109,
   "metadata": {},
   "outputs": [],
   "source": [
    "with open('Task1.json', 'w') as f:\n",
    "    f.write(best.to_json())\n",
    "best.save('Trained_Task1_2.keras')"
   ]
  },
  {
   "cell_type": "code",
   "execution_count": 110,
   "metadata": {},
   "outputs": [],
   "source": [
    "trained_t1 = keras.models.load_model('Trained_Task1_2.keras')"
   ]
  },
  {
   "cell_type": "code",
   "execution_count": 73,
   "metadata": {},
   "outputs": [
    {
     "name": "stdout",
     "output_type": "stream",
     "text": [
      "180/180 [==============================] - 8s 43ms/step - loss: 0.0982 - categorical_accuracy: 0.9658\n"
     ]
    },
    {
     "data": {
      "text/plain": [
       "[0.09815269708633423, 0.9658119678497314]"
      ]
     },
     "execution_count": 73,
     "metadata": {},
     "output_type": "execute_result"
    }
   ],
   "source": [
    "best.evaluate(X_test, y_test)"
   ]
  },
  {
   "cell_type": "code",
   "execution_count": 107,
   "metadata": {},
   "outputs": [
    {
     "name": "stderr",
     "output_type": "stream",
     "text": [
      "WARNING:absl:Found untraced functions such as _jit_compiled_convolution_op, _jit_compiled_convolution_op, _update_step_xla while saving (showing 3 of 3). These functions will not be directly callable after loading.\n"
     ]
    },
    {
     "name": "stdout",
     "output_type": "stream",
     "text": [
      "INFO:tensorflow:Assets written to: /tmp/tmpds1hy76v/assets\n"
     ]
    },
    {
     "name": "stderr",
     "output_type": "stream",
     "text": [
      "INFO:tensorflow:Assets written to: /tmp/tmpds1hy76v/assets\n",
      "2023-11-03 18:23:00.381609: W tensorflow/compiler/mlir/lite/python/tf_tfl_flatbuffer_helpers.cc:362] Ignored output_format.\n",
      "2023-11-03 18:23:00.381652: W tensorflow/compiler/mlir/lite/python/tf_tfl_flatbuffer_helpers.cc:365] Ignored drop_control_dependency.\n",
      "2023-11-03 18:23:00.382245: I tensorflow/cc/saved_model/reader.cc:45] Reading SavedModel from: /tmp/tmpds1hy76v\n",
      "2023-11-03 18:23:00.388949: I tensorflow/cc/saved_model/reader.cc:89] Reading meta graph with tags { serve }\n",
      "2023-11-03 18:23:00.388991: I tensorflow/cc/saved_model/reader.cc:130] Reading SavedModel debug info (if present) from: /tmp/tmpds1hy76v\n",
      "2023-11-03 18:23:00.423583: I tensorflow/cc/saved_model/loader.cc:229] Restoring SavedModel bundle.\n",
      "2023-11-03 18:23:00.546188: I tensorflow/cc/saved_model/loader.cc:213] Running initialization op on SavedModel bundle at path: /tmp/tmpds1hy76v\n",
      "2023-11-03 18:23:00.593967: I tensorflow/cc/saved_model/loader.cc:305] SavedModel load for tags { serve }; Status: success: OK. Took 211723 microseconds.\n",
      "2023-11-03 18:23:00.968504: W tensorflow/compiler/mlir/lite/flatbuffer_export.cc:2046] TFLite interpreter needs to link Flex delegate in order to run the model since it contains the following Select TFop(s):\n",
      "Flex ops: FlexTensorListReserve, FlexTensorListSetItem, FlexTensorListStack\n",
      "Details:\n",
      "\ttf.TensorListReserve(tensor<2xi32>, tensor<i32>) -> (tensor<!tf_type.variant<tensor<?x192xf32>>>) : {device = \"\"}\n",
      "\ttf.TensorListReserve(tensor<2xi32>, tensor<i32>) -> (tensor<!tf_type.variant<tensor<?x224xf32>>>) : {device = \"\"}\n",
      "\ttf.TensorListSetItem(tensor<!tf_type.variant<tensor<?x192xf32>>>, tensor<i32>, tensor<?x192xf32>) -> (tensor<!tf_type.variant<tensor<?x192xf32>>>) : {device = \"\"}\n",
      "\ttf.TensorListSetItem(tensor<!tf_type.variant<tensor<?x224xf32>>>, tensor<i32>, tensor<?x224xf32>) -> (tensor<!tf_type.variant<tensor<?x224xf32>>>) : {device = \"\"}\n",
      "\ttf.TensorListStack(tensor<!tf_type.variant<tensor<?x192xf32>>>, tensor<2xi32>) -> (tensor<?x?x192xf32>) : {device = \"\", num_elements = -1 : i64}\n",
      "\ttf.TensorListStack(tensor<!tf_type.variant<tensor<?x224xf32>>>, tensor<2xi32>) -> (tensor<?x?x224xf32>) : {device = \"\", num_elements = -1 : i64}\n",
      "See instructions: https://www.tensorflow.org/lite/guide/ops_select\n"
     ]
    }
   ],
   "source": [
    "converter = tf.lite.TFLiteConverter.from_keras_model(best)\n",
    "converter.target_spec.supported_ops = [tf.lite.OpsSet.TFLITE_BUILTINS, tf.lite.OpsSet.SELECT_TF_OPS]\n",
    "converter._experimental_lower_tensor_list_ops = False\n",
    "tflite_model = converter.convert()\n",
    "\n",
    "# Save the model.\n",
    "with open('APP_READY_cnn_lstm_physical.tflite', 'wb') as f:\n",
    "  f.write(tflite_model)"
   ]
  },
  {
   "cell_type": "code",
   "execution_count": 1,
   "metadata": {},
   "outputs": [
    {
     "ename": "NameError",
     "evalue": "name 'X_respeck' is not defined",
     "output_type": "error",
     "traceback": [
      "\u001b[0;31m---------------------------------------------------------------------------\u001b[0m",
      "\u001b[0;31mNameError\u001b[0m                                 Traceback (most recent call last)",
      "\u001b[1;32m/Users/apple/Library/Mobile Documents/com~apple~CloudDocs/Year 3/Final-Project/0 Modules/IoT/PDIoT-cw3-q1-1/Models/Task1_cnn_lstm.ipynb Cell 17\u001b[0m line \u001b[0;36m7\n\u001b[1;32m      <a href='vscode-notebook-cell:/Users/apple/Library/Mobile%20Documents/com~apple~CloudDocs/Year%203/Final-Project/0%20Modules/IoT/PDIoT-cw3-q1-1/Models/Task1_cnn_lstm.ipynb#X22sZmlsZQ%3D%3D?line=4'>5</a>\u001b[0m X_respeck_stationary \u001b[39m=\u001b[39m []\n\u001b[1;32m      <a href='vscode-notebook-cell:/Users/apple/Library/Mobile%20Documents/com~apple~CloudDocs/Year%203/Final-Project/0%20Modules/IoT/PDIoT-cw3-q1-1/Models/Task1_cnn_lstm.ipynb#X22sZmlsZQ%3D%3D?line=5'>6</a>\u001b[0m y_respeck_stationary \u001b[39m=\u001b[39m []\n\u001b[0;32m----> <a href='vscode-notebook-cell:/Users/apple/Library/Mobile%20Documents/com~apple~CloudDocs/Year%203/Final-Project/0%20Modules/IoT/PDIoT-cw3-q1-1/Models/Task1_cnn_lstm.ipynb#X22sZmlsZQ%3D%3D?line=6'>7</a>\u001b[0m \u001b[39mfor\u001b[39;00m i \u001b[39min\u001b[39;00m \u001b[39mrange\u001b[39m(\u001b[39mlen\u001b[39m(X_respeck)):\n\u001b[1;32m      <a href='vscode-notebook-cell:/Users/apple/Library/Mobile%20Documents/com~apple~CloudDocs/Year%203/Final-Project/0%20Modules/IoT/PDIoT-cw3-q1-1/Models/Task1_cnn_lstm.ipynb#X22sZmlsZQ%3D%3D?line=7'>8</a>\u001b[0m     \u001b[39mif\u001b[39;00m \u001b[39mnot\u001b[39;00m tasks[np\u001b[39m.\u001b[39margmax(y_respeck[i])] \u001b[39min\u001b[39;00m [\u001b[39m\"\u001b[39m\u001b[39mnormal walking\u001b[39m\u001b[39m\"\u001b[39m, \u001b[39m\"\u001b[39m\u001b[39mshuffle walking\u001b[39m\u001b[39m\"\u001b[39m,\u001b[39m\"\u001b[39m\u001b[39mrunning\u001b[39m\u001b[39m\"\u001b[39m, \u001b[39m\"\u001b[39m\u001b[39mmiscellaneous movements\u001b[39m\u001b[39m\"\u001b[39m, \u001b[39m\"\u001b[39m\u001b[39mascending stairs\u001b[39m\u001b[39m\"\u001b[39m, \u001b[39m\"\u001b[39m\u001b[39mdescending stairs\u001b[39m\u001b[39m\"\u001b[39m]:\n\u001b[1;32m      <a href='vscode-notebook-cell:/Users/apple/Library/Mobile%20Documents/com~apple~CloudDocs/Year%203/Final-Project/0%20Modules/IoT/PDIoT-cw3-q1-1/Models/Task1_cnn_lstm.ipynb#X22sZmlsZQ%3D%3D?line=8'>9</a>\u001b[0m         X_respeck_stationary\u001b[39m.\u001b[39mappend(X_respeck[i])\n",
      "\u001b[0;31mNameError\u001b[0m: name 'X_respeck' is not defined"
     ]
    }
   ],
   "source": [
    "tasks = ['ascending stairs', 'descending stairs', 'lying down back',\n",
    "       'lying down on left', 'lying down on stomach', 'lying down right',\n",
    "       'miscellaneous movements', 'normal walking', 'running',\n",
    "       'shuffle walking', 'sitting', 'standing']\n",
    "X_respeck_stationary = []\n",
    "y_respeck_stationary = []\n",
    "for i in range(len(X_respeck)):\n",
    "    if not tasks[np.argmax(y_respeck[i])] in [\"normal walking\", \"shuffle walking\",\"running\", \"miscellaneous movements\", \"ascending stairs\", \"descending stairs\"]:\n",
    "        X_respeck_stationary.append(X_respeck[i])\n",
    "        y_respeck_stationary.append(np.array([tasks[np.argmax(y_respeck[i])]]))\n",
    "        \n",
    "X_respeck_2 = np.array(X_respeck_stationary)\n",
    "y_respeck_2 = np.array(y_respeck_stationary)\n"
   ]
  },
  {
   "cell_type": "code",
   "execution_count": 105,
   "metadata": {},
   "outputs": [
    {
     "name": "stdout",
     "output_type": "stream",
     "text": [
      "['lying down back' 'lying down on left' 'lying down on stomach'\n",
      " 'lying down right' 'sitting' 'standing']\n",
      "(39614, 12)\n"
     ]
    }
   ],
   "source": [
    "X_train, X_temp, y_train, y_temp = train_test_split(X_respeck_2, y_respeck_2, test_size=0.2, random_state=42)\n",
    "X_test, X_val, y_test, y_val = train_test_split(X_temp, y_temp, test_size=0.5, random_state=42)\n",
    "print(np.unique(y_train))\n",
    "y_train = enc.transform(y_train)\n",
    "y_val = enc.transform(y_val)\n",
    "y_test = enc.transform(y_test)\n",
    "print(y_train.shape)"
   ]
  },
  {
   "cell_type": "code",
   "execution_count": 113,
   "metadata": {},
   "outputs": [
    {
     "name": "stdout",
     "output_type": "stream",
     "text": [
      "155/155 [==============================] - 8s 43ms/step - loss: 0.0417 - categorical_accuracy: 0.9838\n"
     ]
    },
    {
     "data": {
      "text/plain": [
       "[0.04170555993914604, 0.9838449358940125]"
      ]
     },
     "execution_count": 113,
     "metadata": {},
     "output_type": "execute_result"
    }
   ],
   "source": [
    "trained_t1.evaluate(X_test, y_test.toarray())"
   ]
  }
 ],
 "metadata": {
  "kernelspec": {
   "display_name": "Python 3",
   "language": "python",
   "name": "python3"
  },
  "language_info": {
   "codemirror_mode": {
    "name": "ipython",
    "version": 3
   },
   "file_extension": ".py",
   "mimetype": "text/x-python",
   "name": "python",
   "nbconvert_exporter": "python",
   "pygments_lexer": "ipython3",
   "version": "3.8.12"
  }
 },
 "nbformat": 4,
 "nbformat_minor": 2
}
