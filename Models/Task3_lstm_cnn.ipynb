{
 "cells": [
  {
   "cell_type": "code",
   "execution_count": 4,
   "metadata": {},
   "outputs": [],
   "source": [
    "import numpy as np\n",
    "import pandas as pd\n",
    "from scipy.fft import fft, ifft\n",
    "from scipy.interpolate import interp1d\n",
    "from scipy.stats import entropy, iqr, kurtosis, mode, skew\n",
    "from sklearn.decomposition import PCA\n",
    "from sklearn.metrics import classification_report, confusion_matrix, ConfusionMatrixDisplay\n",
    "from sklearn.model_selection import train_test_split\n",
    "from sklearn.preprocessing import LabelEncoder, OneHotEncoder, StandardScaler\n",
    "import tensorflow as tf\n",
    "from tensorflow import keras\n",
    "from tensorflow.keras.callbacks import EarlyStopping, ModelCheckpoint\n",
    "from tensorflow.keras.layers import (Activation, BatchNormalization, Bidirectional,\n",
    "                                     Conv1D, Conv2D, Dense, Dropout,\n",
    "                                     Flatten, GlobalAveragePooling1D, LSTM,\n",
    "                                     MaxPool1D, MaxPooling2D, Reshape,\n",
    "                                     TimeDistributed)\n",
    "from tensorflow.keras.models import Sequential\n",
    "from tensorflow.keras.utils import to_categorical\n",
    "import matplotlib.pyplot as plt\n",
    "import os\n",
    "import pickle\n",
    "from pandas import read_csv, unique\n",
    "from scipy.signal import argrelextrema, butter, find_peaks, lfilter, lfilter_zi\n",
    "from tensorflow import keras\n",
    "from tensorflow.keras.losses import categorical_crossentropy\n",
    "from tensorflow.keras.optimizers import Adam\n",
    "from tensorflow.keras.metrics import categorical_accuracy\n",
    "from kerastuner import RandomSearch, Hyperband\n",
    "import kerastuner\n"
   ]
  },
  {
   "cell_type": "code",
   "execution_count": 58,
   "metadata": {},
   "outputs": [
    {
     "name": "stdout",
     "output_type": "stream",
     "text": [
      "['coughing' 'eating' 'hyperventilating' 'laughing' 'normal' 'singing'\n",
      " 'talking']\n",
      "['eating' 'laughing' 'singing' 'talking']\n",
      "[array(['eating', 'laughing', 'singing', 'talking'], dtype='<U8')]\n",
      "(26053, 50, 10)\n"
     ]
    }
   ],
   "source": [
    "X_respeck = pickle.load(open(\"X_respeck_resp_other\", \"rb\"))\n",
    "y_respeck = pickle.load(open(\"y_respeck_resp_other\", \"rb\"))\n",
    "y_respeck_phys = [[x[0].split('|')[0]] for x in y_respeck] # get only physical activities\n",
    "y_respeck = [x[0].split('|') for x in y_respeck] # get only subactivities\n",
    "\n",
    "print(np.unique(y_respeck))\n",
    "y_respeck_task2 = []\n",
    "for i in range(len(y_respeck)):\n",
    "    if y_respeck[i][0] in ['normal', 'hyperventilating', 'coughing']:\n",
    "        y_respeck_task2.append(y_respeck[i][0])\n",
    "    else:\n",
    "        y_respeck_task2.append('other')     \n",
    "y_respeck_task2 = np.array(y_respeck_task2).reshape(-1,1)\n",
    "enc = OneHotEncoder(handle_unknown='ignore')\n",
    "print(np.unique(y_respeck_task2))\n",
    "enc_fitted = enc.fit(y_respeck_task2)\n",
    "print(enc_fitted.categories_)\n",
    "y_respeck_task2 = enc.transform(y_respeck_task2).toarray()\n",
    "print(enc_fitted.categories_)# One Hot is inexed as this array prints!!!!!\n",
    "y_respeck_task2 = np.array(y_respeck_task2)\n",
    "\n",
    "\n",
    "X_respeck_task3 = []\n",
    "y_respeck_task3 = []\n",
    "for i in range(len(y_respeck)):\n",
    "    if not y_respeck[i][0] in ['normal', 'hyperventilating', 'coughing']:\n",
    "        X_respeck_task3.append(X_respeck[i])\n",
    "        y_respeck_task3.append(y_respeck[i][0])\n",
    "y_respeck_task3 = np.array(y_respeck_task3).reshape(-1,1)\n",
    "enc_fitted = enc.fit(y_respeck_task3)\n",
    "enc_fitted.categories_\n",
    "print(np.unique(y_respeck_task3))\n",
    "X_respeck_task3 = np.array(X_respeck_task3)\n",
    "y_respeck_task3 = enc.transform(y_respeck_task3).toarray()\n",
    "print(enc_fitted.categories_)# One Hot is inexed as this array prints!!!!!\n",
    "print(X_respeck_task3.shape)"
   ]
  },
  {
   "cell_type": "code",
   "execution_count": 34,
   "metadata": {},
   "outputs": [],
   "source": [
    "# X_train, X_temp, y_train, y_temp = train_test_split(X_respeck, y_respeck_task2, test_size=0.2, random_state=42)\n",
    "# X_test, X_val, y_test, y_val = train_test_split(X_temp, y_temp, test_size=0.5, random_state=42)"
   ]
  },
  {
   "cell_type": "code",
   "execution_count": 59,
   "metadata": {},
   "outputs": [],
   "source": [
    "X_train, X_temp, y_train, y_temp = train_test_split(X_respeck_task3, y_respeck_task3, test_size=0.2, random_state=42)\n",
    "X_test, X_val, y_test, y_val = train_test_split(X_temp, y_temp, test_size=0.5, random_state=42)"
   ]
  },
  {
   "cell_type": "code",
   "execution_count": 60,
   "metadata": {},
   "outputs": [],
   "source": [
    "def build_model(hp):\n",
    "    model = Sequential()\n",
    "    model.add(LSTM(units=hp.Int('lstm_units1', min_value=16, max_value=156, step=16), return_sequences=True, input_shape=X_train[0].shape, activation='relu'))\n",
    "    model.add(LSTM(units=hp.Int('lstm_units2', min_value=16, max_value=256, step=16), return_sequences=True, activation='relu'))\n",
    "    model.add(Conv1D(filters=hp.Int('conv1d_filters1', min_value=16, max_value=256, step=16), kernel_size=hp.Int('conv1d_kernel_size1', min_value=2, max_value=5), activation='relu', strides=2))\n",
    "    model.add(MaxPool1D(pool_size=hp.Int('maxpool1d_pool_size', min_value=2, max_value=5), padding='same'))\n",
    "    model.add(Conv1D(filters=hp.Int('conv1d_filters2', min_value=16, max_value=256, step=16), kernel_size=hp.Int('conv1d_kernel_size2', min_value=2, max_value=5), activation='relu', strides=1))\n",
    "    model.add(GlobalAveragePooling1D())\n",
    "    model.add(BatchNormalization(epsilon=1e-06))\n",
    "    model.add(Dense(y_train.shape[1], activation='softmax'))\n",
    "\n",
    "    # Compile the model with tunable hyperparameters\n",
    "    model.compile(\n",
    "        optimizer=Adam(learning_rate=hp.Float('learning_rate', min_value=1e-4, max_value=1e-2, sampling='log')),\n",
    "        loss=categorical_crossentropy,\n",
    "        metrics=['categorical_accuracy']\n",
    "    )\n",
    "    \n",
    "    return model"
   ]
  },
  {
   "cell_type": "code",
   "execution_count": 61,
   "metadata": {},
   "outputs": [
    {
     "name": "stdout",
     "output_type": "stream",
     "text": [
      "INFO:tensorflow:Reloading Oracle from existing project tuner_dir/task3_task3_sub_hb/oracle.json\n"
     ]
    }
   ],
   "source": [
    "from kerastuner.tuners import BayesianOptimization\n",
    "\n",
    "# tuner = Hyperband(\n",
    "#     build_model,\n",
    "#     factor=3,  # Reduction factor for the number of models in each bracket\n",
    "#     max_epochs=20,  # Maximum number of training epochs for each model\n",
    "#     objective='categorical_accuracy',  # The metric to optimize\n",
    "#     directory='tuner_dir',  # Directory to store results\n",
    "#     project_name='cnn_lstm_task_no_pre', # Name of the tuning project\n",
    "# )\n",
    "\n",
    "tuner = Hyperband(\n",
    "    build_model,\n",
    "    factor=3,  # Reduction factor for the number of models in each bracket\n",
    "    max_epochs=20,  # Maximum number of training epochs for each model\n",
    "    objective='categorical_accuracy',  # The metric to optimize\n",
    "    directory='tuner_dir',  # Directory to store results\n",
    "    project_name='task3_task3_sub_hb'  # Name of the tuning project\n",
    ")\n",
    "\n"
   ]
  },
  {
   "cell_type": "code",
   "execution_count": 62,
   "metadata": {},
   "outputs": [
    {
     "name": "stdout",
     "output_type": "stream",
     "text": [
      "Trial 30 Complete [00h 11m 12s]\n",
      "categorical_accuracy: 0.7042510509490967\n",
      "\n",
      "Best categorical_accuracy So Far: 0.7042510509490967\n",
      "Total elapsed time: 02h 21m 16s\n",
      "INFO:tensorflow:Oracle triggered exit\n"
     ]
    }
   ],
   "source": [
    "tuner.search(X_train, y_train, validation_data=(X_val, y_val), batch_size=64, shuffle=False)"
   ]
  },
  {
   "cell_type": "code",
   "execution_count": 63,
   "metadata": {},
   "outputs": [],
   "source": [
    "best = tuner.get_best_models()[0]"
   ]
  },
  {
   "cell_type": "code",
   "execution_count": 69,
   "metadata": {},
   "outputs": [
    {
     "name": "stdout",
     "output_type": "stream",
     "text": [
      "Epoch 1/50\n",
      "326/326 [==============================] - 36s 110ms/step - loss: 0.2648 - categorical_accuracy: 0.8911 - val_loss: 0.4646 - val_categorical_accuracy: 0.8181\n",
      "Epoch 2/50\n",
      "326/326 [==============================] - 39s 120ms/step - loss: 0.2660 - categorical_accuracy: 0.8896 - val_loss: 0.4681 - val_categorical_accuracy: 0.8250\n",
      "Epoch 3/50\n",
      "326/326 [==============================] - 38s 117ms/step - loss: 0.2626 - categorical_accuracy: 0.8908 - val_loss: 0.4838 - val_categorical_accuracy: 0.8081\n",
      "Epoch 4/50\n",
      "326/326 [==============================] - 34s 104ms/step - loss: 0.2579 - categorical_accuracy: 0.8931 - val_loss: 0.4851 - val_categorical_accuracy: 0.8093\n",
      "Epoch 5/50\n",
      "326/326 [==============================] - 29s 88ms/step - loss: 0.2525 - categorical_accuracy: 0.8968 - val_loss: 0.4879 - val_categorical_accuracy: 0.8112\n",
      "Epoch 6/50\n",
      "326/326 [==============================] - 32s 97ms/step - loss: 0.2415 - categorical_accuracy: 0.9021 - val_loss: 0.5301 - val_categorical_accuracy: 0.8097\n",
      "Epoch 7/50\n",
      "326/326 [==============================] - 32s 98ms/step - loss: 0.2480 - categorical_accuracy: 0.8978 - val_loss: 0.4615 - val_categorical_accuracy: 0.8243\n",
      "Epoch 8/50\n",
      "326/326 [==============================] - 30s 91ms/step - loss: 0.2340 - categorical_accuracy: 0.9039 - val_loss: 0.4717 - val_categorical_accuracy: 0.8193\n",
      "Epoch 9/50\n",
      "326/326 [==============================] - 44s 135ms/step - loss: 0.2326 - categorical_accuracy: 0.9036 - val_loss: 0.4689 - val_categorical_accuracy: 0.8308\n",
      "Epoch 10/50\n",
      "326/326 [==============================] - 47s 144ms/step - loss: 0.2352 - categorical_accuracy: 0.9050 - val_loss: 0.5052 - val_categorical_accuracy: 0.8147\n",
      "Epoch 11/50\n",
      "326/326 [==============================] - 47s 145ms/step - loss: 0.2205 - categorical_accuracy: 0.9114 - val_loss: 0.5623 - val_categorical_accuracy: 0.8078\n",
      "Epoch 12/50\n",
      "326/326 [==============================] - 46s 140ms/step - loss: 0.2228 - categorical_accuracy: 0.9099 - val_loss: 0.5285 - val_categorical_accuracy: 0.8047\n",
      "Epoch 13/50\n",
      "326/326 [==============================] - 34s 103ms/step - loss: 0.2161 - categorical_accuracy: 0.9105 - val_loss: 0.4529 - val_categorical_accuracy: 0.8308\n",
      "Epoch 14/50\n",
      "326/326 [==============================] - 47s 144ms/step - loss: 0.2139 - categorical_accuracy: 0.9146 - val_loss: 0.4752 - val_categorical_accuracy: 0.8196\n",
      "Epoch 15/50\n",
      "326/326 [==============================] - 47s 143ms/step - loss: 0.2143 - categorical_accuracy: 0.9145 - val_loss: 0.4922 - val_categorical_accuracy: 0.8231\n",
      "Epoch 16/50\n",
      "326/326 [==============================] - 47s 144ms/step - loss: 0.2063 - categorical_accuracy: 0.9179 - val_loss: 0.4748 - val_categorical_accuracy: 0.8319\n",
      "Epoch 17/50\n",
      "326/326 [==============================] - 45s 137ms/step - loss: 0.2088 - categorical_accuracy: 0.9176 - val_loss: 0.4881 - val_categorical_accuracy: 0.8189\n",
      "Epoch 18/50\n",
      "326/326 [==============================] - 58s 178ms/step - loss: 0.2071 - categorical_accuracy: 0.9169 - val_loss: 0.5162 - val_categorical_accuracy: 0.8101\n",
      "Epoch 19/50\n",
      "326/326 [==============================] - 59s 181ms/step - loss: 0.1966 - categorical_accuracy: 0.9215 - val_loss: 0.4616 - val_categorical_accuracy: 0.8434\n",
      "Epoch 20/50\n",
      "326/326 [==============================] - 57s 176ms/step - loss: 0.1950 - categorical_accuracy: 0.9231 - val_loss: 0.4715 - val_categorical_accuracy: 0.8388\n",
      "Epoch 21/50\n",
      "326/326 [==============================] - 56s 170ms/step - loss: 0.1887 - categorical_accuracy: 0.9251 - val_loss: 0.4408 - val_categorical_accuracy: 0.8446\n",
      "Epoch 22/50\n",
      "326/326 [==============================] - 61s 187ms/step - loss: 0.1883 - categorical_accuracy: 0.9254 - val_loss: 0.4703 - val_categorical_accuracy: 0.8312\n",
      "Epoch 23/50\n",
      "326/326 [==============================] - 58s 177ms/step - loss: 0.1815 - categorical_accuracy: 0.9291 - val_loss: 0.4680 - val_categorical_accuracy: 0.8304\n",
      "Epoch 24/50\n",
      "326/326 [==============================] - 55s 168ms/step - loss: 0.1780 - categorical_accuracy: 0.9304 - val_loss: 0.4546 - val_categorical_accuracy: 0.8373\n",
      "Epoch 25/50\n",
      "326/326 [==============================] - 57s 175ms/step - loss: 0.1740 - categorical_accuracy: 0.9328 - val_loss: 0.5258 - val_categorical_accuracy: 0.8250\n",
      "Epoch 26/50\n",
      "326/326 [==============================] - 53s 162ms/step - loss: 0.1729 - categorical_accuracy: 0.9332 - val_loss: 0.4681 - val_categorical_accuracy: 0.8262\n",
      "Epoch 27/50\n",
      "326/326 [==============================] - 44s 134ms/step - loss: 0.1729 - categorical_accuracy: 0.9323 - val_loss: 0.4756 - val_categorical_accuracy: 0.8404\n",
      "Epoch 28/50\n",
      "326/326 [==============================] - 43s 133ms/step - loss: 0.1675 - categorical_accuracy: 0.9362 - val_loss: 0.5045 - val_categorical_accuracy: 0.8304\n",
      "Epoch 29/50\n",
      "326/326 [==============================] - 44s 134ms/step - loss: 0.1662 - categorical_accuracy: 0.9354 - val_loss: 0.4630 - val_categorical_accuracy: 0.8465\n",
      "Epoch 30/50\n",
      "326/326 [==============================] - 43s 132ms/step - loss: 0.1606 - categorical_accuracy: 0.9382 - val_loss: 0.4707 - val_categorical_accuracy: 0.8423\n",
      "Epoch 31/50\n",
      "326/326 [==============================] - 44s 135ms/step - loss: 0.1666 - categorical_accuracy: 0.9328 - val_loss: 0.4830 - val_categorical_accuracy: 0.8377\n",
      "Epoch 32/50\n",
      "326/326 [==============================] - 35s 106ms/step - loss: 0.1582 - categorical_accuracy: 0.9396 - val_loss: 0.5318 - val_categorical_accuracy: 0.8246\n",
      "Epoch 33/50\n",
      "326/326 [==============================] - 30s 93ms/step - loss: 0.1571 - categorical_accuracy: 0.9401 - val_loss: 0.4986 - val_categorical_accuracy: 0.8457\n",
      "Epoch 34/50\n",
      "326/326 [==============================] - 37s 113ms/step - loss: 0.1570 - categorical_accuracy: 0.9387 - val_loss: 0.5367 - val_categorical_accuracy: 0.8346\n",
      "Epoch 35/50\n",
      "326/326 [==============================] - 43s 133ms/step - loss: 0.1407 - categorical_accuracy: 0.9464 - val_loss: 0.5434 - val_categorical_accuracy: 0.8354\n",
      "Epoch 36/50\n",
      "326/326 [==============================] - 43s 133ms/step - loss: 0.1500 - categorical_accuracy: 0.9423 - val_loss: 0.4497 - val_categorical_accuracy: 0.8507\n",
      "Epoch 37/50\n",
      "326/326 [==============================] - 43s 133ms/step - loss: 0.1500 - categorical_accuracy: 0.9404 - val_loss: 0.5114 - val_categorical_accuracy: 0.8480\n",
      "Epoch 38/50\n",
      "326/326 [==============================] - 44s 136ms/step - loss: 0.1501 - categorical_accuracy: 0.9412 - val_loss: 1.3841 - val_categorical_accuracy: 0.8392\n",
      "Epoch 39/50\n",
      "326/326 [==============================] - 50s 154ms/step - loss: 0.1393 - categorical_accuracy: 0.9465 - val_loss: 1.3464 - val_categorical_accuracy: 0.8503\n",
      "Epoch 40/50\n",
      "326/326 [==============================] - 51s 156ms/step - loss: 0.1391 - categorical_accuracy: 0.9474 - val_loss: 1.1180 - val_categorical_accuracy: 0.8465\n",
      "Epoch 41/50\n",
      "326/326 [==============================] - 49s 152ms/step - loss: 0.1303 - categorical_accuracy: 0.9496 - val_loss: 0.7461 - val_categorical_accuracy: 0.8384\n",
      "Epoch 42/50\n",
      "326/326 [==============================] - 49s 149ms/step - loss: 0.1345 - categorical_accuracy: 0.9486 - val_loss: 0.6189 - val_categorical_accuracy: 0.8292\n",
      "Epoch 43/50\n",
      "326/326 [==============================] - 47s 143ms/step - loss: 0.1367 - categorical_accuracy: 0.9483 - val_loss: 0.4818 - val_categorical_accuracy: 0.8408\n",
      "Epoch 44/50\n",
      "326/326 [==============================] - 46s 140ms/step - loss: 0.1295 - categorical_accuracy: 0.9503 - val_loss: 0.5313 - val_categorical_accuracy: 0.8327\n",
      "Epoch 45/50\n",
      "326/326 [==============================] - 51s 158ms/step - loss: 0.1316 - categorical_accuracy: 0.9512 - val_loss: 0.4557 - val_categorical_accuracy: 0.8484\n",
      "Epoch 46/50\n",
      "326/326 [==============================] - 51s 155ms/step - loss: 0.1238 - categorical_accuracy: 0.9532 - val_loss: 0.4338 - val_categorical_accuracy: 0.8668\n",
      "Epoch 47/50\n",
      "326/326 [==============================] - 56s 171ms/step - loss: 0.1322 - categorical_accuracy: 0.9492 - val_loss: 0.5289 - val_categorical_accuracy: 0.8557\n",
      "Epoch 48/50\n",
      "326/326 [==============================] - 52s 159ms/step - loss: 0.1268 - categorical_accuracy: 0.9533 - val_loss: 0.5228 - val_categorical_accuracy: 0.8384\n",
      "Epoch 49/50\n",
      "326/326 [==============================] - 50s 155ms/step - loss: 0.1269 - categorical_accuracy: 0.9521 - val_loss: 0.4683 - val_categorical_accuracy: 0.8588\n",
      "Epoch 50/50\n",
      "326/326 [==============================] - 49s 152ms/step - loss: 0.1180 - categorical_accuracy: 0.9540 - val_loss: 0.6434 - val_categorical_accuracy: 0.8530\n"
     ]
    },
    {
     "data": {
      "text/plain": [
       "<keras.callbacks.History at 0x7f9f3d970e10>"
      ]
     },
     "execution_count": 69,
     "metadata": {},
     "output_type": "execute_result"
    }
   ],
   "source": [
    "best.fit(X_train, y_train, epochs=50, batch_size=64, validation_data=(X_val, y_val))"
   ]
  },
  {
   "cell_type": "code",
   "execution_count": 70,
   "metadata": {},
   "outputs": [],
   "source": [
    "# ran task 3 task 3 sub with a further 100 epochs - 120 total\n",
    "with open('Task3_Task3.json', 'w') as f:\n",
    "    f.write(best.to_json())\n",
    "best.save('Trained_Task3_Task3.keras')"
   ]
  },
  {
   "cell_type": "code",
   "execution_count": 71,
   "metadata": {},
   "outputs": [
    {
     "name": "stdout",
     "output_type": "stream",
     "text": [
      "82/82 [==============================] - 4s 46ms/step - loss: 0.4939 - categorical_accuracy: 0.8464\n"
     ]
    },
    {
     "data": {
      "text/plain": [
       "[0.493854820728302, 0.8464491367340088]"
      ]
     },
     "execution_count": 71,
     "metadata": {},
     "output_type": "execute_result"
    }
   ],
   "source": [
    "best.evaluate(X_test, y_test)"
   ]
  },
  {
   "cell_type": "code",
   "execution_count": 72,
   "metadata": {},
   "outputs": [
    {
     "name": "stdout",
     "output_type": "stream",
     "text": [
      "82/82 [==============================] - 4s 46ms/step\n",
      "[9.0607780e-01 4.0921327e-07 2.0585076e-05 9.3901075e-02]\n",
      "[1. 0. 0. 0.]\n"
     ]
    },
    {
     "data": {
      "image/png": "[encoded data removed]",
      "text/plain": [
       "<Figure size 640x480 with 2 Axes>"
      ]
     },
     "metadata": {},
     "output_type": "display_data"
    }
   ],
   "source": [
    "\n",
    "predictions = best.predict(X_test)\n",
    "print(predictions[0])\n",
    "print(y_test[0])\n",
    "cm = confusion_matrix(np.argmax(y_test, axis =1), np.argmax(predictions, axis =1))\n",
    "cm_disp = ConfusionMatrixDisplay(confusion_matrix= cm)\n",
    "cm_disp.plot()\n",
    "plt.show()"
   ]
  },
  {
   "cell_type": "code",
   "execution_count": 68,
   "metadata": {},
   "outputs": [
    {
     "name": "stdout",
     "output_type": "stream",
     "text": [
      "82/82 [==============================] - 2s 26ms/step - loss: 0.5052 - categorical_accuracy: 0.8157\n"
     ]
    },
    {
     "data": {
      "text/plain": [
       "[0.5052124857902527, 0.8157389760017395]"
      ]
     },
     "execution_count": 68,
     "metadata": {},
     "output_type": "execute_result"
    }
   ],
   "source": [
    "best.evaluate(X_test, y_test)"
   ]
  },
  {
   "cell_type": "code",
   "execution_count": 9,
   "metadata": {},
   "outputs": [
    {
     "name": "stderr",
     "output_type": "stream",
     "text": [
      "2023-11-03 10:44:00.787691: W tensorflow/compiler/xla/stream_executor/platform/default/dso_loader.cc:64] Could not load dynamic library 'libcuda.so.1'; dlerror: libcuda.so.1: cannot open shared object file: No such file or directory\n",
      "2023-11-03 10:44:00.787857: W tensorflow/compiler/xla/stream_executor/cuda/cuda_driver.cc:265] failed call to cuInit: UNKNOWN ERROR (303)\n",
      "2023-11-03 10:44:00.787902: I tensorflow/compiler/xla/stream_executor/cuda/cuda_diagnostics.cc:156] kernel driver does not appear to be running on this host (dan-HP-ENVY-x360-Convertible-13-ay0xxx): /proc/driver/nvidia/version does not exist\n",
      "2023-11-03 10:44:00.788322: I tensorflow/core/platform/cpu_feature_guard.cc:193] This TensorFlow binary is optimized with oneAPI Deep Neural Network Library (oneDNN) to use the following CPU instructions in performance-critical operations:  AVX2 FMA\n",
      "To enable them in other operations, rebuild TensorFlow with the appropriate compiler flags.\n"
     ]
    }
   ],
   "source": [
    "task1 = keras.models.load_model('Trained_Task1.keras')\n",
    "task2_others = keras.models.load_model('Trained_Task2_others.keras')\n",
    "task3 = keras.models.load_model('Trained_Task3_Task3.keras')"
   ]
  },
  {
   "cell_type": "code",
   "execution_count": null,
   "metadata": {},
   "outputs": [],
   "source": []
  },
  {
   "cell_type": "code",
   "execution_count": 12,
   "metadata": {},
   "outputs": [
    {
     "name": "stdout",
     "output_type": "stream",
     "text": [
      "180/180 [==============================] - 5s 26ms/step\n",
      "lying down on left\n"
     ]
    }
   ],
   "source": [
    "def predict_task3(X):\n",
    "    physical_action = task1.predict(X)\n",
    "    physical_action = np.argmax(physical_action, axis=1)\n",
    "    prediction_labels = ['ascending stairs', 'descending stairs', 'lying down back',\n",
    "        'lying down on left', 'lying down on stomach', 'lying down right',\n",
    "        'miscellaneous movements', 'normal walking', 'running',\n",
    "        'shuffle walking', 'sitting', 'standing']\n",
    "    physical_prediction = [prediction_labels[i] for i in physical_action]\n",
    "    subtype_prediction = task3.predict(X)\n",
    "    subtype_prediction = np.argmax(subtype_prediction, axis=1)\n",
    "    \n",
    "predict_task3(X_test)"
   ]
  }
 ],
 "metadata": {
  "kernelspec": {
   "display_name": "pdiot",
   "language": "python",
   "name": "python3"
  },
  "language_info": {
   "codemirror_mode": {
    "name": "ipython",
    "version": 3
   },
   "file_extension": ".py",
   "mimetype": "text/x-python",
   "name": "python",
   "nbconvert_exporter": "python",
   "pygments_lexer": "ipython3",
   "version": "3.7.16"
  }
 },
 "nbformat": 4,
 "nbformat_minor": 2
}
