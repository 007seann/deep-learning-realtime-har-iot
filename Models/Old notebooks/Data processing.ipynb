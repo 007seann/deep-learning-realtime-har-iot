{
 "cells": [
  {
   "cell_type": "code",
   "execution_count": 34,
   "id": "ee95509e",
   "metadata": {
    "scrolled": true
   },
   "outputs": [],
   "source": [
    "import os\n",
    "import pandas as pd\n",
    "import numpy as np\n",
    "from sklearn.model_selection import train_test_split\n",
    "import tensorflow as tf\n",
    "from tensorflow import keras\n",
    "from tensorflow.keras import layers\n",
    "from sklearn.preprocessing import RobustScaler, OneHotEncoder"
   ]
  },
  {
   "cell_type": "code",
   "execution_count": 35,
   "id": "a20b414e",
   "metadata": {
    "scrolled": true
   },
   "outputs": [],
   "source": [
    "def import_and_clean_file(file, file_dir):\n",
    "    # read data from name of file\n",
    "    sensor, student, activity, activity_subtype, _, date, timestamp = file[:-4].split(\"_\")\n",
    "    # read in database\n",
    "    df = pd.read_csv(file_dir)\n",
    "    # drop features we dont want\n",
    "    df = df.drop(['ind', 'mag_x','mag_y','mag_z', 'gyro_x','gyro_y','gyro_z'], axis = 1, errors = 'ignore')\n",
    "    scale_columns = ['accel_x', 'accel_y', 'accel_z']\n",
    "    df['timestamp'] = df['timestamp'].astype(np.float64)\n",
    "    df['activity'] = activity\n",
    "    df['activity_subtype'] = activity_subtype\n",
    "    df.sort_values(by=['timestamp'])\n",
    "    # scale data\n",
    "    \n",
    "    return df"
   ]
  },
  {
   "cell_type": "code",
   "execution_count": 36,
   "id": "b64a7f9a",
   "metadata": {
    "scrolled": true
   },
   "outputs": [],
   "source": [
    "from scipy import stats\n",
    "\n",
    "def get_X_y(directory='2023', window_size=50, overlap=25):\n",
    "    # Initialize lists to store data and labels\n",
    "    X = []  # Data\n",
    "    y = []  # Labels\n",
    "\n",
    "    # Loop through the clean-named subfolders\n",
    "    for student in os.listdir(directory):\n",
    "            if \"placeholder\" not in student:\n",
    "                student_directory = os.path.join(directory, student)\n",
    "                # itterate through students data\n",
    "                for file in os.listdir(student_directory):\n",
    "                    file_dir = os.path.join(student_directory, file)\n",
    "                    if os.path.isfile(file_dir) and \"clean\" in file and \"Respeck\" in file:\n",
    "                        sensor, student, activity, activity_subtype, _, date, timestamp = file[:-4].split(\"_\")\n",
    "                        df = import_and_clean_file(file, file_dir)\n",
    "                        # Split the time series data into overlapping windows\n",
    "                        for i in range(0, len(df) - window_size + 1, overlap):\n",
    "                            window = df[i:i + window_size]\n",
    "                            # create X matrix\n",
    "                            X.append(window.drop(columns=['timestamp','activity', 'activity_subtype']))\n",
    "                            # create y matrix\n",
    "                            y.append(activity)\n",
    "\n",
    "    return np.array(X), np.array(y).reshape(-1,1)"
   ]
  },
  {
   "cell_type": "code",
   "execution_count": 37,
   "id": "2c6b56c0",
   "metadata": {
    "scrolled": true
   },
   "outputs": [
    {
     "name": "stdout",
     "output_type": "stream",
     "text": [
      "(3898, 50, 4) (3898, 1)\n"
     ]
    },
    {
     "data": {
      "text/html": [
       "<div>\n",
       "<style scoped>\n",
       "    .dataframe tbody tr th:only-of-type {\n",
       "        vertical-align: middle;\n",
       "    }\n",
       "\n",
       "    .dataframe tbody tr th {\n",
       "        vertical-align: top;\n",
       "    }\n",
       "\n",
       "    .dataframe thead th {\n",
       "        text-align: right;\n",
       "    }\n",
       "</style>\n",
       "<table border=\"1\" class=\"dataframe\">\n",
       "  <thead>\n",
       "    <tr style=\"text-align: right;\">\n",
       "      <th></th>\n",
       "      <th>0</th>\n",
       "      <th>1</th>\n",
       "      <th>2</th>\n",
       "      <th>3</th>\n",
       "    </tr>\n",
       "  </thead>\n",
       "  <tbody>\n",
       "    <tr>\n",
       "      <th>0</th>\n",
       "      <td>-0.027344</td>\n",
       "      <td>-0.132812</td>\n",
       "      <td>1.001953</td>\n",
       "      <td>0.0</td>\n",
       "    </tr>\n",
       "    <tr>\n",
       "      <th>1</th>\n",
       "      <td>-0.038086</td>\n",
       "      <td>-0.131836</td>\n",
       "      <td>1.001953</td>\n",
       "      <td>0.0</td>\n",
       "    </tr>\n",
       "    <tr>\n",
       "      <th>2</th>\n",
       "      <td>-0.042969</td>\n",
       "      <td>-0.126953</td>\n",
       "      <td>1.005859</td>\n",
       "      <td>0.0</td>\n",
       "    </tr>\n",
       "    <tr>\n",
       "      <th>3</th>\n",
       "      <td>-0.035156</td>\n",
       "      <td>-0.125000</td>\n",
       "      <td>1.010742</td>\n",
       "      <td>0.0</td>\n",
       "    </tr>\n",
       "    <tr>\n",
       "      <th>4</th>\n",
       "      <td>-0.035156</td>\n",
       "      <td>-0.129883</td>\n",
       "      <td>0.999023</td>\n",
       "      <td>0.0</td>\n",
       "    </tr>\n",
       "  </tbody>\n",
       "</table>\n",
       "</div>"
      ],
      "text/plain": [
       "          0         1         2    3\n",
       "0 -0.027344 -0.132812  1.001953  0.0\n",
       "1 -0.038086 -0.131836  1.001953  0.0\n",
       "2 -0.042969 -0.126953  1.005859  0.0\n",
       "3 -0.035156 -0.125000  1.010742  0.0\n",
       "4 -0.035156 -0.129883  0.999023  0.0"
      ]
     },
     "execution_count": 37,
     "metadata": {},
     "output_type": "execute_result"
    }
   ],
   "source": [
    "X, y = get_X_y('2023')\n",
    "X_train, X_temp, y_train, y_temp = train_test_split(X, y, test_size=0.2, random_state=42)\n",
    "X_test, X_val, y_test, y_val = train_test_split(X_temp, y_temp, test_size=0.5, random_state=42)\n",
    "print(X_train.shape, y_train.shape)\n",
    "\n",
    "pd.DataFrame(X_train[0]).head()"
   ]
  },
  {
   "cell_type": "code",
   "execution_count": 38,
   "id": "4dd7af2c",
   "metadata": {
    "scrolled": true
   },
   "outputs": [
    {
     "name": "stdout",
     "output_type": "stream",
     "text": [
      "(3898, 50, 4) (3898, 12)\n"
     ]
    }
   ],
   "source": [
    "enc = OneHotEncoder(handle_unknown='ignore', sparse=False)\n",
    "\n",
    "enc = enc.fit(y_train)\n",
    "y_train = enc.transform(y_train)\n",
    "y_val = enc.transform(y_val)\n",
    "y_test = enc.transform(y_test)\n",
    "\n",
    "\n",
    "print(X_train.shape, y_train.shape)"
   ]
  },
  {
   "cell_type": "code",
   "execution_count": 39,
   "id": "cacd9ca1",
   "metadata": {
    "scrolled": true
   },
   "outputs": [],
   "source": [
    "def evaluate_1d_cnn(trainX, trainy, testX, testy):\n",
    "    verbose, epochs, batch_size = 1, 50, 32\n",
    "    n_timesteps, n_features, n_outputs = trainX.shape[1], trainX.shape[2], trainy.shape[1]\n",
    "    model = keras.Sequential()\n",
    "    model.add(keras.layers.Conv1D(filters=64, kernel_size=6, activation='relu', input_shape=(n_timesteps,n_features)))\n",
    "    model.add(keras.layers.Conv1D(filters=64, kernel_size=6, activation='relu'))\n",
    "    model.add(keras.layers.Dropout(0.5))\n",
    "    model.add(keras.layers.MaxPooling1D(pool_size=2))\n",
    "    keras.layers.MaxPooling3D\n",
    "    model.add(keras.layers.Flatten())\n",
    "    model.add(keras.layers.Dense(100, activation='leaky_relu'))\n",
    "    model.add(keras.layers.Dense(n_outputs, activation='softmax'))\n",
    "    model.compile(loss='categorical_crossentropy', optimizer='adam', metrics=['accuracy'])\n",
    "    # fit network\n",
    "    history = model.fit(trainX, trainy, epochs=epochs, batch_size=batch_size, verbose=verbose, validation_split=0.1, shuffle=False)\n",
    "    # evaluate model\n",
    "    _, accuracy = model.evaluate(testX, testy, batch_size=batch_size, verbose=0)\n",
    "    return history, accuracy, model"
   ]
  },
  {
   "cell_type": "code",
   "execution_count": 40,
   "id": "ac37055d",
   "metadata": {
    "scrolled": true
   },
   "outputs": [
    {
     "name": "stdout",
     "output_type": "stream",
     "text": [
      "Epoch 1/20\n",
      "55/55 [==============================] - 9s 93ms/step - loss: 1.3862 - accuracy: 0.5718 - val_loss: 1.0109 - val_accuracy: 0.5923\n",
      "Epoch 2/20\n",
      "55/55 [==============================] - 5s 83ms/step - loss: 0.9605 - accuracy: 0.6385 - val_loss: 0.9073 - val_accuracy: 0.6974\n",
      "Epoch 3/20\n",
      "55/55 [==============================] - 5s 90ms/step - loss: 0.8638 - accuracy: 0.6668 - val_loss: 0.7997 - val_accuracy: 0.6667\n",
      "Epoch 4/20\n",
      "55/55 [==============================] - 4s 75ms/step - loss: 0.8068 - accuracy: 0.6839 - val_loss: 0.7862 - val_accuracy: 0.6692\n",
      "Epoch 5/20\n",
      "55/55 [==============================] - 4s 81ms/step - loss: 0.7928 - accuracy: 0.6881 - val_loss: 0.7433 - val_accuracy: 0.7308\n",
      "Epoch 6/20\n",
      "55/55 [==============================] - 4s 78ms/step - loss: 0.7975 - accuracy: 0.6910 - val_loss: 0.6921 - val_accuracy: 0.7538\n",
      "Epoch 7/20\n",
      "55/55 [==============================] - 5s 85ms/step - loss: 0.7533 - accuracy: 0.7050 - val_loss: 0.7004 - val_accuracy: 0.7333\n",
      "Epoch 8/20\n",
      "55/55 [==============================] - 6s 108ms/step - loss: 0.7264 - accuracy: 0.7107 - val_loss: 0.6611 - val_accuracy: 0.7718\n",
      "Epoch 9/20\n",
      "55/55 [==============================] - 4s 78ms/step - loss: 0.6581 - accuracy: 0.7429 - val_loss: 0.6493 - val_accuracy: 0.7538\n",
      "Epoch 10/20\n",
      "55/55 [==============================] - 4s 75ms/step - loss: 0.6595 - accuracy: 0.7392 - val_loss: 0.6414 - val_accuracy: 0.7667\n",
      "Epoch 11/20\n",
      "55/55 [==============================] - 4s 81ms/step - loss: 0.6453 - accuracy: 0.7477 - val_loss: 0.6429 - val_accuracy: 0.7641\n",
      "Epoch 12/20\n",
      "55/55 [==============================] - 4s 80ms/step - loss: 0.6550 - accuracy: 0.7446 - val_loss: 0.6715 - val_accuracy: 0.7538\n",
      "Epoch 13/20\n",
      "55/55 [==============================] - 4s 77ms/step - loss: 0.6124 - accuracy: 0.7540 - val_loss: 0.5968 - val_accuracy: 0.7769\n",
      "Epoch 14/20\n",
      "55/55 [==============================] - 5s 97ms/step - loss: 0.6060 - accuracy: 0.7594 - val_loss: 0.6340 - val_accuracy: 0.7667\n",
      "Epoch 15/20\n",
      "55/55 [==============================] - 4s 78ms/step - loss: 0.5869 - accuracy: 0.7717 - val_loss: 0.5864 - val_accuracy: 0.7872\n",
      "Epoch 16/20\n",
      "55/55 [==============================] - 5s 85ms/step - loss: 0.5452 - accuracy: 0.7836 - val_loss: 0.5245 - val_accuracy: 0.8179\n",
      "Epoch 17/20\n",
      "55/55 [==============================] - 5s 83ms/step - loss: 0.5621 - accuracy: 0.7811 - val_loss: 0.5449 - val_accuracy: 0.8128\n",
      "Epoch 18/20\n",
      "55/55 [==============================] - 4s 82ms/step - loss: 0.7179 - accuracy: 0.7383 - val_loss: 0.6520 - val_accuracy: 0.7282\n",
      "Epoch 19/20\n",
      "55/55 [==============================] - 4s 76ms/step - loss: 0.6034 - accuracy: 0.7628 - val_loss: 0.6659 - val_accuracy: 0.7641\n",
      "Epoch 20/20\n",
      "55/55 [==============================] - 4s 80ms/step - loss: 0.5763 - accuracy: 0.7691 - val_loss: 0.5204 - val_accuracy: 0.8231\n"
     ]
    }
   ],
   "source": [
    "history, accuracy, model = evaluate_1d_cnn(X_train, y_train, X_val, y_val)\n",
    "print(\"Accuracy: \" + str(accuracy))"
   ]
  },
  {
   "cell_type": "code",
   "execution_count": 20,
   "id": "09d04525",
   "metadata": {},
   "outputs": [
    {
     "name": "stdout",
     "output_type": "stream",
     "text": [
      "INFO:tensorflow:Assets written to: /var/folders/6q/yjm90tjx6td5_1v23jrh5nyc0000gn/T/tmpwhudomw0/assets\n"
     ]
    },
    {
     "name": "stderr",
     "output_type": "stream",
     "text": [
      "INFO:tensorflow:Assets written to: /var/folders/6q/yjm90tjx6td5_1v23jrh5nyc0000gn/T/tmpwhudomw0/assets\n",
      "2023-10-12 15:18:35.316177: W tensorflow/compiler/mlir/lite/python/tf_tfl_flatbuffer_helpers.cc:364] Ignored output_format.\n",
      "2023-10-12 15:18:35.316198: W tensorflow/compiler/mlir/lite/python/tf_tfl_flatbuffer_helpers.cc:367] Ignored drop_control_dependency.\n",
      "2023-10-12 15:18:35.316470: I tensorflow/cc/saved_model/reader.cc:45] Reading SavedModel from: /var/folders/6q/yjm90tjx6td5_1v23jrh5nyc0000gn/T/tmpwhudomw0\n",
      "2023-10-12 15:18:35.317423: I tensorflow/cc/saved_model/reader.cc:91] Reading meta graph with tags { serve }\n",
      "2023-10-12 15:18:35.317429: I tensorflow/cc/saved_model/reader.cc:132] Reading SavedModel debug info (if present) from: /var/folders/6q/yjm90tjx6td5_1v23jrh5nyc0000gn/T/tmpwhudomw0\n",
      "2023-10-12 15:18:35.319500: I tensorflow/compiler/mlir/mlir_graph_optimization_pass.cc:375] MLIR V1 optimization pass is not enabled\n",
      "2023-10-12 15:18:35.320613: I tensorflow/cc/saved_model/loader.cc:231] Restoring SavedModel bundle.\n",
      "2023-10-12 15:18:35.358701: I tensorflow/cc/saved_model/loader.cc:215] Running initialization op on SavedModel bundle at path: /var/folders/6q/yjm90tjx6td5_1v23jrh5nyc0000gn/T/tmpwhudomw0\n",
      "2023-10-12 15:18:35.370652: I tensorflow/cc/saved_model/loader.cc:314] SavedModel load for tags { serve }; Status: success: OK. Took 54183 microseconds.\n",
      "2023-10-12 15:18:35.383091: I tensorflow/compiler/mlir/tensorflow/utils/dump_mlir_util.cc:255] disabling MLIR crash reproducer, set env var `MLIR_CRASH_REPRODUCER_DIRECTORY` to enable.\n"
     ]
    }
   ],
   "source": [
    "# Convert the model.\n",
    "converter = tf.lite.TFLiteConverter.from_keras_model(model)\n",
    "tflite_model = converter.convert()\n",
    "\n",
    "# Save the model.\n",
    "with open('model.tflite', 'wb') as f:\n",
    "  f.write(tflite_model)"
   ]
  },
  {
   "cell_type": "code",
   "execution_count": 41,
   "id": "b52b3aef",
   "metadata": {
    "scrolled": true
   },
   "outputs": [
    {
     "data": {
      "image/png": "[encoded data removed]",
      "text/plain": [
       "<Figure size 600x400 with 1 Axes>"
      ]
     },
     "metadata": {},
     "output_type": "display_data"
    }
   ],
   "source": [
    "import matplotlib.pyplot as plt\n",
    "from sklearn.metrics import classification_report, confusion_matrix, ConfusionMatrixDisplay\n",
    "\n",
    "plt.figure(figsize=(6, 4))\n",
    "plt.plot(history.history['accuracy'], 'r', label='Accuracy of training data')\n",
    "plt.plot(history.history['loss'], 'r--', label='Loss of training data')\n",
    "plt.title('Model Accuracy and Loss')\n",
    "plt.ylabel('Accuracy and Loss')\n",
    "plt.xlabel('Training Epoch')\n",
    "plt.ylim(0)\n",
    "plt.legend()\n",
    "plt.show()\n",
    "\n"
   ]
  },
  {
   "cell_type": "code",
   "execution_count": 42,
   "id": "159e8304",
   "metadata": {
    "scrolled": true
   },
   "outputs": [
    {
     "name": "stdout",
     "output_type": "stream",
     "text": [
      "16/16 [==============================] - 1s 19ms/step\n"
     ]
    },
    {
     "data": {
      "image/png": "[encoded data removed]",
      "text/plain": [
       "<Figure size 640x480 with 2 Axes>"
      ]
     },
     "metadata": {},
     "output_type": "display_data"
    }
   ],
   "source": [
    "predictions = model.predict(X_val)\n",
    "predictions = np.argmax(predictions, axis=1)\n",
    "y_val_pred = np.argmax(y_val, axis=1)\n",
    "cm = confusion_matrix(y_val_pred, predictions)\n",
    "cm_disp = ConfusionMatrixDisplay(confusion_matrix= cm)\n",
    "cm_disp.plot()\n",
    "plt.show()"
   ]
  },
  {
   "cell_type": "code",
   "execution_count": 43,
   "id": "7c88d8c8",
   "metadata": {},
   "outputs": [
    {
     "name": "stdout",
     "output_type": "stream",
     "text": [
      "              precision    recall  f1-score   support\n",
      "\n",
      "           0       0.40      0.83      0.54        12\n",
      "           1       0.58      0.33      0.42        21\n",
      "           2       0.97      1.00      0.98        60\n",
      "           3       0.91      1.00      0.95        60\n",
      "           4       0.98      1.00      0.99        64\n",
      "           5       1.00      1.00      1.00        61\n",
      "           6       0.50      0.15      0.23        20\n",
      "           7       0.78      0.37      0.50        19\n",
      "           8       0.83      1.00      0.90        19\n",
      "           9       0.86      0.75      0.80        16\n",
      "          10       0.65      0.39      0.49        72\n",
      "          11       0.50      0.80      0.61        64\n",
      "\n",
      "    accuracy                           0.78       488\n",
      "   macro avg       0.75      0.72      0.70       488\n",
      "weighted avg       0.79      0.78      0.77       488\n",
      "\n"
     ]
    }
   ],
   "source": [
    "print(classification_report(y_val_pred, predictions))"
   ]
  },
  {
   "cell_type": "code",
   "execution_count": 44,
   "id": "76b40720",
   "metadata": {
    "scrolled": true
   },
   "outputs": [
    {
     "name": "stdout",
     "output_type": "stream",
     "text": [
      "16/16 [==============================] - 0s 20ms/step - loss: 0.5522 - accuracy: 0.7828\n"
     ]
    },
    {
     "data": {
      "text/plain": [
       "[0.5522345900535583, 0.7827869057655334]"
      ]
     },
     "execution_count": 44,
     "metadata": {},
     "output_type": "execute_result"
    }
   ],
   "source": [
    "model.evaluate(X_val, y_val)"
   ]
  },
  {
   "cell_type": "code",
   "execution_count": 45,
   "id": "a62e7610",
   "metadata": {
    "scrolled": true
   },
   "outputs": [
    {
     "data": {
      "text/plain": [
       "['Ascending stairs',\n",
       " 'Descending stairs',\n",
       " 'Lying down back',\n",
       " 'Lying down on left',\n",
       " 'Lying down on stomach',\n",
       " 'Lying down right',\n",
       " 'Miscellaneous movements',\n",
       " 'Normal walking',\n",
       " 'Running',\n",
       " 'Shuffle walking',\n",
       " 'Sitting',\n",
       " 'Standing']"
      ]
     },
     "execution_count": 45,
     "metadata": {},
     "output_type": "execute_result"
    }
   ],
   "source": [
    "[name[3:] for name in enc.get_feature_names_out()]"
   ]
  }
 ],
 "metadata": {
  "kernelspec": {
   "display_name": "Python 3 (ipykernel)",
   "language": "python",
   "name": "python3"
  },
  "language_info": {
   "codemirror_mode": {
    "name": "ipython",
    "version": 3
   },
   "file_extension": ".py",
   "mimetype": "text/x-python",
   "name": "python",
   "nbconvert_exporter": "python",
   "pygments_lexer": "ipython3",
   "version": "3.11.1"
  }
 },
 "nbformat": 4,
 "nbformat_minor": 5
}
