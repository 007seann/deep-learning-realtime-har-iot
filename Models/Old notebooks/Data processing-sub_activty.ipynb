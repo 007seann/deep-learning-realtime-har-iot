{
 "cells": [
  {
   "cell_type": "code",
   "execution_count": 15,
   "id": "ee95509e",
   "metadata": {
    "scrolled": true
   },
   "outputs": [],
   "source": [
    "import os\n",
    "import pandas as pd\n",
    "import numpy as np\n",
    "from sklearn.model_selection import train_test_split\n",
    "import tensorflow as tf\n",
    "from tensorflow import keras\n",
    "from tensorflow.keras import layers\n",
    "from sklearn.preprocessing import RobustScaler, OneHotEncoder\n",
    "import pickle"
   ]
  },
  {
   "cell_type": "code",
   "execution_count": 16,
   "id": "a20b414e",
   "metadata": {
    "scrolled": true
   },
   "outputs": [],
   "source": [
    "from tensorflow.keras.utils import to_categorical\n",
    "\n",
    "def import_and_clean_file(file, file_dir):\n",
    "    activities = [\n",
    "    'Ascending stairs', 'Descending stairs', 'Lying down back', 'Lying down on left',\n",
    "    'Lying down on stomach', 'Lying down right', 'Miscellaneous movements', 'Normal walking',\n",
    "    'Running', 'Shuffle walking', 'Sitting', 'Standing'\n",
    "    ]\n",
    "    \n",
    "    # read data from name of file\n",
    "    sensor, student, activity, activity_subtype, _, date, timestamp = file[:-4].split(\"_\")\n",
    "    # read in database\n",
    "    df = pd.read_csv(file_dir)\n",
    "    # drop features we dont want\n",
    "    df = df.drop(['ind', 'mag_x','mag_y','mag_z', 'gyro_x','gyro_y','gyro_z'], axis = 1, errors = 'ignore')\n",
    "    scale_columns = ['accel_x', 'accel_y', 'accel_z']\n",
    "    df['timestamp'] = df['timestamp'].astype(np.float64)\n",
    "#     df['accel_x'] = df['accel_x'].astype(np.float64)\n",
    "#     df['accel_y'] = df['accel_y'].astype(np.float64)\n",
    "#     df['accel_z'] = df['accel_z'].astype(np.float64)\n",
    "#     df['gyro_x'] = df['gyro_x'].astype(np.float64)\n",
    "#     df['gyro_y'] = df['gyro_y'].astype(np.float64)\n",
    "#     df['gyro_z'] = df['gyro_z'].astype(np.float64)\n",
    "    df['activity'] = activities.index(activity)\n",
    "    df['activity'] = df['activity'].astype(np.float64)\n",
    "    df['activity_subtype'] = activity_subtype\n",
    "    df.sort_values(by=['timestamp'])\n",
    "    # scale data\n",
    "    \n",
    "    return df"
   ]
  },
  {
   "cell_type": "code",
   "execution_count": 17,
   "id": "b64a7f9a",
   "metadata": {
    "scrolled": true
   },
   "outputs": [],
   "source": [
    "from scipy import stats\n",
    "# Create a DataFrame with a single column for activities\n",
    "\n",
    "\n",
    "def get_X_y(directory='/Users/apple/Library/Mobile Documents/com~apple~CloudDocs/Year 3/Final-Project/0 Modules/IoT/PDIoT-cw3-q1/Models/Respeck', window_size=25, overlap=10):\n",
    "    # Initialize lists to store data and labels\n",
    "    X = []  # Data\n",
    "    y = []  # Labels\n",
    "\n",
    "\n",
    "\n",
    "    # Loop through the clean-named subfolders\n",
    "    for student in os.listdir(directory):\n",
    "            if \"placeholder\" not in student:\n",
    "                student_directory = os.path.join(directory, student)\n",
    "                # itterate through students data\n",
    "                for file in os.listdir(student_directory):\n",
    "                    file_dir = os.path.join(student_directory, file)\n",
    "                    if os.path.isfile(file_dir) and \"clean\" in file and \"Respeck\" in file:\n",
    "                        sensor, student, activity, activity_subtype, _, date, timestamp = file[:-4].split(\"_\")\n",
    "                        df = import_and_clean_file(file, file_dir)\n",
    "                        # Split the time series data into overlapping windows\n",
    "                        for i in range(0, len(df) - window_size + 1, overlap):\n",
    "                            window = df[i:i + window_size]\n",
    "                            # create X matrix\n",
    "                            X.append(window.drop(columns=['timestamp', 'activity_subtype']))\n",
    "                            # create y matrix\n",
    "                            y.append(activity_subtype)\n",
    "\n",
    "    return np.array(X), np.array(y).reshape(-1,1)"
   ]
  },
  {
   "cell_type": "code",
   "execution_count": 18,
   "id": "14e5401b",
   "metadata": {},
   "outputs": [],
   "source": [
    "output_directory = \"/Users/apple/Library/Mobile Documents/com~apple~CloudDocs/Year 3/Final-Project/0 Modules/IoT/CW3/dataset\"\n",
    "# Make sure the directory exists, create it if it does not\n",
    "if not os.path.exists(output_directory):\n",
    "  os.makedirs(output_directory)"
   ]
  },
  {
   "cell_type": "code",
   "execution_count": 19,
   "id": "4a57e9b6",
   "metadata": {},
   "outputs": [],
   "source": [
    "X,y = get_X_y()\n",
    "X_file_path = os.path.join(output_directory, 'X_respeck_subtype')\n",
    "file = open(X_file_path, 'wb')\n",
    "pickle.dump(X, file)\n",
    "file.close()\n",
    "y_file_path = os.path.join(output_directory, 'y_respeck_subtype')\n",
    "file = open(y_file_path, 'wb')\n",
    "pickle.dump(y, file)\n",
    "file.close()"
   ]
  },
  {
   "cell_type": "code",
   "execution_count": 118,
   "id": "2c6b56c0",
   "metadata": {
    "scrolled": true
   },
   "outputs": [
    {
     "name": "stdout",
     "output_type": "stream",
     "text": [
      "(7819, 25, 4) (7819, 1)\n"
     ]
    },
    {
     "data": {
      "text/html": [
       "<div>\n",
       "<style scoped>\n",
       "    .dataframe tbody tr th:only-of-type {\n",
       "        vertical-align: middle;\n",
       "    }\n",
       "\n",
       "    .dataframe tbody tr th {\n",
       "        vertical-align: top;\n",
       "    }\n",
       "\n",
       "    .dataframe thead th {\n",
       "        text-align: right;\n",
       "    }\n",
       "</style>\n",
       "<table border=\"1\" class=\"dataframe\">\n",
       "  <thead>\n",
       "    <tr style=\"text-align: right;\">\n",
       "      <th></th>\n",
       "      <th>0</th>\n",
       "      <th>1</th>\n",
       "      <th>2</th>\n",
       "      <th>3</th>\n",
       "    </tr>\n",
       "  </thead>\n",
       "  <tbody>\n",
       "    <tr>\n",
       "      <th>0</th>\n",
       "      <td>0.164551</td>\n",
       "      <td>0.117126</td>\n",
       "      <td>-0.936585</td>\n",
       "      <td>4.0</td>\n",
       "    </tr>\n",
       "    <tr>\n",
       "      <th>1</th>\n",
       "      <td>0.156738</td>\n",
       "      <td>0.110046</td>\n",
       "      <td>-0.939514</td>\n",
       "      <td>4.0</td>\n",
       "    </tr>\n",
       "    <tr>\n",
       "      <th>2</th>\n",
       "      <td>0.163818</td>\n",
       "      <td>0.119080</td>\n",
       "      <td>-0.946594</td>\n",
       "      <td>4.0</td>\n",
       "    </tr>\n",
       "    <tr>\n",
       "      <th>3</th>\n",
       "      <td>0.159912</td>\n",
       "      <td>0.109558</td>\n",
       "      <td>-0.943665</td>\n",
       "      <td>4.0</td>\n",
       "    </tr>\n",
       "    <tr>\n",
       "      <th>4</th>\n",
       "      <td>0.158203</td>\n",
       "      <td>0.115906</td>\n",
       "      <td>-0.941711</td>\n",
       "      <td>4.0</td>\n",
       "    </tr>\n",
       "  </tbody>\n",
       "</table>\n",
       "</div>"
      ],
      "text/plain": [
       "          0         1         2    3\n",
       "0  0.164551  0.117126 -0.936585  4.0\n",
       "1  0.156738  0.110046 -0.939514  4.0\n",
       "2  0.163818  0.119080 -0.946594  4.0\n",
       "3  0.159912  0.109558 -0.943665  4.0\n",
       "4  0.158203  0.115906 -0.941711  4.0"
      ]
     },
     "execution_count": 118,
     "metadata": {},
     "output_type": "execute_result"
    }
   ],
   "source": [
    "X, y = get_X_y()\n",
    "X_train, X_temp, y_train, y_temp = train_test_split(X, y, test_size=0.2, random_state=42)\n",
    "X_test, X_val, y_test, y_val = train_test_split(X_temp, y_temp, test_size=0.5, random_state=42)\n",
    "print(X_train.shape, y_train.shape)\n",
    "\n",
    "pd.DataFrame(X_train[0]).head()"
   ]
  },
  {
   "cell_type": "code",
   "execution_count": 119,
   "id": "4dd7af2c",
   "metadata": {
    "scrolled": true
   },
   "outputs": [
    {
     "name": "stdout",
     "output_type": "stream",
     "text": [
      "(7819, 25, 4) (7819, 7)\n"
     ]
    },
    {
     "name": "stderr",
     "output_type": "stream",
     "text": [
      "C:\\Users\\daniel cooper\\anaconda3\\envs\\pdiot\\lib\\site-packages\\sklearn\\preprocessing\\_encoders.py:972: FutureWarning: `sparse` was renamed to `sparse_output` in version 1.2 and will be removed in 1.4. `sparse_output` is ignored unless you leave `sparse` to its default value.\n",
      "  warnings.warn(\n",
      "C:\\Users\\daniel cooper\\anaconda3\\envs\\pdiot\\lib\\site-packages\\sklearn\\preprocessing\\_encoders.py:972: FutureWarning: `sparse` was renamed to `sparse_output` in version 1.2 and will be removed in 1.4. `sparse_output` is ignored unless you leave `sparse` to its default value.\n",
      "  warnings.warn(\n"
     ]
    }
   ],
   "source": [
    "enc = OneHotEncoder(handle_unknown='ignore', sparse=False)\n",
    "\n",
    "enc = enc.fit(y_train)\n",
    "y_train = enc.transform(y_train)\n",
    "enc = enc.fit(y_val)\n",
    "y_val = enc.transform(y_val)\n",
    "\n",
    "# enc = enc.fit(y_test)\n",
    "# y_test = enc.transform(y_test)\n",
    "print(X_train.shape, y_train.shape)"
   ]
  },
  {
   "cell_type": "code",
   "execution_count": 120,
   "id": "cacd9ca1",
   "metadata": {
    "scrolled": true
   },
   "outputs": [],
   "source": [
    "model = keras.Sequential()\n",
    "model.add(keras.layers.Normalization())\n",
    "model.add(\n",
    "    keras.layers.Bidirectional(\n",
    "      keras.layers.LSTM(\n",
    "          units=128, \n",
    "          input_shape=[X_train.shape[1], X_train.shape[2]]\n",
    "      )\n",
    "    )\n",
    ")\n",
    "model.add(keras.layers.Dropout(rate=0.5))\n",
    "model.add(keras.layers.Dense(units=128, activation='relu'))\n",
    "model.add(keras.layers.Dense(y_train.shape[1], activation='softmax'))\n",
    "model.compile(loss='categorical_crossentropy', optimizer='adam', metrics=['accuracy'])"
   ]
  },
  {
   "cell_type": "code",
   "execution_count": 121,
   "id": "ac37055d",
   "metadata": {
    "scrolled": true
   },
   "outputs": [
    {
     "name": "stdout",
     "output_type": "stream",
     "text": [
      "Epoch 1/100\n",
      "220/220 [==============================] - 8s 20ms/step - loss: 1.7120 - accuracy: 0.2716 - val_loss: 1.6320 - val_accuracy: 0.2621\n",
      "Epoch 2/100\n",
      "220/220 [==============================] - 4s 16ms/step - loss: 1.6217 - accuracy: 0.2835 - val_loss: 1.5860 - val_accuracy: 0.2558\n",
      "Epoch 3/100\n",
      "220/220 [==============================] - 3s 16ms/step - loss: 1.5842 - accuracy: 0.2942 - val_loss: 1.5776 - val_accuracy: 0.3056\n",
      "Epoch 4/100\n",
      "220/220 [==============================] - 3s 16ms/step - loss: 1.5896 - accuracy: 0.2845 - val_loss: 1.5809 - val_accuracy: 0.2877\n",
      "Epoch 5/100\n",
      "220/220 [==============================] - 3s 16ms/step - loss: 1.5860 - accuracy: 0.2973 - val_loss: 1.5972 - val_accuracy: 0.2775\n",
      "Epoch 6/100\n",
      "220/220 [==============================] - 3s 16ms/step - loss: 1.5670 - accuracy: 0.3133 - val_loss: 1.5903 - val_accuracy: 0.2864\n",
      "Epoch 7/100\n",
      "220/220 [==============================] - 4s 17ms/step - loss: 1.5316 - accuracy: 0.3281 - val_loss: 1.4811 - val_accuracy: 0.3453\n",
      "Epoch 8/100\n",
      "220/220 [==============================] - 4s 16ms/step - loss: 1.4868 - accuracy: 0.3567 - val_loss: 1.4744 - val_accuracy: 0.3517\n",
      "Epoch 9/100\n",
      "220/220 [==============================] - 3s 16ms/step - loss: 1.4484 - accuracy: 0.3763 - val_loss: 1.4924 - val_accuracy: 0.3478\n",
      "Epoch 10/100\n",
      "220/220 [==============================] - 4s 17ms/step - loss: 1.4256 - accuracy: 0.4010 - val_loss: 1.4328 - val_accuracy: 0.3657\n",
      "Epoch 11/100\n",
      "220/220 [==============================] - 4s 16ms/step - loss: 1.3803 - accuracy: 0.4107 - val_loss: 1.4003 - val_accuracy: 0.3836\n",
      "Epoch 12/100\n",
      "220/220 [==============================] - 4s 16ms/step - loss: 1.3376 - accuracy: 0.4270 - val_loss: 1.3042 - val_accuracy: 0.4054\n",
      "Epoch 13/100\n",
      "220/220 [==============================] - 4s 17ms/step - loss: 1.2611 - accuracy: 0.4671 - val_loss: 1.2163 - val_accuracy: 0.4642\n",
      "Epoch 14/100\n",
      "220/220 [==============================] - 3s 16ms/step - loss: 1.2493 - accuracy: 0.4718 - val_loss: 1.1659 - val_accuracy: 0.4795\n",
      "Epoch 15/100\n",
      "220/220 [==============================] - 4s 16ms/step - loss: 1.1460 - accuracy: 0.5163 - val_loss: 1.0505 - val_accuracy: 0.5179\n",
      "Epoch 16/100\n",
      "220/220 [==============================] - 4s 17ms/step - loss: 1.0989 - accuracy: 0.5269 - val_loss: 1.1337 - val_accuracy: 0.4783\n",
      "Epoch 17/100\n",
      "220/220 [==============================] - 4s 16ms/step - loss: 1.0569 - accuracy: 0.5504 - val_loss: 1.0887 - val_accuracy: 0.5588\n",
      "Epoch 18/100\n",
      "220/220 [==============================] - 4s 17ms/step - loss: 1.0265 - accuracy: 0.5734 - val_loss: 0.9224 - val_accuracy: 0.6151\n",
      "Epoch 19/100\n",
      "220/220 [==============================] - 4s 16ms/step - loss: 0.9672 - accuracy: 0.5906 - val_loss: 0.9362 - val_accuracy: 0.5997\n",
      "Epoch 20/100\n",
      "220/220 [==============================] - 4s 17ms/step - loss: 0.9256 - accuracy: 0.6071 - val_loss: 0.7883 - val_accuracy: 0.6880\n",
      "Epoch 21/100\n",
      "220/220 [==============================] - 4s 16ms/step - loss: 0.8739 - accuracy: 0.6260 - val_loss: 0.8279 - val_accuracy: 0.6714\n",
      "Epoch 22/100\n",
      "220/220 [==============================] - 4s 17ms/step - loss: 0.8650 - accuracy: 0.6319 - val_loss: 0.7641 - val_accuracy: 0.6803\n",
      "Epoch 23/100\n",
      "220/220 [==============================] - 3s 16ms/step - loss: 0.8208 - accuracy: 0.6476 - val_loss: 0.8144 - val_accuracy: 0.6560\n",
      "Epoch 24/100\n",
      "220/220 [==============================] - 4s 16ms/step - loss: 0.7918 - accuracy: 0.6636 - val_loss: 0.7013 - val_accuracy: 0.7084\n",
      "Epoch 25/100\n",
      "220/220 [==============================] - 4s 16ms/step - loss: 0.7799 - accuracy: 0.6659 - val_loss: 0.6636 - val_accuracy: 0.7187\n",
      "Epoch 26/100\n",
      "220/220 [==============================] - 4s 17ms/step - loss: 0.7403 - accuracy: 0.6881 - val_loss: 0.7120 - val_accuracy: 0.6841\n",
      "Epoch 27/100\n",
      "220/220 [==============================] - 4s 16ms/step - loss: 0.7421 - accuracy: 0.6877 - val_loss: 0.6781 - val_accuracy: 0.7199\n",
      "Epoch 28/100\n",
      "220/220 [==============================] - 4s 16ms/step - loss: 0.7299 - accuracy: 0.6926 - val_loss: 0.6934 - val_accuracy: 0.7046\n",
      "Epoch 29/100\n",
      "220/220 [==============================] - 4s 17ms/step - loss: 0.7151 - accuracy: 0.6997 - val_loss: 0.6348 - val_accuracy: 0.7263\n",
      "Epoch 30/100\n",
      "220/220 [==============================] - 4s 17ms/step - loss: 0.6833 - accuracy: 0.7156 - val_loss: 0.7147 - val_accuracy: 0.6829\n",
      "Epoch 31/100\n",
      "220/220 [==============================] - 4s 16ms/step - loss: 0.6958 - accuracy: 0.7165 - val_loss: 0.6709 - val_accuracy: 0.7391\n",
      "Epoch 32/100\n",
      "220/220 [==============================] - 4s 16ms/step - loss: 0.6569 - accuracy: 0.7296 - val_loss: 0.8605 - val_accuracy: 0.6522\n",
      "Epoch 33/100\n",
      "220/220 [==============================] - 4s 17ms/step - loss: 0.6505 - accuracy: 0.7284 - val_loss: 0.6099 - val_accuracy: 0.7570\n",
      "Epoch 34/100\n",
      "220/220 [==============================] - 3s 16ms/step - loss: 0.6315 - accuracy: 0.7374 - val_loss: 0.5338 - val_accuracy: 0.7813\n",
      "Epoch 35/100\n",
      "220/220 [==============================] - 4s 16ms/step - loss: 0.6122 - accuracy: 0.7506 - val_loss: 0.6052 - val_accuracy: 0.7327\n",
      "Epoch 36/100\n",
      "220/220 [==============================] - 4s 16ms/step - loss: 0.6136 - accuracy: 0.7495 - val_loss: 0.6497 - val_accuracy: 0.7276\n",
      "Epoch 37/100\n",
      "220/220 [==============================] - 4s 16ms/step - loss: 0.6023 - accuracy: 0.7513 - val_loss: 0.6052 - val_accuracy: 0.7583\n",
      "Epoch 38/100\n",
      "220/220 [==============================] - 4s 17ms/step - loss: 0.5824 - accuracy: 0.7623 - val_loss: 0.5365 - val_accuracy: 0.7698\n",
      "Epoch 39/100\n",
      "220/220 [==============================] - 3s 16ms/step - loss: 0.5838 - accuracy: 0.7566 - val_loss: 0.5904 - val_accuracy: 0.7417\n",
      "Epoch 40/100\n",
      "220/220 [==============================] - 4s 16ms/step - loss: 0.5747 - accuracy: 0.7601 - val_loss: 0.6026 - val_accuracy: 0.7430\n",
      "Epoch 41/100\n",
      "220/220 [==============================] - 3s 16ms/step - loss: 0.5614 - accuracy: 0.7714 - val_loss: 0.5781 - val_accuracy: 0.7570\n",
      "Epoch 42/100\n",
      "220/220 [==============================] - 4s 17ms/step - loss: 0.5378 - accuracy: 0.7873 - val_loss: 0.4700 - val_accuracy: 0.8082\n",
      "Epoch 43/100\n",
      "220/220 [==============================] - 4s 16ms/step - loss: 0.5650 - accuracy: 0.7684 - val_loss: 0.6169 - val_accuracy: 0.7430\n",
      "Epoch 44/100\n",
      "220/220 [==============================] - 3s 16ms/step - loss: 0.5168 - accuracy: 0.7900 - val_loss: 0.5483 - val_accuracy: 0.7749\n",
      "Epoch 45/100\n",
      "220/220 [==============================] - 3s 16ms/step - loss: 0.5274 - accuracy: 0.7846 - val_loss: 0.4959 - val_accuracy: 0.7903\n",
      "Epoch 46/100\n",
      "220/220 [==============================] - 4s 16ms/step - loss: 0.5191 - accuracy: 0.7944 - val_loss: 0.5527 - val_accuracy: 0.7801\n",
      "Epoch 47/100\n",
      "220/220 [==============================] - 4s 16ms/step - loss: 0.5251 - accuracy: 0.7864 - val_loss: 0.5518 - val_accuracy: 0.7596\n",
      "Epoch 48/100\n",
      "220/220 [==============================] - 4s 16ms/step - loss: 0.5057 - accuracy: 0.7978 - val_loss: 0.4521 - val_accuracy: 0.8325\n",
      "Epoch 49/100\n",
      "220/220 [==============================] - 4s 17ms/step - loss: 0.4833 - accuracy: 0.8022 - val_loss: 0.4752 - val_accuracy: 0.7992\n",
      "Epoch 50/100\n",
      "220/220 [==============================] - 4s 16ms/step - loss: 0.4777 - accuracy: 0.8049 - val_loss: 0.5068 - val_accuracy: 0.7852\n",
      "Epoch 51/100\n",
      "220/220 [==============================] - 4s 16ms/step - loss: 0.5174 - accuracy: 0.7922 - val_loss: 0.5159 - val_accuracy: 0.7711\n",
      "Epoch 52/100\n",
      "220/220 [==============================] - 4s 16ms/step - loss: 0.4971 - accuracy: 0.7975 - val_loss: 0.4984 - val_accuracy: 0.8069\n",
      "Epoch 53/100\n",
      "220/220 [==============================] - 4s 18ms/step - loss: 0.4671 - accuracy: 0.8089 - val_loss: 0.4080 - val_accuracy: 0.8350\n",
      "Epoch 54/100\n",
      "220/220 [==============================] - 4s 17ms/step - loss: 0.4789 - accuracy: 0.8057 - val_loss: 0.4545 - val_accuracy: 0.8363\n",
      "Epoch 55/100\n",
      "220/220 [==============================] - 4s 16ms/step - loss: 0.4707 - accuracy: 0.8086 - val_loss: 0.5046 - val_accuracy: 0.7916\n",
      "Epoch 56/100\n",
      "220/220 [==============================] - 4s 16ms/step - loss: 0.4573 - accuracy: 0.8177 - val_loss: 0.4218 - val_accuracy: 0.8299\n",
      "Epoch 57/100\n"
     ]
    },
    {
     "name": "stdout",
     "output_type": "stream",
     "text": [
      "220/220 [==============================] - 4s 16ms/step - loss: 0.4572 - accuracy: 0.8174 - val_loss: 0.4684 - val_accuracy: 0.8069\n",
      "Epoch 58/100\n",
      "220/220 [==============================] - 3s 16ms/step - loss: 0.4494 - accuracy: 0.8174 - val_loss: 0.5107 - val_accuracy: 0.7967\n",
      "Epoch 59/100\n",
      "220/220 [==============================] - 3s 16ms/step - loss: 0.4489 - accuracy: 0.8188 - val_loss: 0.4605 - val_accuracy: 0.8095\n",
      "Epoch 60/100\n",
      "220/220 [==============================] - 4s 16ms/step - loss: 0.4570 - accuracy: 0.8151 - val_loss: 0.4721 - val_accuracy: 0.8120\n",
      "Epoch 61/100\n",
      "220/220 [==============================] - 3s 16ms/step - loss: 0.4326 - accuracy: 0.8239 - val_loss: 0.4506 - val_accuracy: 0.8299\n",
      "Epoch 62/100\n",
      "220/220 [==============================] - 3s 16ms/step - loss: 0.4462 - accuracy: 0.8208 - val_loss: 0.4353 - val_accuracy: 0.8325\n",
      "Epoch 63/100\n",
      "220/220 [==============================] - 4s 16ms/step - loss: 0.4546 - accuracy: 0.8221 - val_loss: 0.3851 - val_accuracy: 0.8517\n",
      "Epoch 64/100\n",
      "220/220 [==============================] - 3s 16ms/step - loss: 0.4236 - accuracy: 0.8325 - val_loss: 0.4093 - val_accuracy: 0.8402\n",
      "Epoch 65/100\n",
      "220/220 [==============================] - 4s 16ms/step - loss: 0.4425 - accuracy: 0.8222 - val_loss: 0.3912 - val_accuracy: 0.8517\n",
      "Epoch 66/100\n",
      "220/220 [==============================] - 3s 16ms/step - loss: 0.4179 - accuracy: 0.8298 - val_loss: 0.4092 - val_accuracy: 0.8223\n",
      "Epoch 67/100\n",
      "220/220 [==============================] - 3s 16ms/step - loss: 0.4314 - accuracy: 0.8315 - val_loss: 0.4176 - val_accuracy: 0.8555\n",
      "Epoch 68/100\n",
      "220/220 [==============================] - 3s 16ms/step - loss: 0.4334 - accuracy: 0.8271 - val_loss: 0.4172 - val_accuracy: 0.8402\n",
      "Epoch 69/100\n",
      "220/220 [==============================] - 4s 17ms/step - loss: 0.4201 - accuracy: 0.8340 - val_loss: 0.4053 - val_accuracy: 0.8299\n",
      "Epoch 70/100\n",
      "220/220 [==============================] - 3s 16ms/step - loss: 0.4374 - accuracy: 0.8224 - val_loss: 0.4311 - val_accuracy: 0.8069\n",
      "Epoch 71/100\n",
      "220/220 [==============================] - 3s 16ms/step - loss: 0.4184 - accuracy: 0.8386 - val_loss: 0.3853 - val_accuracy: 0.8389\n",
      "Epoch 72/100\n",
      "220/220 [==============================] - 4s 16ms/step - loss: 0.4052 - accuracy: 0.8390 - val_loss: 0.4426 - val_accuracy: 0.8350\n",
      "Epoch 73/100\n",
      "220/220 [==============================] - 3s 16ms/step - loss: 0.4394 - accuracy: 0.8279 - val_loss: 0.3964 - val_accuracy: 0.8286\n",
      "Epoch 74/100\n",
      "220/220 [==============================] - 4s 16ms/step - loss: 0.4142 - accuracy: 0.8346 - val_loss: 0.4301 - val_accuracy: 0.8427\n",
      "Epoch 75/100\n",
      "220/220 [==============================] - 4s 16ms/step - loss: 0.4159 - accuracy: 0.8357 - val_loss: 0.4026 - val_accuracy: 0.8478\n",
      "Epoch 76/100\n",
      "220/220 [==============================] - 3s 16ms/step - loss: 0.4230 - accuracy: 0.8346 - val_loss: 0.4095 - val_accuracy: 0.8376\n",
      "Epoch 77/100\n",
      "220/220 [==============================] - 4s 16ms/step - loss: 0.4094 - accuracy: 0.8381 - val_loss: 0.4163 - val_accuracy: 0.8376\n",
      "Epoch 78/100\n",
      "220/220 [==============================] - 4s 17ms/step - loss: 0.4077 - accuracy: 0.8366 - val_loss: 0.3545 - val_accuracy: 0.8581\n",
      "Epoch 79/100\n",
      "220/220 [==============================] - 3s 16ms/step - loss: 0.4124 - accuracy: 0.8373 - val_loss: 0.3707 - val_accuracy: 0.8478\n",
      "Epoch 80/100\n",
      "220/220 [==============================] - 3s 16ms/step - loss: 0.3870 - accuracy: 0.8462 - val_loss: 0.3830 - val_accuracy: 0.8453\n",
      "Epoch 81/100\n",
      "220/220 [==============================] - 4s 16ms/step - loss: 0.3914 - accuracy: 0.8443 - val_loss: 0.3512 - val_accuracy: 0.8491\n",
      "Epoch 82/100\n",
      "220/220 [==============================] - 4s 16ms/step - loss: 0.4027 - accuracy: 0.8387 - val_loss: 0.3321 - val_accuracy: 0.8645\n",
      "Epoch 83/100\n",
      "220/220 [==============================] - 4s 16ms/step - loss: 0.3714 - accuracy: 0.8522 - val_loss: 0.4032 - val_accuracy: 0.8465\n",
      "Epoch 84/100\n",
      "220/220 [==============================] - 3s 16ms/step - loss: 0.4074 - accuracy: 0.8352 - val_loss: 0.3722 - val_accuracy: 0.8465\n",
      "Epoch 85/100\n",
      "220/220 [==============================] - 4s 17ms/step - loss: 0.3879 - accuracy: 0.8452 - val_loss: 0.3684 - val_accuracy: 0.8517\n",
      "Epoch 86/100\n",
      "220/220 [==============================] - 4s 16ms/step - loss: 0.3955 - accuracy: 0.8411 - val_loss: 0.3552 - val_accuracy: 0.8465\n",
      "Epoch 87/100\n",
      "220/220 [==============================] - 4s 16ms/step - loss: 0.3880 - accuracy: 0.8457 - val_loss: 0.3903 - val_accuracy: 0.8312\n",
      "Epoch 88/100\n",
      "220/220 [==============================] - 3s 16ms/step - loss: 0.3747 - accuracy: 0.8575 - val_loss: 0.3902 - val_accuracy: 0.8504\n",
      "Epoch 89/100\n",
      "220/220 [==============================] - 3s 16ms/step - loss: 0.3993 - accuracy: 0.8437 - val_loss: 0.4236 - val_accuracy: 0.8376\n",
      "Epoch 90/100\n",
      "220/220 [==============================] - 4s 16ms/step - loss: 0.3684 - accuracy: 0.8535 - val_loss: 0.3951 - val_accuracy: 0.8274\n",
      "Epoch 91/100\n",
      "220/220 [==============================] - 4s 17ms/step - loss: 0.3612 - accuracy: 0.8576 - val_loss: 0.3658 - val_accuracy: 0.8529\n",
      "Epoch 92/100\n",
      "220/220 [==============================] - 4s 16ms/step - loss: 0.3635 - accuracy: 0.8532 - val_loss: 0.4157 - val_accuracy: 0.8261\n",
      "Epoch 93/100\n",
      "220/220 [==============================] - 3s 16ms/step - loss: 0.3932 - accuracy: 0.8450 - val_loss: 0.3755 - val_accuracy: 0.8542\n",
      "Epoch 94/100\n",
      "220/220 [==============================] - 3s 16ms/step - loss: 0.3801 - accuracy: 0.8512 - val_loss: 0.4048 - val_accuracy: 0.8427\n",
      "Epoch 95/100\n",
      "220/220 [==============================] - 3s 16ms/step - loss: 0.3625 - accuracy: 0.8566 - val_loss: 0.3620 - val_accuracy: 0.8581\n",
      "Epoch 96/100\n",
      "220/220 [==============================] - 4s 16ms/step - loss: 0.3759 - accuracy: 0.8488 - val_loss: 0.3488 - val_accuracy: 0.8555\n",
      "Epoch 97/100\n",
      "220/220 [==============================] - 4s 16ms/step - loss: 0.3660 - accuracy: 0.8572 - val_loss: 0.4110 - val_accuracy: 0.8427\n",
      "Epoch 98/100\n",
      "220/220 [==============================] - 3s 16ms/step - loss: 0.3662 - accuracy: 0.8605 - val_loss: 0.5578 - val_accuracy: 0.8095\n",
      "Epoch 99/100\n",
      "220/220 [==============================] - 3s 16ms/step - loss: 0.3857 - accuracy: 0.8525 - val_loss: 0.3342 - val_accuracy: 0.8619\n",
      "Epoch 100/100\n",
      "220/220 [==============================] - 4s 16ms/step - loss: 0.3475 - accuracy: 0.8595 - val_loss: 0.3907 - val_accuracy: 0.8414\n"
     ]
    }
   ],
   "source": [
    "history = model.fit(\n",
    "    X_train, y_train,\n",
    "    epochs=100,\n",
    "    batch_size=32,\n",
    "    validation_split=0.1,\n",
    "    shuffle=False\n",
    ")"
   ]
  },
  {
   "cell_type": "code",
   "execution_count": 122,
   "id": "b52b3aef",
   "metadata": {
    "scrolled": true
   },
   "outputs": [
    {
     "data": {
      "image/png": "[encoded data removed]",
      "text/plain": [
       "<Figure size 600x400 with 1 Axes>"
      ]
     },
     "metadata": {},
     "output_type": "display_data"
    }
   ],
   "source": [
    "import matplotlib.pyplot as plt\n",
    "from sklearn.metrics import classification_report, confusion_matrix, ConfusionMatrixDisplay\n",
    "\n",
    "plt.figure(figsize=(6, 4))\n",
    "plt.plot(history.history['accuracy'], 'r', label='Accuracy of training data')\n",
    "plt.plot(history.history['loss'], 'r--', label='Loss of training data')\n",
    "plt.title('Model Accuracy and Loss')\n",
    "plt.ylabel('Accuracy and Loss')\n",
    "plt.xlabel('Training Epoch')\n",
    "plt.ylim(0)\n",
    "plt.legend()\n",
    "plt.show()\n",
    "\n"
   ]
  },
  {
   "cell_type": "code",
   "execution_count": 123,
   "id": "159e8304",
   "metadata": {
    "scrolled": true
   },
   "outputs": [
    {
     "name": "stdout",
     "output_type": "stream",
     "text": [
      "31/31 [==============================] - 1s 5ms/step\n"
     ]
    },
    {
     "data": {
      "image/png": "[encoded data removed]",
      "text/plain": [
       "<Figure size 640x480 with 2 Axes>"
      ]
     },
     "metadata": {},
     "output_type": "display_data"
    }
   ],
   "source": [
    "predictions = model.predict(X_val)\n",
    "predictions = np.argmax(predictions, axis=1)\n",
    "y_val_pred = np.argmax(y_val, axis=1)\n",
    "cm = confusion_matrix(y_val_pred, predictions)\n",
    "cm_disp = ConfusionMatrixDisplay(confusion_matrix= cm)\n",
    "cm_disp.plot()\n",
    "plt.show()"
   ]
  },
  {
   "cell_type": "code",
   "execution_count": 124,
   "id": "7c88d8c8",
   "metadata": {},
   "outputs": [
    {
     "name": "stdout",
     "output_type": "stream",
     "text": [
      "              precision    recall  f1-score   support\n",
      "\n",
      "           0       0.79      0.68      0.73       133\n",
      "           1       0.81      0.81      0.81        42\n",
      "           2       0.84      0.89      0.87       137\n",
      "           3       0.93      0.63      0.75       144\n",
      "           4       0.90      0.99      0.95       284\n",
      "           5       0.78      0.92      0.84       121\n",
      "           6       0.80      0.85      0.83       117\n",
      "\n",
      "    accuracy                           0.85       978\n",
      "   macro avg       0.84      0.82      0.82       978\n",
      "weighted avg       0.85      0.85      0.84       978\n",
      "\n"
     ]
    }
   ],
   "source": [
    "print(classification_report(y_val_pred, predictions))"
   ]
  },
  {
   "cell_type": "code",
   "execution_count": 125,
   "id": "76b40720",
   "metadata": {
    "scrolled": true
   },
   "outputs": [
    {
     "name": "stdout",
     "output_type": "stream",
     "text": [
      "31/31 [==============================] - 0s 6ms/step - loss: 0.3628 - accuracy: 0.8487\n"
     ]
    },
    {
     "data": {
      "text/plain": [
       "[0.3628159165382385, 0.8486707806587219]"
      ]
     },
     "execution_count": 125,
     "metadata": {},
     "output_type": "execute_result"
    }
   ],
   "source": [
    "model.evaluate(X_val, y_val)"
   ]
  },
  {
   "cell_type": "code",
   "execution_count": 126,
   "id": "a62e7610",
   "metadata": {
    "scrolled": true
   },
   "outputs": [
    {
     "data": {
      "text/plain": [
       "['Coughing',\n",
       " 'Eating',\n",
       " 'Hyperventilating',\n",
       " 'Laughing',\n",
       " 'Normal',\n",
       " 'Singing',\n",
       " 'Talking']"
      ]
     },
     "execution_count": 126,
     "metadata": {},
     "output_type": "execute_result"
    }
   ],
   "source": [
    "[name[3:] for name in enc.get_feature_names_out()]"
   ]
  },
  {
   "cell_type": "code",
   "execution_count": 127,
   "id": "143e5c3b",
   "metadata": {},
   "outputs": [
    {
     "name": "stderr",
     "output_type": "stream",
     "text": [
      "WARNING:absl:Found untraced functions such as lstm_cell_10_layer_call_fn, lstm_cell_10_layer_call_and_return_conditional_losses, lstm_cell_11_layer_call_fn, lstm_cell_11_layer_call_and_return_conditional_losses while saving (showing 4 of 4). These functions will not be directly callable after loading.\n"
     ]
    },
    {
     "name": "stdout",
     "output_type": "stream",
     "text": [
      "INFO:tensorflow:Assets written to: C:\\Users\\DANIEL~1\\AppData\\Local\\Temp\\tmp5_0le3d3\\assets\n"
     ]
    },
    {
     "name": "stderr",
     "output_type": "stream",
     "text": [
      "INFO:tensorflow:Assets written to: C:\\Users\\DANIEL~1\\AppData\\Local\\Temp\\tmp5_0le3d3\\assets\n"
     ]
    }
   ],
   "source": [
    "\n",
    "# Convert the model.\n",
    "converter = tf.lite.TFLiteConverter.from_keras_model(model)\n",
    "converter.target_spec.supported_ops = [tf.lite.OpsSet.TFLITE_BUILTINS, tf.lite.OpsSet.SELECT_TF_OPS]\n",
    "converter._experimental_lower_tensor_list_ops = False\n",
    "tflite_model = converter.convert()\n",
    "\n",
    "# Save the model.\n",
    "with open('C:/Users/Public/model_subactivities.tflite', 'wb') as f:\n",
    "  f.write(tflite_model)"
   ]
  }
 ],
 "metadata": {
  "kernelspec": {
   "display_name": "Python 3 (ipykernel)",
   "language": "python",
   "name": "python3"
  },
  "language_info": {
   "codemirror_mode": {
    "name": "ipython",
    "version": 3
   },
   "file_extension": ".py",
   "mimetype": "text/x-python",
   "name": "python",
   "nbconvert_exporter": "python",
   "pygments_lexer": "ipython3",
   "version": "3.8.12"
  }
 },
 "nbformat": 4,
 "nbformat_minor": 5
}
