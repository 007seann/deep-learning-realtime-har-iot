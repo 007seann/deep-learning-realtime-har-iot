{
 "cells": [
  {
   "cell_type": "code",
   "execution_count": 11,
   "id": "ee95509e",
   "metadata": {
    "scrolled": true
   },
   "outputs": [],
   "source": [
    "import os\n",
    "import pandas as pd\n",
    "import numpy as np\n",
    "from sklearn.model_selection import train_test_split\n",
    "import tensorflow as tf\n",
    "from tensorflow import keras\n",
    "from tensorflow.keras import layers\n",
    "from sklearn.preprocessing import RobustScaler, OneHotEncoder"
   ]
  },
  {
   "cell_type": "code",
   "execution_count": 12,
   "id": "a20b414e",
   "metadata": {
    "scrolled": true
   },
   "outputs": [],
   "source": [
    "from tensorflow.keras.utils import to_categorical\n",
    "\n",
    "def import_and_clean_file(file, file_dir):\n",
    "    # read data from name of file\n",
    "    sensor, student, activity, activity_subtype, _, date, timestamp = file[:-4].split(\"_\")\n",
    "    # read in database\n",
    "    df = pd.read_csv(file_dir)\n",
    "    # drop features we dont want\n",
    "    df = df.drop(['ind', 'mag_x','mag_y','mag_z', 'gyro_x','gyro_y','gyro_z'], axis = 1, errors = 'ignore')\n",
    "    df['timestamp'] = df['timestamp'].astype(np.float64)\n",
    "    df['activity'] = activity\n",
    "    df['activity_subtype'] = activity_subtype\n",
    "    df.sort_values(by=['timestamp'])\n",
    "    \n",
    "    return df"
   ]
  },
  {
   "cell_type": "code",
   "execution_count": 13,
   "id": "b64a7f9a",
   "metadata": {
    "scrolled": true
   },
   "outputs": [],
   "source": [
    "from scipy import stats\n",
    "\n",
    "def get_X_y(directory='2023', window_size=25, overlap=10):\n",
    "    # Initialize lists to store data and labels\n",
    "    X = []  # Data\n",
    "    y = []  # Labels\n",
    "\n",
    "    # Loop through the clean-named subfolders\n",
    "    for student in os.listdir(directory):\n",
    "            if \"placeholder\" not in student:\n",
    "                student_directory = os.path.join(directory, student)\n",
    "                # itterate through students data\n",
    "                for file in os.listdir(student_directory):\n",
    "                    file_dir = os.path.join(student_directory, file)\n",
    "                    if os.path.isfile(file_dir) and \"clean\" in file and \"Respeck\" in file:\n",
    "                        sensor, student, activity, activity_subtype, _, date, timestamp = file[:-4].split(\"_\")\n",
    "                        df = import_and_clean_file(file, file_dir)\n",
    "                        # Split the time series data into overlapping windows\n",
    "                        for i in range(0, len(df) - window_size + 1, overlap):\n",
    "                            window = df[i:i + window_size]\n",
    "                            # create X matrix\n",
    "                            X.append(window.drop(columns=['timestamp','activity', 'activity_subtype']))\n",
    "                            # create y matrix\n",
    "                            y.append(activity)\n",
    "\n",
    "    return np.array(X), np.array(y).reshape(-1,1)"
   ]
  },
  {
   "cell_type": "code",
   "execution_count": 14,
   "id": "2c6b56c0",
   "metadata": {
    "scrolled": true
   },
   "outputs": [
    {
     "name": "stdout",
     "output_type": "stream",
     "text": [
      "(7819, 25, 3) (7819, 1)\n"
     ]
    },
    {
     "data": {
      "text/html": [
       "<div>\n",
       "<style scoped>\n",
       "    .dataframe tbody tr th:only-of-type {\n",
       "        vertical-align: middle;\n",
       "    }\n",
       "\n",
       "    .dataframe tbody tr th {\n",
       "        vertical-align: top;\n",
       "    }\n",
       "\n",
       "    .dataframe thead th {\n",
       "        text-align: right;\n",
       "    }\n",
       "</style>\n",
       "<table border=\"1\" class=\"dataframe\">\n",
       "  <thead>\n",
       "    <tr style=\"text-align: right;\">\n",
       "      <th></th>\n",
       "      <th>0</th>\n",
       "      <th>1</th>\n",
       "      <th>2</th>\n",
       "    </tr>\n",
       "  </thead>\n",
       "  <tbody>\n",
       "    <tr>\n",
       "      <th>0</th>\n",
       "      <td>0.186768</td>\n",
       "      <td>0.019226</td>\n",
       "      <td>-0.940002</td>\n",
       "    </tr>\n",
       "    <tr>\n",
       "      <th>1</th>\n",
       "      <td>0.175537</td>\n",
       "      <td>0.024841</td>\n",
       "      <td>-0.949280</td>\n",
       "    </tr>\n",
       "    <tr>\n",
       "      <th>2</th>\n",
       "      <td>0.188965</td>\n",
       "      <td>0.034607</td>\n",
       "      <td>-0.961975</td>\n",
       "    </tr>\n",
       "    <tr>\n",
       "      <th>3</th>\n",
       "      <td>0.200928</td>\n",
       "      <td>0.006287</td>\n",
       "      <td>-1.013000</td>\n",
       "    </tr>\n",
       "    <tr>\n",
       "      <th>4</th>\n",
       "      <td>0.255127</td>\n",
       "      <td>-0.010803</td>\n",
       "      <td>-0.857727</td>\n",
       "    </tr>\n",
       "  </tbody>\n",
       "</table>\n",
       "</div>"
      ],
      "text/plain": [
       "          0         1         2\n",
       "0  0.186768  0.019226 -0.940002\n",
       "1  0.175537  0.024841 -0.949280\n",
       "2  0.188965  0.034607 -0.961975\n",
       "3  0.200928  0.006287 -1.013000\n",
       "4  0.255127 -0.010803 -0.857727"
      ]
     },
     "execution_count": 14,
     "metadata": {},
     "output_type": "execute_result"
    }
   ],
   "source": [
    "X, y = get_X_y()\n",
    "X_train, X_temp, y_train, y_temp = train_test_split(X, y, test_size=0.2, random_state=42)\n",
    "X_test, X_val, y_test, y_val = train_test_split(X_temp, y_temp, test_size=0.5, random_state=42)\n",
    "print(X_train.shape, y_train.shape)\n",
    "\n",
    "pd.DataFrame(X_train[0]).head()"
   ]
  },
  {
   "cell_type": "code",
   "execution_count": 15,
   "id": "4dd7af2c",
   "metadata": {
    "scrolled": true
   },
   "outputs": [
    {
     "name": "stdout",
     "output_type": "stream",
     "text": [
      "(7819, 25, 3) (7819, 12)\n"
     ]
    }
   ],
   "source": [
    "enc = OneHotEncoder(handle_unknown='ignore', sparse=False)\n",
    "\n",
    "enc = enc.fit(y_train)\n",
    "y_train = enc.transform(y_train)\n",
    "enc = enc.fit(y_val)\n",
    "y_val = enc.transform(y_val)\n",
    "\n",
    "# enc = enc.fit(y_test)\n",
    "# y_test = enc.transform(y_test)\n",
    "print(X_train.shape, y_train.shape)"
   ]
  },
  {
   "cell_type": "code",
   "execution_count": 17,
   "id": "cacd9ca1",
   "metadata": {
    "scrolled": true
   },
   "outputs": [],
   "source": [
    "model = keras.Sequential()\n",
    "model.add(keras.layers.Normalization())\n",
    "model.add(\n",
    "    keras.layers.Bidirectional(\n",
    "      keras.layers.LSTM(\n",
    "          units=128, \n",
    "          input_shape=[X_train.shape[1], X_train.shape[2]]\n",
    "      )\n",
    "    )\n",
    ")\n",
    "model.add(keras.layers.Dropout(rate=0.5))\n",
    "model.add(keras.layers.Dense(units=128, activation='relu'))\n",
    "model.add(keras.layers.Dense(y_train.shape[1], activation='softmax'))\n",
    "model.compile(loss='categorical_crossentropy', optimizer='adam', metrics=['accuracy'])"
   ]
  },
  {
   "cell_type": "code",
   "execution_count": 18,
   "id": "ac37055d",
   "metadata": {
    "scrolled": true
   },
   "outputs": [
    {
     "name": "stdout",
     "output_type": "stream",
     "text": [
      "Epoch 1/50\n",
      "220/220 [==============================] - 13s 43ms/step - loss: 0.8393 - accuracy: 0.7004 - val_loss: 0.6242 - val_accuracy: 0.7404\n",
      "Epoch 2/50\n",
      "220/220 [==============================] - 7s 31ms/step - loss: 0.6337 - accuracy: 0.7580 - val_loss: 0.5831 - val_accuracy: 0.7711\n",
      "Epoch 3/50\n",
      "220/220 [==============================] - 7s 33ms/step - loss: 0.5701 - accuracy: 0.7772 - val_loss: 0.5267 - val_accuracy: 0.7864\n",
      "Epoch 4/50\n",
      "220/220 [==============================] - 8s 35ms/step - loss: 0.5371 - accuracy: 0.7903 - val_loss: 0.5588 - val_accuracy: 0.7877\n",
      "Epoch 5/50\n",
      "220/220 [==============================] - 7s 32ms/step - loss: 0.5210 - accuracy: 0.8011 - val_loss: 0.5532 - val_accuracy: 0.7839\n",
      "Epoch 6/50\n",
      "220/220 [==============================] - 8s 37ms/step - loss: 0.5440 - accuracy: 0.7925 - val_loss: 0.5134 - val_accuracy: 0.7967\n",
      "Epoch 7/50\n",
      "220/220 [==============================] - 10s 46ms/step - loss: 0.4948 - accuracy: 0.8094 - val_loss: 0.5382 - val_accuracy: 0.7839\n",
      "Epoch 8/50\n",
      "220/220 [==============================] - 9s 39ms/step - loss: 0.4916 - accuracy: 0.8155 - val_loss: 0.5054 - val_accuracy: 0.8120\n",
      "Epoch 9/50\n",
      "220/220 [==============================] - 7s 31ms/step - loss: 0.4795 - accuracy: 0.8180 - val_loss: 0.4784 - val_accuracy: 0.8005\n",
      "Epoch 10/50\n",
      "220/220 [==============================] - 7s 31ms/step - loss: 0.4663 - accuracy: 0.8241 - val_loss: 0.4547 - val_accuracy: 0.8274\n",
      "Epoch 11/50\n",
      "220/220 [==============================] - 7s 32ms/step - loss: 0.4569 - accuracy: 0.8285 - val_loss: 0.4336 - val_accuracy: 0.8389\n",
      "Epoch 12/50\n",
      "220/220 [==============================] - 6s 27ms/step - loss: 0.4396 - accuracy: 0.8370 - val_loss: 0.4095 - val_accuracy: 0.8529\n",
      "Epoch 13/50\n",
      "220/220 [==============================] - 6s 29ms/step - loss: 0.4327 - accuracy: 0.8381 - val_loss: 0.4145 - val_accuracy: 0.8389\n",
      "Epoch 14/50\n",
      "220/220 [==============================] - 6s 29ms/step - loss: 0.4258 - accuracy: 0.8383 - val_loss: 0.4206 - val_accuracy: 0.8453\n",
      "Epoch 15/50\n",
      "220/220 [==============================] - 7s 34ms/step - loss: 0.4093 - accuracy: 0.8457 - val_loss: 0.4014 - val_accuracy: 0.8376\n",
      "Epoch 16/50\n",
      "220/220 [==============================] - 7s 30ms/step - loss: 0.3920 - accuracy: 0.8518 - val_loss: 0.3833 - val_accuracy: 0.8708\n",
      "Epoch 17/50\n",
      "220/220 [==============================] - 7s 30ms/step - loss: 0.3642 - accuracy: 0.8600 - val_loss: 0.3530 - val_accuracy: 0.8696\n",
      "Epoch 18/50\n",
      "220/220 [==============================] - 7s 31ms/step - loss: 0.3457 - accuracy: 0.8659 - val_loss: 0.3261 - val_accuracy: 0.8747\n",
      "Epoch 19/50\n",
      "220/220 [==============================] - 6s 27ms/step - loss: 0.3298 - accuracy: 0.8718 - val_loss: 0.3149 - val_accuracy: 0.8670\n",
      "Epoch 20/50\n",
      "220/220 [==============================] - 6s 29ms/step - loss: 0.2977 - accuracy: 0.8809 - val_loss: 0.2918 - val_accuracy: 0.8645\n",
      "Epoch 21/50\n",
      "220/220 [==============================] - 6s 29ms/step - loss: 0.2915 - accuracy: 0.8812 - val_loss: 0.2995 - val_accuracy: 0.8772\n",
      "Epoch 22/50\n",
      "220/220 [==============================] - 6s 28ms/step - loss: 0.2695 - accuracy: 0.8877 - val_loss: 0.2758 - val_accuracy: 0.8849\n",
      "Epoch 23/50\n",
      "220/220 [==============================] - 7s 30ms/step - loss: 0.2885 - accuracy: 0.8863 - val_loss: 0.3426 - val_accuracy: 0.8721\n",
      "Epoch 24/50\n",
      "220/220 [==============================] - 7s 32ms/step - loss: 0.2661 - accuracy: 0.8911 - val_loss: 0.3284 - val_accuracy: 0.8708\n",
      "Epoch 25/50\n",
      "220/220 [==============================] - 8s 38ms/step - loss: 0.2585 - accuracy: 0.8944 - val_loss: 0.2540 - val_accuracy: 0.8926\n",
      "Epoch 26/50\n",
      "220/220 [==============================] - 7s 32ms/step - loss: 0.2456 - accuracy: 0.8984 - val_loss: 0.2651 - val_accuracy: 0.8836\n",
      "Epoch 27/50\n",
      "220/220 [==============================] - 7s 31ms/step - loss: 0.2503 - accuracy: 0.8946 - val_loss: 0.2437 - val_accuracy: 0.8977\n",
      "Epoch 28/50\n",
      "220/220 [==============================] - 7s 31ms/step - loss: 0.2329 - accuracy: 0.9018 - val_loss: 0.2514 - val_accuracy: 0.8887\n",
      "Epoch 29/50\n",
      "220/220 [==============================] - 8s 35ms/step - loss: 0.2403 - accuracy: 0.9010 - val_loss: 0.2364 - val_accuracy: 0.9003\n",
      "Epoch 30/50\n",
      "220/220 [==============================] - 7s 33ms/step - loss: 0.2203 - accuracy: 0.9037 - val_loss: 0.2457 - val_accuracy: 0.9054\n",
      "Epoch 31/50\n",
      "220/220 [==============================] - 8s 35ms/step - loss: 0.2197 - accuracy: 0.9039 - val_loss: 0.2439 - val_accuracy: 0.9015\n",
      "Epoch 32/50\n",
      "220/220 [==============================] - 7s 34ms/step - loss: 0.2111 - accuracy: 0.9112 - val_loss: 0.2202 - val_accuracy: 0.9041\n",
      "Epoch 33/50\n",
      "220/220 [==============================] - 7s 31ms/step - loss: 0.2008 - accuracy: 0.9116 - val_loss: 0.2227 - val_accuracy: 0.9092\n",
      "Epoch 34/50\n",
      "220/220 [==============================] - 13s 60ms/step - loss: 0.1972 - accuracy: 0.9081 - val_loss: 0.2228 - val_accuracy: 0.9105\n",
      "Epoch 35/50\n",
      "220/220 [==============================] - 12s 56ms/step - loss: 0.2004 - accuracy: 0.9119 - val_loss: 0.2264 - val_accuracy: 0.9092\n",
      "Epoch 36/50\n",
      "220/220 [==============================] - 10s 43ms/step - loss: 0.1970 - accuracy: 0.9129 - val_loss: 0.2350 - val_accuracy: 0.9028\n",
      "Epoch 37/50\n",
      "220/220 [==============================] - 7s 33ms/step - loss: 0.1875 - accuracy: 0.9193 - val_loss: 0.2200 - val_accuracy: 0.9118\n",
      "Epoch 38/50\n",
      "220/220 [==============================] - 7s 32ms/step - loss: 0.1956 - accuracy: 0.9154 - val_loss: 0.2354 - val_accuracy: 0.9041\n",
      "Epoch 39/50\n",
      "220/220 [==============================] - 7s 34ms/step - loss: 0.1842 - accuracy: 0.9163 - val_loss: 0.2256 - val_accuracy: 0.9156\n",
      "Epoch 40/50\n",
      "220/220 [==============================] - 7s 33ms/step - loss: 0.2025 - accuracy: 0.9143 - val_loss: 0.2072 - val_accuracy: 0.9143\n",
      "Epoch 41/50\n",
      "220/220 [==============================] - 7s 32ms/step - loss: 0.1976 - accuracy: 0.9146 - val_loss: 0.2187 - val_accuracy: 0.9143\n",
      "Epoch 42/50\n",
      "220/220 [==============================] - 7s 34ms/step - loss: 0.1764 - accuracy: 0.9217 - val_loss: 0.2151 - val_accuracy: 0.9194\n",
      "Epoch 43/50\n",
      "220/220 [==============================] - 7s 32ms/step - loss: 0.1829 - accuracy: 0.9190 - val_loss: 0.2106 - val_accuracy: 0.9143\n",
      "Epoch 44/50\n",
      "220/220 [==============================] - 7s 33ms/step - loss: 0.1729 - accuracy: 0.9228 - val_loss: 0.2118 - val_accuracy: 0.9118\n",
      "Epoch 45/50\n",
      "220/220 [==============================] - 7s 34ms/step - loss: 0.1773 - accuracy: 0.9213 - val_loss: 0.2106 - val_accuracy: 0.9182\n",
      "Epoch 46/50\n",
      "220/220 [==============================] - 7s 32ms/step - loss: 0.1698 - accuracy: 0.9250 - val_loss: 0.1920 - val_accuracy: 0.9092\n",
      "Epoch 47/50\n",
      "220/220 [==============================] - 7s 32ms/step - loss: 0.1708 - accuracy: 0.9224 - val_loss: 0.1925 - val_accuracy: 0.9194\n",
      "Epoch 48/50\n",
      "220/220 [==============================] - 7s 34ms/step - loss: 0.1766 - accuracy: 0.9231 - val_loss: 0.2084 - val_accuracy: 0.9118\n",
      "Epoch 49/50\n",
      "220/220 [==============================] - 7s 32ms/step - loss: 0.1640 - accuracy: 0.9260 - val_loss: 0.1831 - val_accuracy: 0.9207\n",
      "Epoch 50/50\n",
      "220/220 [==============================] - 9s 40ms/step - loss: 0.1588 - accuracy: 0.9291 - val_loss: 0.1893 - val_accuracy: 0.9156\n"
     ]
    }
   ],
   "source": [
    "history = model.fit(\n",
    "    X_train, y_train,\n",
    "    epochs=50,\n",
    "    batch_size=32,\n",
    "    validation_split=0.1,\n",
    "    shuffle=False\n",
    ")"
   ]
  },
  {
   "cell_type": "code",
   "execution_count": 19,
   "id": "b52b3aef",
   "metadata": {
    "scrolled": true
   },
   "outputs": [
    {
     "data": {
      "image/png": "[encoded data removed]",
      "text/plain": [
       "<Figure size 600x400 with 1 Axes>"
      ]
     },
     "metadata": {},
     "output_type": "display_data"
    }
   ],
   "source": [
    "import matplotlib.pyplot as plt\n",
    "from sklearn.metrics import classification_report, confusion_matrix, ConfusionMatrixDisplay\n",
    "\n",
    "plt.figure(figsize=(6, 4))\n",
    "plt.plot(history.history['accuracy'], 'r', label='Accuracy of training data')\n",
    "plt.plot(history.history['loss'], 'r--', label='Loss of training data')\n",
    "plt.title('Model Accuracy and Loss')\n",
    "plt.ylabel('Accuracy and Loss')\n",
    "plt.xlabel('Training Epoch')\n",
    "plt.ylim(0)\n",
    "plt.legend()\n",
    "plt.show()\n",
    "\n"
   ]
  },
  {
   "cell_type": "code",
   "execution_count": 20,
   "id": "159e8304",
   "metadata": {
    "scrolled": true
   },
   "outputs": [
    {
     "name": "stdout",
     "output_type": "stream",
     "text": [
      "31/31 [==============================] - 1s 14ms/step\n"
     ]
    },
    {
     "data": {
      "image/png": "[encoded data removed]",
      "text/plain": [
       "<Figure size 640x480 with 2 Axes>"
      ]
     },
     "metadata": {},
     "output_type": "display_data"
    }
   ],
   "source": [
    "predictions = model.predict(X_val)\n",
    "predictions = np.argmax(predictions, axis=1)\n",
    "y_val_pred = np.argmax(y_val, axis=1)\n",
    "cm = confusion_matrix(y_val_pred, predictions)\n",
    "cm_disp = ConfusionMatrixDisplay(confusion_matrix= cm)\n",
    "cm_disp.plot()\n",
    "plt.show()"
   ]
  },
  {
   "cell_type": "code",
   "execution_count": 21,
   "id": "7c88d8c8",
   "metadata": {},
   "outputs": [
    {
     "name": "stdout",
     "output_type": "stream",
     "text": [
      "              precision    recall  f1-score   support\n",
      "\n",
      "           0       0.89      0.94      0.91        17\n",
      "           1       0.90      0.90      0.90        21\n",
      "           2       1.00      1.00      1.00       153\n",
      "           3       0.87      1.00      0.93       123\n",
      "           4       0.99      1.00      1.00       140\n",
      "           5       1.00      1.00      1.00       115\n",
      "           6       0.62      0.62      0.62        21\n",
      "           7       0.82      0.67      0.73        27\n",
      "           8       1.00      1.00      1.00        36\n",
      "           9       0.95      0.95      0.95        21\n",
      "          10       0.85      0.83      0.84       154\n",
      "          11       0.81      0.75      0.78       150\n",
      "\n",
      "    accuracy                           0.91       978\n",
      "   macro avg       0.89      0.89      0.89       978\n",
      "weighted avg       0.91      0.91      0.91       978\n",
      "\n"
     ]
    }
   ],
   "source": [
    "print(classification_report(y_val_pred, predictions))"
   ]
  },
  {
   "cell_type": "code",
   "execution_count": 22,
   "id": "76b40720",
   "metadata": {
    "scrolled": true
   },
   "outputs": [
    {
     "name": "stdout",
     "output_type": "stream",
     "text": [
      "31/31 [==============================] - 0s 12ms/step - loss: 0.1934 - accuracy: 0.9131\n"
     ]
    },
    {
     "data": {
      "text/plain": [
       "[0.19335660338401794, 0.9130879640579224]"
      ]
     },
     "execution_count": 22,
     "metadata": {},
     "output_type": "execute_result"
    }
   ],
   "source": [
    "model.evaluate(X_val, y_val)"
   ]
  },
  {
   "cell_type": "code",
   "execution_count": 23,
   "id": "a62e7610",
   "metadata": {
    "scrolled": true
   },
   "outputs": [
    {
     "data": {
      "text/plain": [
       "['Ascending stairs',\n",
       " 'Descending stairs',\n",
       " 'Lying down back',\n",
       " 'Lying down on left',\n",
       " 'Lying down on stomach',\n",
       " 'Lying down right',\n",
       " 'Miscellaneous movements',\n",
       " 'Normal walking',\n",
       " 'Running',\n",
       " 'Shuffle walking',\n",
       " 'Sitting',\n",
       " 'Standing']"
      ]
     },
     "execution_count": 23,
     "metadata": {},
     "output_type": "execute_result"
    }
   ],
   "source": [
    "[name[3:] for name in enc.get_feature_names_out()]"
   ]
  },
  {
   "cell_type": "code",
   "execution_count": 24,
   "id": "ce9531cb",
   "metadata": {},
   "outputs": [
    {
     "name": "stderr",
     "output_type": "stream",
     "text": [
      "WARNING:absl:Found untraced functions such as lstm_cell_7_layer_call_fn, lstm_cell_7_layer_call_and_return_conditional_losses, lstm_cell_8_layer_call_fn, lstm_cell_8_layer_call_and_return_conditional_losses while saving (showing 4 of 4). These functions will not be directly callable after loading.\n"
     ]
    },
    {
     "name": "stdout",
     "output_type": "stream",
     "text": [
      "INFO:tensorflow:Assets written to: /tmp/tmpucz6aybi/assets\n"
     ]
    },
    {
     "name": "stderr",
     "output_type": "stream",
     "text": [
      "INFO:tensorflow:Assets written to: /tmp/tmpucz6aybi/assets\n",
      "2023-10-19 14:51:47.267451: W tensorflow/compiler/mlir/lite/python/tf_tfl_flatbuffer_helpers.cc:362] Ignored output_format.\n",
      "2023-10-19 14:51:47.267488: W tensorflow/compiler/mlir/lite/python/tf_tfl_flatbuffer_helpers.cc:365] Ignored drop_control_dependency.\n",
      "2023-10-19 14:51:47.268391: I tensorflow/cc/saved_model/reader.cc:45] Reading SavedModel from: /tmp/tmpucz6aybi\n",
      "2023-10-19 14:51:47.292241: I tensorflow/cc/saved_model/reader.cc:89] Reading meta graph with tags { serve }\n",
      "2023-10-19 14:51:47.292464: I tensorflow/cc/saved_model/reader.cc:130] Reading SavedModel debug info (if present) from: /tmp/tmpucz6aybi\n",
      "2023-10-19 14:51:47.311409: I tensorflow/core/common_runtime/process_util.cc:146] Creating new thread pool with default inter op setting: 2. Tune using inter_op_parallelism_threads for best performance.\n",
      "2023-10-19 14:51:47.363146: I tensorflow/compiler/mlir/mlir_graph_optimization_pass.cc:354] MLIR V1 optimization pass is not enabled\n",
      "2023-10-19 14:51:47.396229: I tensorflow/cc/saved_model/loader.cc:229] Restoring SavedModel bundle.\n",
      "2023-10-19 14:51:47.597771: I tensorflow/cc/saved_model/loader.cc:213] Running initialization op on SavedModel bundle at path: /tmp/tmpucz6aybi\n",
      "2023-10-19 14:51:47.727128: I tensorflow/cc/saved_model/loader.cc:305] SavedModel load for tags { serve }; Status: success: OK. Took 458738 microseconds.\n",
      "2023-10-19 14:51:48.100070: I tensorflow/compiler/mlir/tensorflow/utils/dump_mlir_util.cc:268] disabling MLIR crash reproducer, set env var `MLIR_CRASH_REPRODUCER_DIRECTORY` to enable.\n",
      "2023-10-19 14:51:48.322795: I tensorflow/core/common_runtime/process_util.cc:146] Creating new thread pool with default inter op setting: 2. Tune using inter_op_parallelism_threads for best performance.\n",
      "2023-10-19 14:51:48.410336: W tensorflow/compiler/mlir/lite/flatbuffer_export.cc:1918] TFLite interpreter needs to link Flex delegate in order to run the model since it contains the following Select TFop(s):\n",
      "Flex ops: FlexTensorListReserve, FlexTensorListSetItem, FlexTensorListStack\n",
      "Details:\n",
      "\ttf.TensorListReserve(tensor<2xi32>, tensor<i32>) -> (tensor<!tf_type.variant<tensor<?x128xf32>>>) : {device = \"\"}\n",
      "\ttf.TensorListSetItem(tensor<!tf_type.variant<tensor<?x128xf32>>>, tensor<i32>, tensor<?x128xf32>) -> (tensor<!tf_type.variant<tensor<?x128xf32>>>) : {device = \"\"}\n",
      "\ttf.TensorListStack(tensor<!tf_type.variant<tensor<?x128xf32>>>, tensor<2xi32>) -> (tensor<1x?x128xf32>) : {device = \"\", num_elements = 1 : i64}\n",
      "See instructions: https://www.tensorflow.org/lite/guide/ops_select\n"
     ]
    },
    {
     "ename": "FileNotFoundError",
     "evalue": "[Errno 2] No such file or directory: 'C:/Users/Public/model.tflite'",
     "output_type": "error",
     "traceback": [
      "\u001b[0;31m---------------------------------------------------------------------------\u001b[0m",
      "\u001b[0;31mFileNotFoundError\u001b[0m                         Traceback (most recent call last)",
      "\u001b[0;32m/tmp/ipykernel_7102/3133244243.py\u001b[0m in \u001b[0;36m<module>\u001b[0;34m\u001b[0m\n\u001b[1;32m      6\u001b[0m \u001b[0;34m\u001b[0m\u001b[0m\n\u001b[1;32m      7\u001b[0m \u001b[0;31m# Save the model.\u001b[0m\u001b[0;34m\u001b[0m\u001b[0;34m\u001b[0m\u001b[0;34m\u001b[0m\u001b[0m\n\u001b[0;32m----> 8\u001b[0;31m \u001b[0;32mwith\u001b[0m \u001b[0mopen\u001b[0m\u001b[0;34m(\u001b[0m\u001b[0;34m'C:/Users/Public/model.tflite'\u001b[0m\u001b[0;34m,\u001b[0m \u001b[0;34m'wb'\u001b[0m\u001b[0;34m)\u001b[0m \u001b[0;32mas\u001b[0m \u001b[0mf\u001b[0m\u001b[0;34m:\u001b[0m\u001b[0;34m\u001b[0m\u001b[0;34m\u001b[0m\u001b[0m\n\u001b[0m\u001b[1;32m      9\u001b[0m   \u001b[0mf\u001b[0m\u001b[0;34m.\u001b[0m\u001b[0mwrite\u001b[0m\u001b[0;34m(\u001b[0m\u001b[0mtflite_model\u001b[0m\u001b[0;34m)\u001b[0m\u001b[0;34m\u001b[0m\u001b[0;34m\u001b[0m\u001b[0m\n",
      "\u001b[0;31mFileNotFoundError\u001b[0m: [Errno 2] No such file or directory: 'C:/Users/Public/model.tflite'"
     ]
    }
   ],
   "source": [
    "\n",
    "# Convert the model.\n",
    "converter = tf.lite.TFLiteConverter.from_keras_model(model)\n",
    "converter.target_spec.supported_ops = [tf.lite.OpsSet.TFLITE_BUILTINS, tf.lite.OpsSet.SELECT_TF_OPS]\n",
    "converter._experimental_lower_tensor_list_ops = False\n",
    "tflite_model = converter.convert()\n",
    "\n",
    "# Save the model.\n",
    "with open('C:/Users/Public/model.tflite', 'wb') as f:\n",
    "  f.write(tflite_model)"
   ]
  }
 ],
 "metadata": {
  "kernelspec": {
   "display_name": "Python 3 (ipykernel)",
   "language": "python",
   "name": "python3"
  },
  "language_info": {
   "codemirror_mode": {
    "name": "ipython",
    "version": 3
   },
   "file_extension": ".py",
   "mimetype": "text/x-python",
   "name": "python",
   "nbconvert_exporter": "python",
   "pygments_lexer": "ipython3",
   "version": "3.7.16"
  }
 },
 "nbformat": 4,
 "nbformat_minor": 5
}
