{
 "cells": [
  {
   "cell_type": "code",
   "execution_count": 1,
   "id": "ee95509e",
   "metadata": {
    "scrolled": true
   },
   "outputs": [
    {
     "name": "stderr",
     "output_type": "stream",
     "text": [
      "2023-10-11 10:11:56.893397: I tensorflow/core/platform/cpu_feature_guard.cc:193] This TensorFlow binary is optimized with oneAPI Deep Neural Network Library (oneDNN) to use the following CPU instructions in performance-critical operations:  SSE4.1 SSE4.2 AVX AVX2 FMA\n",
      "To enable them in other operations, rebuild TensorFlow with the appropriate compiler flags.\n"
     ]
    }
   ],
   "source": [
    "import os\n",
    "import pandas as pd\n",
    "import numpy as np\n",
    "from sklearn.model_selection import train_test_split\n",
    "import tensorflow as tf\n",
    "from tensorflow import keras\n",
    "from tensorflow.keras import layers\n",
    "from sklearn.preprocessing import RobustScaler, OneHotEncoder"
   ]
  },
  {
   "cell_type": "code",
   "execution_count": 2,
   "id": "a20b414e",
   "metadata": {
    "scrolled": true
   },
   "outputs": [],
   "source": [
    "from tensorflow.keras.utils import to_categorical\n",
    "\n",
    "def import_and_clean_file(file, file_dir):\n",
    "    # read data from name of file\n",
    "    sensor, student, activity, activity_subtype, _, date, timestamp = file[:-4].split(\"_\")\n",
    "    # read in database\n",
    "    df = pd.read_csv(file_dir)\n",
    "    # drop features we dont want\n",
    "    df = df.drop(['ind', 'mag_x','mag_y','mag_z'], axis = 1, errors = 'ignore')\n",
    "    scale_columns = ['accel_x', 'accel_y', 'accel_z']\n",
    "    df['timestamp'] = df['timestamp'].astype(np.float64)\n",
    "#     df['accel_x'] = df['accel_x'].astype(np.float64)\n",
    "#     df['accel_y'] = df['accel_y'].astype(np.float64)\n",
    "#     df['accel_z'] = df['accel_z'].astype(np.float64)\n",
    "#     df['gyro_x'] = df['gyro_x'].astype(np.float64)\n",
    "#     df['gyro_y'] = df['gyro_y'].astype(np.float64)\n",
    "#     df['gyro_z'] = df['gyro_z'].astype(np.float64)\n",
    "    df['activity'] = activity\n",
    "    df['activity_subtype'] = activity_subtype\n",
    "    df.sort_values(by=['timestamp'])\n",
    "    # scale data\n",
    "    \n",
    "    return df"
   ]
  },
  {
   "cell_type": "code",
   "execution_count": 3,
   "id": "b64a7f9a",
   "metadata": {
    "scrolled": true
   },
   "outputs": [],
   "source": [
    "from scipy import stats\n",
    "\n",
    "def get_X_y(directory='2023', window_size=100, overlap=25):\n",
    "    # Initialize lists to store data and labels\n",
    "    X = []  # Data\n",
    "    y = []  # Labels\n",
    "\n",
    "    # Loop through the clean-named subfolders\n",
    "    for student in os.listdir(directory):\n",
    "            if \"placeholder\" not in student:\n",
    "                student_directory = os.path.join(directory, student)\n",
    "                # itterate through students data\n",
    "                for file in os.listdir(student_directory):\n",
    "                    file_dir = os.path.join(student_directory, file)\n",
    "                    if os.path.isfile(file_dir) and \"clean\" in file :\n",
    "                        sensor, student, activity, activity_subtype, _, date, timestamp = file[:-4].split(\"_\")\n",
    "                        df = import_and_clean_file(file, file_dir)\n",
    "                        # Split the time series data into overlapping windows\n",
    "                        for i in range(0, len(df) - window_size + 1, overlap):\n",
    "                            window = df[i:i + window_size]\n",
    "                            if sensor == \"Respeck\":\n",
    "                                window['sensor'] = 1.0 \n",
    "                            else:\n",
    "                                window['sensor'] = 0.0 \n",
    "                            # create X matrix\n",
    "                            X.append(window.drop(columns=['timestamp','activity', 'activity_subtype']))\n",
    "                            # create y matrix\n",
    "                            y.append(activity)\n",
    "\n",
    "    return np.array(X), np.array(y).reshape(-1,1)"
   ]
  },
  {
   "cell_type": "code",
   "execution_count": 4,
   "id": "2c6b56c0",
   "metadata": {
    "scrolled": true
   },
   "outputs": [
    {
     "name": "stderr",
     "output_type": "stream",
     "text": [
      "/home/dan/miniconda3/envs/pdiot/lib/python3.7/site-packages/ipykernel_launcher.py:22: SettingWithCopyWarning: \n",
      "A value is trying to be set on a copy of a slice from a DataFrame.\n",
      "Try using .loc[row_indexer,col_indexer] = value instead\n",
      "\n",
      "See the caveats in the documentation: https://pandas.pydata.org/pandas-docs/stable/user_guide/indexing.html#returning-a-view-versus-a-copy\n",
      "/home/dan/miniconda3/envs/pdiot/lib/python3.7/site-packages/ipykernel_launcher.py:24: SettingWithCopyWarning: \n",
      "A value is trying to be set on a copy of a slice from a DataFrame.\n",
      "Try using .loc[row_indexer,col_indexer] = value instead\n",
      "\n",
      "See the caveats in the documentation: https://pandas.pydata.org/pandas-docs/stable/user_guide/indexing.html#returning-a-view-versus-a-copy\n"
     ]
    },
    {
     "name": "stdout",
     "output_type": "stream",
     "text": [
      "(4032, 25, 7) (4032, 1)\n"
     ]
    },
    {
     "data": {
      "text/html": [
       "<div>\n",
       "<style scoped>\n",
       "    .dataframe tbody tr th:only-of-type {\n",
       "        vertical-align: middle;\n",
       "    }\n",
       "\n",
       "    .dataframe tbody tr th {\n",
       "        vertical-align: top;\n",
       "    }\n",
       "\n",
       "    .dataframe thead th {\n",
       "        text-align: right;\n",
       "    }\n",
       "</style>\n",
       "<table border=\"1\" class=\"dataframe\">\n",
       "  <thead>\n",
       "    <tr style=\"text-align: right;\">\n",
       "      <th></th>\n",
       "      <th>0</th>\n",
       "      <th>1</th>\n",
       "      <th>2</th>\n",
       "      <th>3</th>\n",
       "      <th>4</th>\n",
       "      <th>5</th>\n",
       "      <th>6</th>\n",
       "    </tr>\n",
       "  </thead>\n",
       "  <tbody>\n",
       "    <tr>\n",
       "      <th>0</th>\n",
       "      <td>-0.268799</td>\n",
       "      <td>-0.956116</td>\n",
       "      <td>0.208435</td>\n",
       "      <td>0.968750</td>\n",
       "      <td>0.65625</td>\n",
       "      <td>0.421875</td>\n",
       "      <td>1.0</td>\n",
       "    </tr>\n",
       "    <tr>\n",
       "      <th>1</th>\n",
       "      <td>-0.252930</td>\n",
       "      <td>-0.937805</td>\n",
       "      <td>0.187439</td>\n",
       "      <td>-2.171875</td>\n",
       "      <td>1.06250</td>\n",
       "      <td>0.609375</td>\n",
       "      <td>1.0</td>\n",
       "    </tr>\n",
       "    <tr>\n",
       "      <th>2</th>\n",
       "      <td>-0.258057</td>\n",
       "      <td>-0.946594</td>\n",
       "      <td>0.203064</td>\n",
       "      <td>-4.218750</td>\n",
       "      <td>-0.53125</td>\n",
       "      <td>0.546875</td>\n",
       "      <td>1.0</td>\n",
       "    </tr>\n",
       "    <tr>\n",
       "      <th>3</th>\n",
       "      <td>-0.261963</td>\n",
       "      <td>-0.944641</td>\n",
       "      <td>0.217957</td>\n",
       "      <td>-1.843750</td>\n",
       "      <td>0.03125</td>\n",
       "      <td>0.515625</td>\n",
       "      <td>1.0</td>\n",
       "    </tr>\n",
       "    <tr>\n",
       "      <th>4</th>\n",
       "      <td>-0.290527</td>\n",
       "      <td>-0.956116</td>\n",
       "      <td>0.192566</td>\n",
       "      <td>1.000000</td>\n",
       "      <td>-0.25000</td>\n",
       "      <td>1.078125</td>\n",
       "      <td>1.0</td>\n",
       "    </tr>\n",
       "  </tbody>\n",
       "</table>\n",
       "</div>"
      ],
      "text/plain": [
       "          0         1         2         3        4         5    6\n",
       "0 -0.268799 -0.956116  0.208435  0.968750  0.65625  0.421875  1.0\n",
       "1 -0.252930 -0.937805  0.187439 -2.171875  1.06250  0.609375  1.0\n",
       "2 -0.258057 -0.946594  0.203064 -4.218750 -0.53125  0.546875  1.0\n",
       "3 -0.261963 -0.944641  0.217957 -1.843750  0.03125  0.515625  1.0\n",
       "4 -0.290527 -0.956116  0.192566  1.000000 -0.25000  1.078125  1.0"
      ]
     },
     "execution_count": 4,
     "metadata": {},
     "output_type": "execute_result"
    }
   ],
   "source": [
    "X, y = get_X_y('2023', 25)\n",
    "X_train, X_temp, y_train, y_temp = train_test_split(X, y, test_size=0.2, random_state=42)\n",
    "X_test, X_val, y_test, y_val = train_test_split(X_temp, y_temp, test_size=0.5, random_state=42)\n",
    "print(X_train.shape, y_train.shape)\n",
    "\n",
    "pd.DataFrame(X_train[0]).head()"
   ]
  },
  {
   "cell_type": "code",
   "execution_count": 5,
   "id": "4dd7af2c",
   "metadata": {
    "scrolled": true
   },
   "outputs": [
    {
     "name": "stdout",
     "output_type": "stream",
     "text": [
      "(4032, 25, 7) (4032, 12)\n"
     ]
    }
   ],
   "source": [
    "enc = OneHotEncoder(handle_unknown='ignore', sparse=False)\n",
    "\n",
    "enc = enc.fit(y_train)\n",
    "y_train = enc.transform(y_train)\n",
    "y_val = enc.transform(y_val)\n",
    "y_test = enc.transform(y_test)\n",
    "\n",
    "\n",
    "print(X_train.shape, y_train.shape)"
   ]
  },
  {
   "cell_type": "code",
   "execution_count": 6,
   "id": "cacd9ca1",
   "metadata": {
    "scrolled": true
   },
   "outputs": [
    {
     "name": "stderr",
     "output_type": "stream",
     "text": [
      "2023-10-11 10:12:03.475365: I tensorflow/core/platform/cpu_feature_guard.cc:193] This TensorFlow binary is optimized with oneAPI Deep Neural Network Library (oneDNN) to use the following CPU instructions in performance-critical operations:  SSE4.1 SSE4.2 AVX AVX2 FMA\n",
      "To enable them in other operations, rebuild TensorFlow with the appropriate compiler flags.\n",
      "2023-10-11 10:12:03.477052: I tensorflow/core/common_runtime/process_util.cc:146] Creating new thread pool with default inter op setting: 2. Tune using inter_op_parallelism_threads for best performance.\n"
     ]
    }
   ],
   "source": [
    "model = keras.Sequential()\n",
    "model.add(keras.layers.Normalization())\n",
    "model.add(\n",
    "    keras.layers.Bidirectional(\n",
    "      keras.layers.LSTM(\n",
    "          units=128, \n",
    "          input_shape=[X_train.shape[1], X_train.shape[2]]\n",
    "      )\n",
    "    )\n",
    ")\n",
    "model.add(keras.layers.Dropout(rate=0.5))\n",
    "model.add(keras.layers.Dense(units=128, activation='relu'))\n",
    "model.add(keras.layers.Dense(y_train.shape[1], activation='softmax'))\n",
    "model.compile(loss='categorical_crossentropy', optimizer='adam', metrics=['accuracy'])"
   ]
  },
  {
   "cell_type": "code",
   "execution_count": 7,
   "id": "ac37055d",
   "metadata": {
    "scrolled": true
   },
   "outputs": [
    {
     "name": "stdout",
     "output_type": "stream",
     "text": [
      "Epoch 1/20\n",
      "57/57 [==============================] - 6s 53ms/step - loss: 1.4163 - accuracy: 0.5019 - val_loss: 0.8099 - val_accuracy: 0.6609\n",
      "Epoch 2/20\n",
      "57/57 [==============================] - 2s 42ms/step - loss: 0.7187 - accuracy: 0.7020 - val_loss: 0.6569 - val_accuracy: 0.7203\n",
      "Epoch 3/20\n",
      "57/57 [==============================] - 3s 45ms/step - loss: 0.6072 - accuracy: 0.7401 - val_loss: 0.6047 - val_accuracy: 0.7178\n",
      "Epoch 4/20\n",
      "57/57 [==============================] - 3s 54ms/step - loss: 0.5216 - accuracy: 0.7740 - val_loss: 0.5706 - val_accuracy: 0.7500\n",
      "Epoch 5/20\n",
      "57/57 [==============================] - 3s 45ms/step - loss: 0.4867 - accuracy: 0.7955 - val_loss: 0.5319 - val_accuracy: 0.7599\n",
      "Epoch 6/20\n",
      "57/57 [==============================] - 3s 52ms/step - loss: 0.4410 - accuracy: 0.8084 - val_loss: 0.5137 - val_accuracy: 0.7822\n",
      "Epoch 7/20\n",
      "57/57 [==============================] - 2s 42ms/step - loss: 0.4004 - accuracy: 0.8288 - val_loss: 0.5048 - val_accuracy: 0.7649\n",
      "Epoch 8/20\n",
      "57/57 [==============================] - 3s 48ms/step - loss: 0.3663 - accuracy: 0.8343 - val_loss: 0.4427 - val_accuracy: 0.7822\n",
      "Epoch 9/20\n",
      "57/57 [==============================] - 3s 57ms/step - loss: 0.3491 - accuracy: 0.8418 - val_loss: 0.4280 - val_accuracy: 0.8218\n",
      "Epoch 10/20\n",
      "57/57 [==============================] - 2s 42ms/step - loss: 0.3341 - accuracy: 0.8498 - val_loss: 0.4506 - val_accuracy: 0.7896\n",
      "Epoch 11/20\n",
      "57/57 [==============================] - 3s 45ms/step - loss: 0.3148 - accuracy: 0.8622 - val_loss: 0.4126 - val_accuracy: 0.8243\n",
      "Epoch 12/20\n",
      "57/57 [==============================] - 2s 43ms/step - loss: 0.2945 - accuracy: 0.8776 - val_loss: 0.4261 - val_accuracy: 0.8317\n",
      "Epoch 13/20\n",
      "57/57 [==============================] - 2s 42ms/step - loss: 0.2641 - accuracy: 0.8878 - val_loss: 0.3982 - val_accuracy: 0.8441\n",
      "Epoch 14/20\n",
      "57/57 [==============================] - 2s 44ms/step - loss: 0.2473 - accuracy: 0.8942 - val_loss: 0.3995 - val_accuracy: 0.8441\n",
      "Epoch 15/20\n",
      "57/57 [==============================] - 2s 40ms/step - loss: 0.2324 - accuracy: 0.8983 - val_loss: 0.4204 - val_accuracy: 0.8317\n",
      "Epoch 16/20\n",
      "57/57 [==============================] - 3s 45ms/step - loss: 0.2193 - accuracy: 0.9071 - val_loss: 0.4403 - val_accuracy: 0.8342\n",
      "Epoch 17/20\n",
      "57/57 [==============================] - 3s 51ms/step - loss: 0.3078 - accuracy: 0.8848 - val_loss: 0.4616 - val_accuracy: 0.8144\n",
      "Epoch 18/20\n",
      "57/57 [==============================] - 3s 48ms/step - loss: 0.2385 - accuracy: 0.8942 - val_loss: 0.4058 - val_accuracy: 0.8416\n",
      "Epoch 19/20\n",
      "57/57 [==============================] - 3s 50ms/step - loss: 0.2033 - accuracy: 0.9162 - val_loss: 0.4137 - val_accuracy: 0.8391\n",
      "Epoch 20/20\n",
      "57/57 [==============================] - 3s 45ms/step - loss: 0.2329 - accuracy: 0.9016 - val_loss: 0.4571 - val_accuracy: 0.8218\n"
     ]
    }
   ],
   "source": [
    "history = model.fit(\n",
    "    X_train, y_train,\n",
    "    epochs=20,\n",
    "    batch_size=64,\n",
    "    validation_split=0.1,\n",
    "    shuffle=False\n",
    ")"
   ]
  },
  {
   "cell_type": "code",
   "execution_count": 8,
   "id": "b52b3aef",
   "metadata": {
    "scrolled": true
   },
   "outputs": [
    {
     "data": {
      "image/png": "[encoded data removed]",
      "text/plain": [
       "<Figure size 600x400 with 1 Axes>"
      ]
     },
     "metadata": {},
     "output_type": "display_data"
    }
   ],
   "source": [
    "import matplotlib.pyplot as plt\n",
    "from sklearn.metrics import classification_report, confusion_matrix, ConfusionMatrixDisplay\n",
    "\n",
    "plt.figure(figsize=(6, 4))\n",
    "plt.plot(history.history['accuracy'], 'r', label='Accuracy of training data')\n",
    "plt.plot(history.history['loss'], 'r--', label='Loss of training data')\n",
    "plt.title('Model Accuracy and Loss')\n",
    "plt.ylabel('Accuracy and Loss')\n",
    "plt.xlabel('Training Epoch')\n",
    "plt.ylim(0)\n",
    "plt.legend()\n",
    "plt.show()\n",
    "\n"
   ]
  },
  {
   "cell_type": "code",
   "execution_count": 9,
   "id": "159e8304",
   "metadata": {
    "scrolled": true
   },
   "outputs": [
    {
     "name": "stdout",
     "output_type": "stream",
     "text": [
      "16/16 [==============================] - 1s 12ms/step\n"
     ]
    },
    {
     "data": {
      "image/png": "[encoded data removed]",
      "text/plain": [
       "<Figure size 640x480 with 2 Axes>"
      ]
     },
     "metadata": {},
     "output_type": "display_data"
    }
   ],
   "source": [
    "predictions = model.predict(X_test)\n",
    "predictions = np.argmax(predictions, axis=1)\n",
    "y_test_pred = np.argmax(y_test, axis=1)\n",
    "cm = confusion_matrix(y_test_pred, predictions)\n",
    "cm_disp = ConfusionMatrixDisplay(confusion_matrix= cm)\n",
    "cm_disp.plot()\n",
    "plt.show()"
   ]
  },
  {
   "cell_type": "code",
   "execution_count": 10,
   "id": "7c88d8c8",
   "metadata": {},
   "outputs": [
    {
     "name": "stdout",
     "output_type": "stream",
     "text": [
      "              precision    recall  f1-score   support\n",
      "\n",
      "           0       0.86      0.80      0.83        15\n",
      "           1       0.63      0.95      0.76        20\n",
      "           2       1.00      1.00      1.00        67\n",
      "           3       0.96      0.92      0.94        71\n",
      "           4       1.00      1.00      1.00        61\n",
      "           5       1.00      1.00      1.00        58\n",
      "           6       0.67      0.53      0.59        19\n",
      "           7       0.86      0.55      0.67        22\n",
      "           8       0.81      0.93      0.87        14\n",
      "           9       0.78      0.88      0.82        16\n",
      "          10       0.72      0.71      0.72        70\n",
      "          11       0.66      0.69      0.68        71\n",
      "\n",
      "    accuracy                           0.85       504\n",
      "   macro avg       0.83      0.83      0.82       504\n",
      "weighted avg       0.86      0.85      0.85       504\n",
      "\n"
     ]
    }
   ],
   "source": [
    "print(classification_report(y_test_pred, predictions))"
   ]
  },
  {
   "cell_type": "code",
   "execution_count": 11,
   "id": "76b40720",
   "metadata": {
    "scrolled": true
   },
   "outputs": [
    {
     "name": "stdout",
     "output_type": "stream",
     "text": [
      "16/16 [==============================] - 0s 14ms/step - loss: 0.3712 - accuracy: 0.8532\n"
     ]
    },
    {
     "data": {
      "text/plain": [
       "[0.371160089969635, 0.85317462682724]"
      ]
     },
     "execution_count": 11,
     "metadata": {},
     "output_type": "execute_result"
    }
   ],
   "source": [
    "model.evaluate(X_test, y_test)"
   ]
  },
  {
   "cell_type": "code",
   "execution_count": 12,
   "id": "a62e7610",
   "metadata": {
    "scrolled": true
   },
   "outputs": [
    {
     "data": {
      "text/plain": [
       "['Ascending stairs',\n",
       " 'Descending stairs',\n",
       " 'Lying down back',\n",
       " 'Lying down on left',\n",
       " 'Lying down on stomach',\n",
       " 'Lying down right',\n",
       " 'Miscellaneous movements',\n",
       " 'Normal walking',\n",
       " 'Running',\n",
       " 'Shuffle walking',\n",
       " 'Sitting',\n",
       " 'Standing']"
      ]
     },
     "execution_count": 12,
     "metadata": {},
     "output_type": "execute_result"
    }
   ],
   "source": [
    "[name[3:] for name in enc.get_feature_names_out()]"
   ]
  }
 ],
 "metadata": {
  "kernelspec": {
   "display_name": "Python 3 (ipykernel)",
   "language": "python",
   "name": "python3"
  },
  "language_info": {
   "codemirror_mode": {
    "name": "ipython",
    "version": 3
   },
   "file_extension": ".py",
   "mimetype": "text/x-python",
   "name": "python",
   "nbconvert_exporter": "python",
   "pygments_lexer": "ipython3",
   "version": "3.7.16"
  }
 },
 "nbformat": 4,
 "nbformat_minor": 5
}
