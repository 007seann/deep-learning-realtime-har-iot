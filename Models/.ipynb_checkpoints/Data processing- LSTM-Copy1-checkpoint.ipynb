{
 "cells": [
  {
   "cell_type": "code",
   "execution_count": 1,
   "id": "ee95509e",
   "metadata": {
    "scrolled": true
   },
   "outputs": [],
   "source": [
    "import os\n",
    "import pandas as pd\n",
    "import numpy as np\n",
    "from sklearn.model_selection import train_test_split\n",
    "import tensorflow as tf\n",
    "from tensorflow import keras\n",
    "from tensorflow.keras import layers\n",
    "from sklearn.preprocessing import RobustScaler, OneHotEncoder"
   ]
  },
  {
   "cell_type": "code",
   "execution_count": 2,
   "id": "a20b414e",
   "metadata": {
    "scrolled": true
   },
   "outputs": [],
   "source": [
    "from tensorflow.keras.utils import to_categorical\n",
    "\n",
    "def import_and_clean_file(file, file_dir):\n",
    "    # read data from name of file\n",
    "    sensor, student, activity, activity_subtype, _, date, timestamp = file[:-4].split(\"_\")\n",
    "    # read in database\n",
    "    df = pd.read_csv(file_dir)\n",
    "    # drop features we dont want\n",
    "    df = df.drop(['ind', 'mag_x','mag_y','mag_z', 'gyro_x','gyro_y','gyro_z'], axis = 1, errors = 'ignore')\n",
    "    scale_columns = ['accel_x', 'accel_y', 'accel_z']\n",
    "    df['timestamp'] = df['timestamp'].astype(np.float64)\n",
    "#     df['accel_x'] = df['accel_x'].astype(np.float64)\n",
    "#     df['accel_y'] = df['accel_y'].astype(np.float64)\n",
    "#     df['accel_z'] = df['accel_z'].astype(np.float64)\n",
    "#     df['gyro_x'] = df['gyro_x'].astype(np.float64)\n",
    "#     df['gyro_y'] = df['gyro_y'].astype(np.float64)\n",
    "#     df['gyro_z'] = df['gyro_z'].astype(np.float64)\n",
    "    df['activity'] = activity\n",
    "    df['activity_subtype'] = activity_subtype\n",
    "    df.sort_values(by=['timestamp'])\n",
    "    # scale data\n",
    "    \n",
    "    return df"
   ]
  },
  {
   "cell_type": "code",
   "execution_count": 3,
   "id": "b64a7f9a",
   "metadata": {
    "scrolled": true
   },
   "outputs": [],
   "source": [
    "from scipy import stats\n",
    "\n",
    "def get_X_y(directory='2023', window_size=25, overlap=10):\n",
    "    # Initialize lists to store data and labels\n",
    "    X = []  # Data\n",
    "    y = []  # Labels\n",
    "\n",
    "    # Loop through the clean-named subfolders\n",
    "    for student in os.listdir(directory):\n",
    "            if \"placeholder\" not in student:\n",
    "                student_directory = os.path.join(directory, student)\n",
    "                # itterate through students data\n",
    "                for file in os.listdir(student_directory):\n",
    "                    file_dir = os.path.join(student_directory, file)\n",
    "                    if os.path.isfile(file_dir) and \"clean\" in file and \"Respeck\" in file:\n",
    "                        sensor, student, activity, activity_subtype, _, date, timestamp = file[:-4].split(\"_\")\n",
    "                        df = import_and_clean_file(file, file_dir)\n",
    "                        # Split the time series data into overlapping windows\n",
    "                        for i in range(0, len(df) - window_size + 1, overlap):\n",
    "                            window = df[i:i + window_size]\n",
    "                            # create X matrix\n",
    "                            X.append(window.drop(columns=['timestamp','activity', 'activity_subtype']))\n",
    "                            # create y matrix\n",
    "                            y.append(activity)\n",
    "\n",
    "    return np.array(X), np.array(y).reshape(-1,1)"
   ]
  },
  {
   "cell_type": "code",
   "execution_count": 4,
   "id": "2c6b56c0",
   "metadata": {
    "scrolled": true
   },
   "outputs": [
    {
     "name": "stdout",
     "output_type": "stream",
     "text": [
      "(7819, 25, 3) (7819, 1)\n"
     ]
    },
    {
     "data": {
      "text/html": [
       "<div>\n",
       "<style scoped>\n",
       "    .dataframe tbody tr th:only-of-type {\n",
       "        vertical-align: middle;\n",
       "    }\n",
       "\n",
       "    .dataframe tbody tr th {\n",
       "        vertical-align: top;\n",
       "    }\n",
       "\n",
       "    .dataframe thead th {\n",
       "        text-align: right;\n",
       "    }\n",
       "</style>\n",
       "<table border=\"1\" class=\"dataframe\">\n",
       "  <thead>\n",
       "    <tr style=\"text-align: right;\">\n",
       "      <th></th>\n",
       "      <th>0</th>\n",
       "      <th>1</th>\n",
       "      <th>2</th>\n",
       "    </tr>\n",
       "  </thead>\n",
       "  <tbody>\n",
       "    <tr>\n",
       "      <th>0</th>\n",
       "      <td>0.164551</td>\n",
       "      <td>0.117126</td>\n",
       "      <td>-0.936585</td>\n",
       "    </tr>\n",
       "    <tr>\n",
       "      <th>1</th>\n",
       "      <td>0.156738</td>\n",
       "      <td>0.110046</td>\n",
       "      <td>-0.939514</td>\n",
       "    </tr>\n",
       "    <tr>\n",
       "      <th>2</th>\n",
       "      <td>0.163818</td>\n",
       "      <td>0.119080</td>\n",
       "      <td>-0.946594</td>\n",
       "    </tr>\n",
       "    <tr>\n",
       "      <th>3</th>\n",
       "      <td>0.159912</td>\n",
       "      <td>0.109558</td>\n",
       "      <td>-0.943665</td>\n",
       "    </tr>\n",
       "    <tr>\n",
       "      <th>4</th>\n",
       "      <td>0.158203</td>\n",
       "      <td>0.115906</td>\n",
       "      <td>-0.941711</td>\n",
       "    </tr>\n",
       "  </tbody>\n",
       "</table>\n",
       "</div>"
      ],
      "text/plain": [
       "          0         1         2\n",
       "0  0.164551  0.117126 -0.936585\n",
       "1  0.156738  0.110046 -0.939514\n",
       "2  0.163818  0.119080 -0.946594\n",
       "3  0.159912  0.109558 -0.943665\n",
       "4  0.158203  0.115906 -0.941711"
      ]
     },
     "execution_count": 4,
     "metadata": {},
     "output_type": "execute_result"
    }
   ],
   "source": [
    "X, y = get_X_y()\n",
    "X_train, X_temp, y_train, y_temp = train_test_split(X, y, test_size=0.2, random_state=42)\n",
    "X_test, X_val, y_test, y_val = train_test_split(X_temp, y_temp, test_size=0.5, random_state=42)\n",
    "print(X_train.shape, y_train.shape)\n",
    "\n",
    "pd.DataFrame(X_train[0]).head()"
   ]
  },
  {
   "cell_type": "code",
   "execution_count": 5,
   "id": "4dd7af2c",
   "metadata": {
    "scrolled": true
   },
   "outputs": [
    {
     "name": "stdout",
     "output_type": "stream",
     "text": [
      "(7819, 25, 3) (7819, 12)\n"
     ]
    },
    {
     "name": "stderr",
     "output_type": "stream",
     "text": [
      "C:\\Users\\daniel cooper\\anaconda3\\envs\\pdiot\\lib\\site-packages\\sklearn\\preprocessing\\_encoders.py:972: FutureWarning: `sparse` was renamed to `sparse_output` in version 1.2 and will be removed in 1.4. `sparse_output` is ignored unless you leave `sparse` to its default value.\n",
      "  warnings.warn(\n",
      "C:\\Users\\daniel cooper\\anaconda3\\envs\\pdiot\\lib\\site-packages\\sklearn\\preprocessing\\_encoders.py:972: FutureWarning: `sparse` was renamed to `sparse_output` in version 1.2 and will be removed in 1.4. `sparse_output` is ignored unless you leave `sparse` to its default value.\n",
      "  warnings.warn(\n"
     ]
    }
   ],
   "source": [
    "enc = OneHotEncoder(handle_unknown='ignore', sparse=False)\n",
    "\n",
    "enc = enc.fit(y_train)\n",
    "y_train = enc.transform(y_train)\n",
    "enc = enc.fit(y_val)\n",
    "y_val = enc.transform(y_val)\n",
    "\n",
    "# enc = enc.fit(y_test)\n",
    "# y_test = enc.transform(y_test)\n",
    "print(X_train.shape, y_train.shape)"
   ]
  },
  {
   "cell_type": "code",
   "execution_count": 6,
   "id": "cacd9ca1",
   "metadata": {
    "scrolled": true
   },
   "outputs": [],
   "source": [
    "model = keras.Sequential()\n",
    "model.add(keras.layers.Normalization())\n",
    "model.add(\n",
    "    keras.layers.Bidirectional(\n",
    "      keras.layers.LSTM(\n",
    "          units=128, \n",
    "          input_shape=[X_train.shape[1], X_train.shape[2]]\n",
    "      )\n",
    "    )\n",
    ")\n",
    "model.add(keras.layers.Dropout(rate=0.5))\n",
    "model.add(keras.layers.Dense(units=128, activation='relu'))\n",
    "model.add(keras.layers.Dense(y_train.shape[1], activation='softmax'))\n",
    "model.compile(loss='categorical_crossentropy', optimizer='adam', metrics=['accuracy'])"
   ]
  },
  {
   "cell_type": "code",
   "execution_count": 7,
   "id": "ac37055d",
   "metadata": {
    "scrolled": true
   },
   "outputs": [
    {
     "name": "stdout",
     "output_type": "stream",
     "text": [
      "Epoch 1/50\n",
      "220/220 [==============================] - 7s 17ms/step - loss: 0.8227 - accuracy: 0.7036 - val_loss: 0.5928 - val_accuracy: 0.7558\n",
      "Epoch 2/50\n",
      "220/220 [==============================] - 3s 13ms/step - loss: 0.6281 - accuracy: 0.7461 - val_loss: 0.5462 - val_accuracy: 0.7685\n",
      "Epoch 3/50\n",
      "220/220 [==============================] - 3s 13ms/step - loss: 0.5844 - accuracy: 0.7613 - val_loss: 0.4974 - val_accuracy: 0.8031\n",
      "Epoch 4/50\n",
      "220/220 [==============================] - 3s 13ms/step - loss: 0.5590 - accuracy: 0.7796 - val_loss: 0.5089 - val_accuracy: 0.8171\n",
      "Epoch 5/50\n",
      "220/220 [==============================] - 3s 14ms/step - loss: 0.5368 - accuracy: 0.7877 - val_loss: 0.5183 - val_accuracy: 0.8235\n",
      "Epoch 6/50\n",
      "220/220 [==============================] - 3s 14ms/step - loss: 0.5208 - accuracy: 0.8011 - val_loss: 0.4649 - val_accuracy: 0.8146\n",
      "Epoch 7/50\n",
      "220/220 [==============================] - 3s 13ms/step - loss: 0.4838 - accuracy: 0.8111 - val_loss: 0.4339 - val_accuracy: 0.8414\n",
      "Epoch 8/50\n",
      "220/220 [==============================] - 3s 13ms/step - loss: 0.4663 - accuracy: 0.8155 - val_loss: 0.4390 - val_accuracy: 0.8389\n",
      "Epoch 9/50\n",
      "220/220 [==============================] - 3s 15ms/step - loss: 0.4613 - accuracy: 0.8215 - val_loss: 0.4310 - val_accuracy: 0.8389\n",
      "Epoch 10/50\n",
      "220/220 [==============================] - 3s 14ms/step - loss: 0.4532 - accuracy: 0.8262 - val_loss: 0.4459 - val_accuracy: 0.8248\n",
      "Epoch 11/50\n",
      "220/220 [==============================] - 3s 14ms/step - loss: 0.4498 - accuracy: 0.8300 - val_loss: 0.4080 - val_accuracy: 0.8529\n",
      "Epoch 12/50\n",
      "220/220 [==============================] - 3s 13ms/step - loss: 0.4288 - accuracy: 0.8366 - val_loss: 0.4110 - val_accuracy: 0.8568\n",
      "Epoch 13/50\n",
      "220/220 [==============================] - 3s 14ms/step - loss: 0.4129 - accuracy: 0.8377 - val_loss: 0.3631 - val_accuracy: 0.8593\n",
      "Epoch 14/50\n",
      "220/220 [==============================] - 3s 14ms/step - loss: 0.3877 - accuracy: 0.8505 - val_loss: 0.3599 - val_accuracy: 0.8568\n",
      "Epoch 15/50\n",
      "220/220 [==============================] - 3s 14ms/step - loss: 0.3666 - accuracy: 0.8590 - val_loss: 0.3295 - val_accuracy: 0.8836\n",
      "Epoch 16/50\n",
      "220/220 [==============================] - 4s 17ms/step - loss: 0.3692 - accuracy: 0.8572 - val_loss: 0.6249 - val_accuracy: 0.8414\n",
      "Epoch 17/50\n",
      "220/220 [==============================] - 4s 17ms/step - loss: 0.3721 - accuracy: 0.8589 - val_loss: 0.3132 - val_accuracy: 0.8772\n",
      "Epoch 18/50\n",
      "220/220 [==============================] - 3s 14ms/step - loss: 0.3273 - accuracy: 0.8705 - val_loss: 0.2875 - val_accuracy: 0.8836\n",
      "Epoch 19/50\n",
      "220/220 [==============================] - 3s 14ms/step - loss: 0.3309 - accuracy: 0.8708 - val_loss: 0.3210 - val_accuracy: 0.8593\n",
      "Epoch 20/50\n",
      "220/220 [==============================] - 3s 14ms/step - loss: 0.3100 - accuracy: 0.8765 - val_loss: 0.2792 - val_accuracy: 0.8939\n",
      "Epoch 21/50\n",
      "220/220 [==============================] - 3s 15ms/step - loss: 0.3035 - accuracy: 0.8806 - val_loss: 0.2719 - val_accuracy: 0.8875\n",
      "Epoch 22/50\n",
      "220/220 [==============================] - 3s 14ms/step - loss: 0.2942 - accuracy: 0.8815 - val_loss: 0.2693 - val_accuracy: 0.8887\n",
      "Epoch 23/50\n",
      "220/220 [==============================] - 3s 14ms/step - loss: 0.2761 - accuracy: 0.8887 - val_loss: 0.2592 - val_accuracy: 0.9015\n",
      "Epoch 24/50\n",
      "220/220 [==============================] - 3s 14ms/step - loss: 0.2667 - accuracy: 0.8924 - val_loss: 0.2410 - val_accuracy: 0.9054\n",
      "Epoch 25/50\n",
      "220/220 [==============================] - 3s 13ms/step - loss: 0.2886 - accuracy: 0.8863 - val_loss: 0.2743 - val_accuracy: 0.8990\n",
      "Epoch 26/50\n",
      "220/220 [==============================] - 3s 14ms/step - loss: 0.2566 - accuracy: 0.8984 - val_loss: 0.2733 - val_accuracy: 0.9015\n",
      "Epoch 27/50\n",
      "220/220 [==============================] - 3s 15ms/step - loss: 0.2520 - accuracy: 0.8971 - val_loss: 0.2447 - val_accuracy: 0.8926\n",
      "Epoch 28/50\n",
      "220/220 [==============================] - 3s 14ms/step - loss: 0.2715 - accuracy: 0.8913 - val_loss: 0.2866 - val_accuracy: 0.8887\n",
      "Epoch 29/50\n",
      "220/220 [==============================] - 3s 14ms/step - loss: 0.2474 - accuracy: 0.8973 - val_loss: 0.2209 - val_accuracy: 0.9118\n",
      "Epoch 30/50\n",
      "220/220 [==============================] - 3s 14ms/step - loss: 0.2364 - accuracy: 0.9055 - val_loss: 0.2364 - val_accuracy: 0.9118\n",
      "Epoch 31/50\n",
      "220/220 [==============================] - 3s 14ms/step - loss: 0.2396 - accuracy: 0.9048 - val_loss: 0.2374 - val_accuracy: 0.9041\n",
      "Epoch 32/50\n",
      "220/220 [==============================] - 3s 14ms/step - loss: 0.2341 - accuracy: 0.9035 - val_loss: 0.2250 - val_accuracy: 0.9092\n",
      "Epoch 33/50\n",
      "220/220 [==============================] - 3s 14ms/step - loss: 0.2282 - accuracy: 0.9076 - val_loss: 0.2102 - val_accuracy: 0.9156\n",
      "Epoch 34/50\n",
      "220/220 [==============================] - 3s 14ms/step - loss: 0.2112 - accuracy: 0.9083 - val_loss: 0.1898 - val_accuracy: 0.9207\n",
      "Epoch 35/50\n",
      "220/220 [==============================] - 3s 14ms/step - loss: 0.2205 - accuracy: 0.9078 - val_loss: 0.2171 - val_accuracy: 0.9130\n",
      "Epoch 36/50\n",
      "220/220 [==============================] - 3s 14ms/step - loss: 0.2169 - accuracy: 0.9146 - val_loss: 0.2001 - val_accuracy: 0.9182\n",
      "Epoch 37/50\n",
      "220/220 [==============================] - 3s 14ms/step - loss: 0.2147 - accuracy: 0.9106 - val_loss: 0.2036 - val_accuracy: 0.9156\n",
      "Epoch 38/50\n",
      "220/220 [==============================] - 3s 14ms/step - loss: 0.2116 - accuracy: 0.9112 - val_loss: 0.2061 - val_accuracy: 0.9156\n",
      "Epoch 39/50\n",
      "220/220 [==============================] - 3s 14ms/step - loss: 0.2032 - accuracy: 0.9173 - val_loss: 0.1836 - val_accuracy: 0.9220\n",
      "Epoch 40/50\n",
      "220/220 [==============================] - 3s 14ms/step - loss: 0.1978 - accuracy: 0.9159 - val_loss: 0.2172 - val_accuracy: 0.9246\n",
      "Epoch 41/50\n",
      "220/220 [==============================] - 3s 14ms/step - loss: 0.1978 - accuracy: 0.9159 - val_loss: 0.1971 - val_accuracy: 0.9284\n",
      "Epoch 42/50\n",
      "220/220 [==============================] - 3s 14ms/step - loss: 0.1916 - accuracy: 0.9173 - val_loss: 0.1856 - val_accuracy: 0.9322\n",
      "Epoch 43/50\n",
      "220/220 [==============================] - 3s 13ms/step - loss: 0.1942 - accuracy: 0.9159 - val_loss: 0.1742 - val_accuracy: 0.9322\n",
      "Epoch 44/50\n",
      "220/220 [==============================] - 3s 13ms/step - loss: 0.1959 - accuracy: 0.9145 - val_loss: 0.1812 - val_accuracy: 0.9386\n",
      "Epoch 45/50\n",
      "220/220 [==============================] - 3s 14ms/step - loss: 0.1839 - accuracy: 0.9201 - val_loss: 0.1756 - val_accuracy: 0.9297\n",
      "Epoch 46/50\n",
      "220/220 [==============================] - 3s 13ms/step - loss: 0.1859 - accuracy: 0.9199 - val_loss: 0.1833 - val_accuracy: 0.9309\n",
      "Epoch 47/50\n",
      "220/220 [==============================] - 3s 13ms/step - loss: 0.1861 - accuracy: 0.9213 - val_loss: 0.1745 - val_accuracy: 0.9309\n",
      "Epoch 48/50\n",
      "220/220 [==============================] - 3s 14ms/step - loss: 0.1761 - accuracy: 0.9216 - val_loss: 0.1572 - val_accuracy: 0.9373\n",
      "Epoch 49/50\n",
      "220/220 [==============================] - 3s 14ms/step - loss: 0.1761 - accuracy: 0.9217 - val_loss: 0.2097 - val_accuracy: 0.9271\n",
      "Epoch 50/50\n",
      "220/220 [==============================] - 3s 13ms/step - loss: 0.1923 - accuracy: 0.9197 - val_loss: 0.1709 - val_accuracy: 0.9335\n"
     ]
    }
   ],
   "source": [
    "history = model.fit(\n",
    "    X_train, y_train,\n",
    "    epochs=50,\n",
    "    batch_size=32,\n",
    "    validation_split=0.1,\n",
    "    shuffle=False\n",
    ")"
   ]
  },
  {
   "cell_type": "code",
   "execution_count": 8,
   "id": "b52b3aef",
   "metadata": {
    "scrolled": true
   },
   "outputs": [
    {
     "data": {
      "image/png": "[encoded data removed]",
      "text/plain": [
       "<Figure size 600x400 with 1 Axes>"
      ]
     },
     "metadata": {},
     "output_type": "display_data"
    }
   ],
   "source": [
    "import matplotlib.pyplot as plt\n",
    "from sklearn.metrics import classification_report, confusion_matrix, ConfusionMatrixDisplay\n",
    "\n",
    "plt.figure(figsize=(6, 4))\n",
    "plt.plot(history.history['accuracy'], 'r', label='Accuracy of training data')\n",
    "plt.plot(history.history['loss'], 'r--', label='Loss of training data')\n",
    "plt.title('Model Accuracy and Loss')\n",
    "plt.ylabel('Accuracy and Loss')\n",
    "plt.xlabel('Training Epoch')\n",
    "plt.ylim(0)\n",
    "plt.legend()\n",
    "plt.show()\n",
    "\n"
   ]
  },
  {
   "cell_type": "code",
   "execution_count": 9,
   "id": "159e8304",
   "metadata": {
    "scrolled": true
   },
   "outputs": [
    {
     "name": "stdout",
     "output_type": "stream",
     "text": [
      "31/31 [==============================] - 1s 4ms/step\n"
     ]
    },
    {
     "data": {
      "image/png": "[encoded data removed]",
      "text/plain": [
       "<Figure size 640x480 with 2 Axes>"
      ]
     },
     "metadata": {},
     "output_type": "display_data"
    }
   ],
   "source": [
    "predictions = model.predict(X_val)\n",
    "predictions = np.argmax(predictions, axis=1)\n",
    "y_val_pred = np.argmax(y_val, axis=1)\n",
    "cm = confusion_matrix(y_val_pred, predictions)\n",
    "cm_disp = ConfusionMatrixDisplay(confusion_matrix= cm)\n",
    "cm_disp.plot()\n",
    "plt.show()"
   ]
  },
  {
   "cell_type": "code",
   "execution_count": 10,
   "id": "7c88d8c8",
   "metadata": {},
   "outputs": [
    {
     "name": "stdout",
     "output_type": "stream",
     "text": [
      "              precision    recall  f1-score   support\n",
      "\n",
      "           0       0.85      0.94      0.89        31\n",
      "           1       0.96      0.89      0.93        28\n",
      "           2       1.00      1.00      1.00       124\n",
      "           3       0.85      1.00      0.92       128\n",
      "           4       0.99      1.00      1.00       142\n",
      "           5       1.00      1.00      1.00       130\n",
      "           6       0.70      0.35      0.47        20\n",
      "           7       0.62      0.95      0.75        19\n",
      "           8       1.00      0.96      0.98        25\n",
      "           9       0.89      1.00      0.94        25\n",
      "          10       0.87      0.82      0.84       151\n",
      "          11       0.81      0.72      0.76       155\n",
      "\n",
      "    accuracy                           0.91       978\n",
      "   macro avg       0.88      0.89      0.87       978\n",
      "weighted avg       0.91      0.91      0.90       978\n",
      "\n"
     ]
    }
   ],
   "source": [
    "print(classification_report(y_val_pred, predictions))"
   ]
  },
  {
   "cell_type": "code",
   "execution_count": 11,
   "id": "76b40720",
   "metadata": {
    "scrolled": true
   },
   "outputs": [
    {
     "name": "stdout",
     "output_type": "stream",
     "text": [
      "31/31 [==============================] - 0s 4ms/step - loss: 0.2047 - accuracy: 0.9070\n"
     ]
    },
    {
     "data": {
      "text/plain": [
       "[0.20469948649406433, 0.906952977180481]"
      ]
     },
     "execution_count": 11,
     "metadata": {},
     "output_type": "execute_result"
    }
   ],
   "source": [
    "model.evaluate(X_val, y_val)"
   ]
  },
  {
   "cell_type": "code",
   "execution_count": 12,
   "id": "a62e7610",
   "metadata": {
    "scrolled": true
   },
   "outputs": [
    {
     "data": {
      "text/plain": [
       "['Ascending stairs',\n",
       " 'Descending stairs',\n",
       " 'Lying down back',\n",
       " 'Lying down on left',\n",
       " 'Lying down on stomach',\n",
       " 'Lying down right',\n",
       " 'Miscellaneous movements',\n",
       " 'Normal walking',\n",
       " 'Running',\n",
       " 'Shuffle walking',\n",
       " 'Sitting',\n",
       " 'Standing']"
      ]
     },
     "execution_count": 12,
     "metadata": {},
     "output_type": "execute_result"
    }
   ],
   "source": [
    "[name[3:] for name in enc.get_feature_names_out()]"
   ]
  },
  {
   "cell_type": "code",
   "execution_count": 17,
   "id": "ce9531cb",
   "metadata": {},
   "outputs": [
    {
     "name": "stderr",
     "output_type": "stream",
     "text": [
      "WARNING:absl:Found untraced functions such as lstm_cell_1_layer_call_fn, lstm_cell_1_layer_call_and_return_conditional_losses, lstm_cell_2_layer_call_fn, lstm_cell_2_layer_call_and_return_conditional_losses while saving (showing 4 of 4). These functions will not be directly callable after loading.\n"
     ]
    },
    {
     "name": "stdout",
     "output_type": "stream",
     "text": [
      "INFO:tensorflow:Assets written to: C:\\Users\\DANIEL~1\\AppData\\Local\\Temp\\tmpds9vphpj\\assets\n"
     ]
    },
    {
     "name": "stderr",
     "output_type": "stream",
     "text": [
      "INFO:tensorflow:Assets written to: C:\\Users\\DANIEL~1\\AppData\\Local\\Temp\\tmpds9vphpj\\assets\n"
     ]
    },
    {
     "ename": "ConverterError",
     "evalue": "C:\\Users\\daniel cooper\\anaconda3\\envs\\pdiot\\lib\\site-packages\\tensorflow\\python\\saved_model\\save.py:1268:0: error: 'tf.TensorListReserve' op is neither a custom op nor a flex op\n<unknown>:0: note: loc(fused[\"StatefulPartitionedCall:\", \"StatefulPartitionedCall\"]): called from\nC:\\Users\\daniel cooper\\anaconda3\\envs\\pdiot\\lib\\site-packages\\tensorflow\\python\\saved_model\\save.py:1268:0: note: Error code: ERROR_NEEDS_FLEX_OPS\nC:\\Users\\daniel cooper\\anaconda3\\envs\\pdiot\\lib\\site-packages\\tensorflow\\python\\saved_model\\save.py:1268:0: error: 'tf.TensorListStack' op is neither a custom op nor a flex op\n<unknown>:0: note: loc(fused[\"StatefulPartitionedCall:\", \"StatefulPartitionedCall\"]): called from\nC:\\Users\\daniel cooper\\anaconda3\\envs\\pdiot\\lib\\site-packages\\tensorflow\\python\\saved_model\\save.py:1268:0: note: Error code: ERROR_NEEDS_FLEX_OPS\nC:\\Users\\daniel cooper\\anaconda3\\envs\\pdiot\\lib\\site-packages\\tensorflow\\python\\saved_model\\save.py:1268:0: error: 'tf.TensorListStack' op is neither a custom op nor a flex op\n<unknown>:0: note: loc(fused[\"StatefulPartitionedCall:\", \"StatefulPartitionedCall\"]): called from\nC:\\Users\\daniel cooper\\anaconda3\\envs\\pdiot\\lib\\site-packages\\tensorflow\\python\\saved_model\\save.py:1268:0: note: Error code: ERROR_NEEDS_FLEX_OPS\nC:\\Users\\daniel cooper\\anaconda3\\envs\\pdiot\\lib\\site-packages\\tensorflow\\python\\saved_model\\save.py:1268:0: error: 'tf.TensorListSetItem' op is neither a custom op nor a flex op\nC:\\Users\\daniel cooper\\anaconda3\\envs\\pdiot\\lib\\site-packages\\tensorflow\\python\\saved_model\\save.py:1268:0: note: called from\n<unknown>:0: note: loc(fused[\"StatefulPartitionedCall:\", \"StatefulPartitionedCall\"]): called from\nC:\\Users\\daniel cooper\\anaconda3\\envs\\pdiot\\lib\\site-packages\\tensorflow\\python\\saved_model\\save.py:1268:0: note: Error code: ERROR_NEEDS_FLEX_OPS\nC:\\Users\\daniel cooper\\anaconda3\\envs\\pdiot\\lib\\site-packages\\tensorflow\\python\\saved_model\\save.py:1268:0: error: 'tf.TensorListSetItem' op is neither a custom op nor a flex op\nC:\\Users\\daniel cooper\\anaconda3\\envs\\pdiot\\lib\\site-packages\\tensorflow\\python\\saved_model\\save.py:1268:0: note: called from\n<unknown>:0: note: loc(fused[\"StatefulPartitionedCall:\", \"StatefulPartitionedCall\"]): called from\nC:\\Users\\daniel cooper\\anaconda3\\envs\\pdiot\\lib\\site-packages\\tensorflow\\python\\saved_model\\save.py:1268:0: note: Error code: ERROR_NEEDS_FLEX_OPS\n<unknown>:0: error: failed while converting: 'main': \nSome ops are not supported by the native TFLite runtime, you can enable TF kernels fallback using TF Select. See instructions: https://www.tensorflow.org/lite/guide/ops_select \nTF Select ops: TensorListReserve, TensorListSetItem, TensorListStack\nDetails:\n\ttf.TensorListReserve(tensor<2xi32>, tensor<i32>) -> (tensor<!tf_type.variant<tensor<?x128xf32>>>) : {device = \"\"}\n\ttf.TensorListSetItem(tensor<!tf_type.variant<tensor<?x128xf32>>>, tensor<i32>, tensor<?x128xf32>) -> (tensor<!tf_type.variant<tensor<?x128xf32>>>) : {device = \"\"}\n\ttf.TensorListStack(tensor<!tf_type.variant<tensor<?x128xf32>>>, tensor<2xi32>) -> (tensor<1x?x128xf32>) : {device = \"\", num_elements = 1 : i64}\n\n",
     "output_type": "error",
     "traceback": [
      "\u001b[1;31m---------------------------------------------------------------------------\u001b[0m",
      "\u001b[1;31mConverterError\u001b[0m                            Traceback (most recent call last)",
      "Cell \u001b[1;32mIn[17], line 4\u001b[0m\n\u001b[0;32m      2\u001b[0m converter \u001b[38;5;241m=\u001b[39m tf\u001b[38;5;241m.\u001b[39mlite\u001b[38;5;241m.\u001b[39mTFLiteConverter\u001b[38;5;241m.\u001b[39mfrom_keras_model(model)\n\u001b[0;32m      3\u001b[0m converter\u001b[38;5;241m.\u001b[39m_experimental_lower_tensor_list_ops \u001b[38;5;241m=\u001b[39m \u001b[38;5;28;01mFalse\u001b[39;00m\n\u001b[1;32m----> 4\u001b[0m tflite_model \u001b[38;5;241m=\u001b[39m \u001b[43mconverter\u001b[49m\u001b[38;5;241;43m.\u001b[39;49m\u001b[43mconvert\u001b[49m\u001b[43m(\u001b[49m\u001b[43m)\u001b[49m\n\u001b[0;32m      6\u001b[0m \u001b[38;5;66;03m# Save the model.\u001b[39;00m\n\u001b[0;32m      7\u001b[0m \u001b[38;5;28;01mwith\u001b[39;00m \u001b[38;5;28mopen\u001b[39m(\u001b[38;5;124m'\u001b[39m\u001b[38;5;124mC:/Users/Public/model.tflite\u001b[39m\u001b[38;5;124m'\u001b[39m, \u001b[38;5;124m'\u001b[39m\u001b[38;5;124mwb\u001b[39m\u001b[38;5;124m'\u001b[39m) \u001b[38;5;28;01mas\u001b[39;00m f:\n",
      "File \u001b[1;32m~\\anaconda3\\envs\\pdiot\\lib\\site-packages\\tensorflow\\lite\\python\\lite.py:930\u001b[0m, in \u001b[0;36m_export_metrics.<locals>.wrapper\u001b[1;34m(self, *args, **kwargs)\u001b[0m\n\u001b[0;32m    927\u001b[0m \u001b[38;5;129m@functools\u001b[39m\u001b[38;5;241m.\u001b[39mwraps(convert_func)\n\u001b[0;32m    928\u001b[0m \u001b[38;5;28;01mdef\u001b[39;00m \u001b[38;5;21mwrapper\u001b[39m(\u001b[38;5;28mself\u001b[39m, \u001b[38;5;241m*\u001b[39margs, \u001b[38;5;241m*\u001b[39m\u001b[38;5;241m*\u001b[39mkwargs):\n\u001b[0;32m    929\u001b[0m   \u001b[38;5;66;03m# pylint: disable=protected-access\u001b[39;00m\n\u001b[1;32m--> 930\u001b[0m   \u001b[38;5;28;01mreturn\u001b[39;00m \u001b[38;5;28mself\u001b[39m\u001b[38;5;241m.\u001b[39m_convert_and_export_metrics(convert_func, \u001b[38;5;241m*\u001b[39margs, \u001b[38;5;241m*\u001b[39m\u001b[38;5;241m*\u001b[39mkwargs)\n",
      "File \u001b[1;32m~\\anaconda3\\envs\\pdiot\\lib\\site-packages\\tensorflow\\lite\\python\\lite.py:908\u001b[0m, in \u001b[0;36mTFLiteConverterBase._convert_and_export_metrics\u001b[1;34m(self, convert_func, *args, **kwargs)\u001b[0m\n\u001b[0;32m    906\u001b[0m \u001b[38;5;28mself\u001b[39m\u001b[38;5;241m.\u001b[39m_save_conversion_params_metric()\n\u001b[0;32m    907\u001b[0m start_time \u001b[38;5;241m=\u001b[39m time\u001b[38;5;241m.\u001b[39mprocess_time()\n\u001b[1;32m--> 908\u001b[0m result \u001b[38;5;241m=\u001b[39m convert_func(\u001b[38;5;28mself\u001b[39m, \u001b[38;5;241m*\u001b[39margs, \u001b[38;5;241m*\u001b[39m\u001b[38;5;241m*\u001b[39mkwargs)\n\u001b[0;32m    909\u001b[0m elapsed_time_ms \u001b[38;5;241m=\u001b[39m (time\u001b[38;5;241m.\u001b[39mprocess_time() \u001b[38;5;241m-\u001b[39m start_time) \u001b[38;5;241m*\u001b[39m \u001b[38;5;241m1000\u001b[39m\n\u001b[0;32m    910\u001b[0m \u001b[38;5;28;01mif\u001b[39;00m result:\n",
      "File \u001b[1;32m~\\anaconda3\\envs\\pdiot\\lib\\site-packages\\tensorflow\\lite\\python\\lite.py:1339\u001b[0m, in \u001b[0;36mTFLiteKerasModelConverterV2.convert\u001b[1;34m(self)\u001b[0m\n\u001b[0;32m   1326\u001b[0m \u001b[38;5;129m@_export_metrics\u001b[39m\n\u001b[0;32m   1327\u001b[0m \u001b[38;5;28;01mdef\u001b[39;00m \u001b[38;5;21mconvert\u001b[39m(\u001b[38;5;28mself\u001b[39m):\n\u001b[0;32m   1328\u001b[0m \u001b[38;5;250m  \u001b[39m\u001b[38;5;124;03m\"\"\"Converts a keras model based on instance variables.\u001b[39;00m\n\u001b[0;32m   1329\u001b[0m \n\u001b[0;32m   1330\u001b[0m \u001b[38;5;124;03m  Returns:\u001b[39;00m\n\u001b[1;32m   (...)\u001b[0m\n\u001b[0;32m   1337\u001b[0m \u001b[38;5;124;03m      Invalid quantization parameters.\u001b[39;00m\n\u001b[0;32m   1338\u001b[0m \u001b[38;5;124;03m  \"\"\"\u001b[39;00m\n\u001b[1;32m-> 1339\u001b[0m   saved_model_convert_result \u001b[38;5;241m=\u001b[39m \u001b[38;5;28;43mself\u001b[39;49m\u001b[38;5;241;43m.\u001b[39;49m\u001b[43m_convert_as_saved_model\u001b[49m\u001b[43m(\u001b[49m\u001b[43m)\u001b[49m\n\u001b[0;32m   1340\u001b[0m   \u001b[38;5;28;01mif\u001b[39;00m saved_model_convert_result:\n\u001b[0;32m   1341\u001b[0m     \u001b[38;5;28;01mreturn\u001b[39;00m saved_model_convert_result\n",
      "File \u001b[1;32m~\\anaconda3\\envs\\pdiot\\lib\\site-packages\\tensorflow\\lite\\python\\lite.py:1321\u001b[0m, in \u001b[0;36mTFLiteKerasModelConverterV2._convert_as_saved_model\u001b[1;34m(self)\u001b[0m\n\u001b[0;32m   1318\u001b[0m   graph_def, input_tensors, output_tensors \u001b[38;5;241m=\u001b[39m (\n\u001b[0;32m   1319\u001b[0m       \u001b[38;5;28mself\u001b[39m\u001b[38;5;241m.\u001b[39m_convert_keras_to_saved_model(temp_dir))\n\u001b[0;32m   1320\u001b[0m   \u001b[38;5;28;01mif\u001b[39;00m \u001b[38;5;28mself\u001b[39m\u001b[38;5;241m.\u001b[39msaved_model_dir:\n\u001b[1;32m-> 1321\u001b[0m     \u001b[38;5;28;01mreturn\u001b[39;00m \u001b[38;5;28;43msuper\u001b[39;49m\u001b[43m(\u001b[49m\u001b[43mTFLiteKerasModelConverterV2\u001b[49m\u001b[43m,\u001b[49m\n\u001b[0;32m   1322\u001b[0m \u001b[43m                 \u001b[49m\u001b[38;5;28;43mself\u001b[39;49m\u001b[43m)\u001b[49m\u001b[38;5;241;43m.\u001b[39;49m\u001b[43mconvert\u001b[49m\u001b[43m(\u001b[49m\u001b[43mgraph_def\u001b[49m\u001b[43m,\u001b[49m\u001b[43m \u001b[49m\u001b[43minput_tensors\u001b[49m\u001b[43m,\u001b[49m\u001b[43m \u001b[49m\u001b[43moutput_tensors\u001b[49m\u001b[43m)\u001b[49m\n\u001b[0;32m   1323\u001b[0m \u001b[38;5;28;01mfinally\u001b[39;00m:\n\u001b[0;32m   1324\u001b[0m   shutil\u001b[38;5;241m.\u001b[39mrmtree(temp_dir, \u001b[38;5;28;01mTrue\u001b[39;00m)\n",
      "File \u001b[1;32m~\\anaconda3\\envs\\pdiot\\lib\\site-packages\\tensorflow\\lite\\python\\lite.py:1132\u001b[0m, in \u001b[0;36mTFLiteConverterBaseV2.convert\u001b[1;34m(self, graph_def, input_tensors, output_tensors)\u001b[0m\n\u001b[0;32m   1127\u001b[0m   logging\u001b[38;5;241m.\u001b[39minfo(\u001b[38;5;124m\"\u001b[39m\u001b[38;5;124mUsing new converter: If you encounter a problem \u001b[39m\u001b[38;5;124m\"\u001b[39m\n\u001b[0;32m   1128\u001b[0m                \u001b[38;5;124m\"\u001b[39m\u001b[38;5;124mplease file a bug. You can opt-out \u001b[39m\u001b[38;5;124m\"\u001b[39m\n\u001b[0;32m   1129\u001b[0m                \u001b[38;5;124m\"\u001b[39m\u001b[38;5;124mby setting experimental_new_converter=False\u001b[39m\u001b[38;5;124m\"\u001b[39m)\n\u001b[0;32m   1131\u001b[0m \u001b[38;5;66;03m# Converts model.\u001b[39;00m\n\u001b[1;32m-> 1132\u001b[0m result \u001b[38;5;241m=\u001b[39m _convert_graphdef(\n\u001b[0;32m   1133\u001b[0m     input_data\u001b[38;5;241m=\u001b[39mgraph_def,\n\u001b[0;32m   1134\u001b[0m     input_tensors\u001b[38;5;241m=\u001b[39minput_tensors,\n\u001b[0;32m   1135\u001b[0m     output_tensors\u001b[38;5;241m=\u001b[39moutput_tensors,\n\u001b[0;32m   1136\u001b[0m     \u001b[38;5;241m*\u001b[39m\u001b[38;5;241m*\u001b[39mconverter_kwargs)\n\u001b[0;32m   1138\u001b[0m \u001b[38;5;28;01mreturn\u001b[39;00m \u001b[38;5;28mself\u001b[39m\u001b[38;5;241m.\u001b[39m_optimize_tflite_model(\n\u001b[0;32m   1139\u001b[0m     result, \u001b[38;5;28mself\u001b[39m\u001b[38;5;241m.\u001b[39m_quant_mode, quant_io\u001b[38;5;241m=\u001b[39m\u001b[38;5;28mself\u001b[39m\u001b[38;5;241m.\u001b[39mexperimental_new_quantizer)\n",
      "File \u001b[1;32m~\\anaconda3\\envs\\pdiot\\lib\\site-packages\\tensorflow\\lite\\python\\convert_phase.py:212\u001b[0m, in \u001b[0;36mconvert_phase.<locals>.actual_decorator.<locals>.wrapper\u001b[1;34m(*args, **kwargs)\u001b[0m\n\u001b[0;32m    210\u001b[0m   \u001b[38;5;28;01melse\u001b[39;00m:\n\u001b[0;32m    211\u001b[0m     report_error_message(\u001b[38;5;28mstr\u001b[39m(converter_error))\n\u001b[1;32m--> 212\u001b[0m   \u001b[38;5;28;01mraise\u001b[39;00m converter_error \u001b[38;5;28;01mfrom\u001b[39;00m \u001b[38;5;28;01mNone\u001b[39;00m  \u001b[38;5;66;03m# Re-throws the exception.\u001b[39;00m\n\u001b[0;32m    213\u001b[0m \u001b[38;5;28;01mexcept\u001b[39;00m \u001b[38;5;167;01mException\u001b[39;00m \u001b[38;5;28;01mas\u001b[39;00m error:\n\u001b[0;32m    214\u001b[0m   report_error_message(\u001b[38;5;28mstr\u001b[39m(error))\n",
      "File \u001b[1;32m~\\anaconda3\\envs\\pdiot\\lib\\site-packages\\tensorflow\\lite\\python\\convert_phase.py:205\u001b[0m, in \u001b[0;36mconvert_phase.<locals>.actual_decorator.<locals>.wrapper\u001b[1;34m(*args, **kwargs)\u001b[0m\n\u001b[0;32m    202\u001b[0m \u001b[38;5;129m@functools\u001b[39m\u001b[38;5;241m.\u001b[39mwraps(func)\n\u001b[0;32m    203\u001b[0m \u001b[38;5;28;01mdef\u001b[39;00m \u001b[38;5;21mwrapper\u001b[39m(\u001b[38;5;241m*\u001b[39margs, \u001b[38;5;241m*\u001b[39m\u001b[38;5;241m*\u001b[39mkwargs):\n\u001b[0;32m    204\u001b[0m   \u001b[38;5;28;01mtry\u001b[39;00m:\n\u001b[1;32m--> 205\u001b[0m     \u001b[38;5;28;01mreturn\u001b[39;00m func(\u001b[38;5;241m*\u001b[39margs, \u001b[38;5;241m*\u001b[39m\u001b[38;5;241m*\u001b[39mkwargs)\n\u001b[0;32m    206\u001b[0m   \u001b[38;5;28;01mexcept\u001b[39;00m ConverterError \u001b[38;5;28;01mas\u001b[39;00m converter_error:\n\u001b[0;32m    207\u001b[0m     \u001b[38;5;28;01mif\u001b[39;00m converter_error\u001b[38;5;241m.\u001b[39merrors:\n",
      "File \u001b[1;32m~\\anaconda3\\envs\\pdiot\\lib\\site-packages\\tensorflow\\lite\\python\\convert.py:794\u001b[0m, in \u001b[0;36mconvert_graphdef\u001b[1;34m(input_data, input_tensors, output_tensors, **kwargs)\u001b[0m\n\u001b[0;32m    791\u001b[0m   \u001b[38;5;28;01melse\u001b[39;00m:\n\u001b[0;32m    792\u001b[0m     model_flags\u001b[38;5;241m.\u001b[39moutput_arrays\u001b[38;5;241m.\u001b[39mappend(util\u001b[38;5;241m.\u001b[39mget_tensor_name(output_tensor))\n\u001b[1;32m--> 794\u001b[0m data \u001b[38;5;241m=\u001b[39m \u001b[43mconvert\u001b[49m\u001b[43m(\u001b[49m\n\u001b[0;32m    795\u001b[0m \u001b[43m    \u001b[49m\u001b[43mmodel_flags\u001b[49m\u001b[38;5;241;43m.\u001b[39;49m\u001b[43mSerializeToString\u001b[49m\u001b[43m(\u001b[49m\u001b[43m)\u001b[49m\u001b[43m,\u001b[49m\n\u001b[0;32m    796\u001b[0m \u001b[43m    \u001b[49m\u001b[43mconversion_flags\u001b[49m\u001b[38;5;241;43m.\u001b[39;49m\u001b[43mSerializeToString\u001b[49m\u001b[43m(\u001b[49m\u001b[43m)\u001b[49m\u001b[43m,\u001b[49m\n\u001b[0;32m    797\u001b[0m \u001b[43m    \u001b[49m\u001b[43minput_data\u001b[49m\u001b[38;5;241;43m.\u001b[39;49m\u001b[43mSerializeToString\u001b[49m\u001b[43m(\u001b[49m\u001b[43m)\u001b[49m\u001b[43m,\u001b[49m\n\u001b[0;32m    798\u001b[0m \u001b[43m    \u001b[49m\u001b[43mdebug_info_str\u001b[49m\u001b[38;5;241;43m=\u001b[39;49m\u001b[43mdebug_info\u001b[49m\u001b[38;5;241;43m.\u001b[39;49m\u001b[43mSerializeToString\u001b[49m\u001b[43m(\u001b[49m\u001b[43m)\u001b[49m\u001b[43m \u001b[49m\u001b[38;5;28;43;01mif\u001b[39;49;00m\u001b[43m \u001b[49m\u001b[43mdebug_info\u001b[49m\u001b[43m \u001b[49m\u001b[38;5;28;43;01melse\u001b[39;49;00m\u001b[43m \u001b[49m\u001b[38;5;28;43;01mNone\u001b[39;49;00m\u001b[43m,\u001b[49m\n\u001b[0;32m    799\u001b[0m \u001b[43m    \u001b[49m\u001b[43menable_mlir_converter\u001b[49m\u001b[38;5;241;43m=\u001b[39;49m\u001b[43menable_mlir_converter\u001b[49m\u001b[43m)\u001b[49m\n\u001b[0;32m    800\u001b[0m \u001b[38;5;28;01mreturn\u001b[39;00m data\n",
      "File \u001b[1;32m~\\anaconda3\\envs\\pdiot\\lib\\site-packages\\tensorflow\\lite\\python\\convert.py:311\u001b[0m, in \u001b[0;36mconvert\u001b[1;34m(model_flags_str, conversion_flags_str, input_data_str, debug_info_str, enable_mlir_converter)\u001b[0m\n\u001b[0;32m    309\u001b[0m     \u001b[38;5;28;01mfor\u001b[39;00m error_data \u001b[38;5;129;01min\u001b[39;00m _metrics_wrapper\u001b[38;5;241m.\u001b[39mretrieve_collected_errors():\n\u001b[0;32m    310\u001b[0m       converter_error\u001b[38;5;241m.\u001b[39mappend_error(error_data)\n\u001b[1;32m--> 311\u001b[0m     \u001b[38;5;28;01mraise\u001b[39;00m converter_error\n\u001b[0;32m    313\u001b[0m \u001b[38;5;28;01mreturn\u001b[39;00m _run_deprecated_conversion_binary(model_flags_str,\n\u001b[0;32m    314\u001b[0m                                          conversion_flags_str, input_data_str,\n\u001b[0;32m    315\u001b[0m                                          debug_info_str)\n",
      "\u001b[1;31mConverterError\u001b[0m: C:\\Users\\daniel cooper\\anaconda3\\envs\\pdiot\\lib\\site-packages\\tensorflow\\python\\saved_model\\save.py:1268:0: error: 'tf.TensorListReserve' op is neither a custom op nor a flex op\n<unknown>:0: note: loc(fused[\"StatefulPartitionedCall:\", \"StatefulPartitionedCall\"]): called from\nC:\\Users\\daniel cooper\\anaconda3\\envs\\pdiot\\lib\\site-packages\\tensorflow\\python\\saved_model\\save.py:1268:0: note: Error code: ERROR_NEEDS_FLEX_OPS\nC:\\Users\\daniel cooper\\anaconda3\\envs\\pdiot\\lib\\site-packages\\tensorflow\\python\\saved_model\\save.py:1268:0: error: 'tf.TensorListStack' op is neither a custom op nor a flex op\n<unknown>:0: note: loc(fused[\"StatefulPartitionedCall:\", \"StatefulPartitionedCall\"]): called from\nC:\\Users\\daniel cooper\\anaconda3\\envs\\pdiot\\lib\\site-packages\\tensorflow\\python\\saved_model\\save.py:1268:0: note: Error code: ERROR_NEEDS_FLEX_OPS\nC:\\Users\\daniel cooper\\anaconda3\\envs\\pdiot\\lib\\site-packages\\tensorflow\\python\\saved_model\\save.py:1268:0: error: 'tf.TensorListStack' op is neither a custom op nor a flex op\n<unknown>:0: note: loc(fused[\"StatefulPartitionedCall:\", \"StatefulPartitionedCall\"]): called from\nC:\\Users\\daniel cooper\\anaconda3\\envs\\pdiot\\lib\\site-packages\\tensorflow\\python\\saved_model\\save.py:1268:0: note: Error code: ERROR_NEEDS_FLEX_OPS\nC:\\Users\\daniel cooper\\anaconda3\\envs\\pdiot\\lib\\site-packages\\tensorflow\\python\\saved_model\\save.py:1268:0: error: 'tf.TensorListSetItem' op is neither a custom op nor a flex op\nC:\\Users\\daniel cooper\\anaconda3\\envs\\pdiot\\lib\\site-packages\\tensorflow\\python\\saved_model\\save.py:1268:0: note: called from\n<unknown>:0: note: loc(fused[\"StatefulPartitionedCall:\", \"StatefulPartitionedCall\"]): called from\nC:\\Users\\daniel cooper\\anaconda3\\envs\\pdiot\\lib\\site-packages\\tensorflow\\python\\saved_model\\save.py:1268:0: note: Error code: ERROR_NEEDS_FLEX_OPS\nC:\\Users\\daniel cooper\\anaconda3\\envs\\pdiot\\lib\\site-packages\\tensorflow\\python\\saved_model\\save.py:1268:0: error: 'tf.TensorListSetItem' op is neither a custom op nor a flex op\nC:\\Users\\daniel cooper\\anaconda3\\envs\\pdiot\\lib\\site-packages\\tensorflow\\python\\saved_model\\save.py:1268:0: note: called from\n<unknown>:0: note: loc(fused[\"StatefulPartitionedCall:\", \"StatefulPartitionedCall\"]): called from\nC:\\Users\\daniel cooper\\anaconda3\\envs\\pdiot\\lib\\site-packages\\tensorflow\\python\\saved_model\\save.py:1268:0: note: Error code: ERROR_NEEDS_FLEX_OPS\n<unknown>:0: error: failed while converting: 'main': \nSome ops are not supported by the native TFLite runtime, you can enable TF kernels fallback using TF Select. See instructions: https://www.tensorflow.org/lite/guide/ops_select \nTF Select ops: TensorListReserve, TensorListSetItem, TensorListStack\nDetails:\n\ttf.TensorListReserve(tensor<2xi32>, tensor<i32>) -> (tensor<!tf_type.variant<tensor<?x128xf32>>>) : {device = \"\"}\n\ttf.TensorListSetItem(tensor<!tf_type.variant<tensor<?x128xf32>>>, tensor<i32>, tensor<?x128xf32>) -> (tensor<!tf_type.variant<tensor<?x128xf32>>>) : {device = \"\"}\n\ttf.TensorListStack(tensor<!tf_type.variant<tensor<?x128xf32>>>, tensor<2xi32>) -> (tensor<1x?x128xf32>) : {device = \"\", num_elements = 1 : i64}\n\n"
     ]
    }
   ],
   "source": [
    "\n",
    "# Convert the model.\n",
    "converter = tf.lite.TFLiteConverter.from_keras_model(model)\n",
    "converter.target_spec.supported_ops = [tf.lite.OpsSet.TFLITE_BUILTINS, tf.lite.OpsSet.SELECT_TF_OPS]\n",
    "converter._experimental_lower_tensor_list_ops = False\n",
    "tflite_model = converter.convert()\n",
    "\n",
    "# Save the model.\n",
    "with open('C:/Users/Public/model.tflite', 'wb') as f:\n",
    "  f.write(tflite_model)"
   ]
  }
 ],
 "metadata": {
  "kernelspec": {
   "display_name": "Python 3 (ipykernel)",
   "language": "python",
   "name": "python3"
  },
  "language_info": {
   "codemirror_mode": {
    "name": "ipython",
    "version": 3
   },
   "file_extension": ".py",
   "mimetype": "text/x-python",
   "name": "python",
   "nbconvert_exporter": "python",
   "pygments_lexer": "ipython3",
   "version": "3.7.16"
  }
 },
 "nbformat": 4,
 "nbformat_minor": 5
}
