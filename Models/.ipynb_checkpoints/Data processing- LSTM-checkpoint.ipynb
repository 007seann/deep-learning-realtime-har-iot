{
 "cells": [
  {
   "cell_type": "code",
   "execution_count": 8,
   "id": "ee95509e",
   "metadata": {
    "scrolled": true
   },
   "outputs": [],
   "source": [
    "import os\n",
    "import pandas as pd\n",
    "import numpy as np\n",
    "from sklearn.model_selection import train_test_split\n",
    "import tensorflow as tf\n",
    "from tensorflow import keras\n",
    "from tensorflow.keras import layers\n",
    "from sklearn.preprocessing import RobustScaler, OneHotEncoder"
   ]
  },
  {
   "cell_type": "code",
   "execution_count": 9,
   "id": "a20b414e",
   "metadata": {
    "scrolled": true
   },
   "outputs": [],
   "source": [
    "from tensorflow.keras.utils import to_categorical\n",
    "\n",
    "def import_and_clean_file(file, file_dir):\n",
    "    # read data from name of file\n",
    "    sensor, student, activity, activity_subtype, _, date, timestamp = file[:-4].split(\"_\")\n",
    "    # read in database\n",
    "    df = pd.read_csv(file_dir)\n",
    "    # drop features we dont want\n",
    "    df = df.drop(['ind', 'mag_x','mag_y','mag_z', 'gyro_x','gyro_y','gyro_z'], axis = 1, errors = 'ignore')\n",
    "    scale_columns = ['accel_x', 'accel_y', 'accel_z']\n",
    "    df['timestamp'] = df['timestamp'].astype(np.float64)\n",
    "#     df['accel_x'] = df['accel_x'].astype(np.float64)\n",
    "#     df['accel_y'] = df['accel_y'].astype(np.float64)\n",
    "#     df['accel_z'] = df['accel_z'].astype(np.float64)\n",
    "#     df['gyro_x'] = df['gyro_x'].astype(np.float64)\n",
    "#     df['gyro_y'] = df['gyro_y'].astype(np.float64)\n",
    "#     df['gyro_z'] = df['gyro_z'].astype(np.float64)\n",
    "    df['activity'] = activity\n",
    "    df['activity_subtype'] = activity_subtype\n",
    "    df.sort_values(by=['timestamp'])\n",
    "    # scale data\n",
    "    \n",
    "    return df"
   ]
  },
  {
   "cell_type": "code",
   "execution_count": 10,
   "id": "b64a7f9a",
   "metadata": {
    "scrolled": true
   },
   "outputs": [],
   "source": [
    "from scipy import stats\n",
    "\n",
    "def get_X_y(directory='2023', window_size=25, overlap=10):\n",
    "    # Initialize lists to store data and labels\n",
    "    X = []  # Data\n",
    "    y = []  # Labels\n",
    "\n",
    "    # Loop through the clean-named subfolders\n",
    "    for student in os.listdir(directory):\n",
    "            if \"placeholder\" not in student:\n",
    "                student_directory = os.path.join(directory, student)\n",
    "                # itterate through students data\n",
    "                for file in os.listdir(student_directory):\n",
    "                    file_dir = os.path.join(student_directory, file)\n",
    "                    if os.path.isfile(file_dir) and \"clean\" in file and \"Respeck\" in file:\n",
    "                        sensor, student, activity, activity_subtype, _, date, timestamp = file[:-4].split(\"_\")\n",
    "                        df = import_and_clean_file(file, file_dir)\n",
    "                        # Split the time series data into overlapping windows\n",
    "                        for i in range(0, len(df) - window_size + 1, overlap):\n",
    "                            window = df[i:i + window_size]\n",
    "                            # create X matrix\n",
    "                            X.append(window.drop(columns=['timestamp','activity', 'activity_subtype']))\n",
    "                            # create y matrix\n",
    "                            y.append(activity_subtype)\n",
    "\n",
    "    return np.array(X), np.array(y).reshape(-1,1)"
   ]
  },
  {
   "cell_type": "code",
   "execution_count": 11,
   "id": "2c6b56c0",
   "metadata": {
    "scrolled": true
   },
   "outputs": [
    {
     "name": "stdout",
     "output_type": "stream",
     "text": [
      "(7819, 25, 3) (7819, 1)\n"
     ]
    },
    {
     "data": {
      "text/html": [
       "<div>\n",
       "<style scoped>\n",
       "    .dataframe tbody tr th:only-of-type {\n",
       "        vertical-align: middle;\n",
       "    }\n",
       "\n",
       "    .dataframe tbody tr th {\n",
       "        vertical-align: top;\n",
       "    }\n",
       "\n",
       "    .dataframe thead th {\n",
       "        text-align: right;\n",
       "    }\n",
       "</style>\n",
       "<table border=\"1\" class=\"dataframe\">\n",
       "  <thead>\n",
       "    <tr style=\"text-align: right;\">\n",
       "      <th></th>\n",
       "      <th>0</th>\n",
       "      <th>1</th>\n",
       "      <th>2</th>\n",
       "    </tr>\n",
       "  </thead>\n",
       "  <tbody>\n",
       "    <tr>\n",
       "      <th>0</th>\n",
       "      <td>0.164551</td>\n",
       "      <td>0.117126</td>\n",
       "      <td>-0.936585</td>\n",
       "    </tr>\n",
       "    <tr>\n",
       "      <th>1</th>\n",
       "      <td>0.156738</td>\n",
       "      <td>0.110046</td>\n",
       "      <td>-0.939514</td>\n",
       "    </tr>\n",
       "    <tr>\n",
       "      <th>2</th>\n",
       "      <td>0.163818</td>\n",
       "      <td>0.119080</td>\n",
       "      <td>-0.946594</td>\n",
       "    </tr>\n",
       "    <tr>\n",
       "      <th>3</th>\n",
       "      <td>0.159912</td>\n",
       "      <td>0.109558</td>\n",
       "      <td>-0.943665</td>\n",
       "    </tr>\n",
       "    <tr>\n",
       "      <th>4</th>\n",
       "      <td>0.158203</td>\n",
       "      <td>0.115906</td>\n",
       "      <td>-0.941711</td>\n",
       "    </tr>\n",
       "  </tbody>\n",
       "</table>\n",
       "</div>"
      ],
      "text/plain": [
       "          0         1         2\n",
       "0  0.164551  0.117126 -0.936585\n",
       "1  0.156738  0.110046 -0.939514\n",
       "2  0.163818  0.119080 -0.946594\n",
       "3  0.159912  0.109558 -0.943665\n",
       "4  0.158203  0.115906 -0.941711"
      ]
     },
     "execution_count": 11,
     "metadata": {},
     "output_type": "execute_result"
    }
   ],
   "source": [
    "X, y = get_X_y()\n",
    "X_train, X_temp, y_train, y_temp = train_test_split(X, y, test_size=0.2, random_state=42)\n",
    "X_test, X_val, y_test, y_val = train_test_split(X_temp, y_temp, test_size=0.5, random_state=42)\n",
    "print(X_train.shape, y_train.shape)\n",
    "\n",
    "pd.DataFrame(X_train[0]).head()"
   ]
  },
  {
   "cell_type": "code",
   "execution_count": 12,
   "id": "4dd7af2c",
   "metadata": {
    "scrolled": true
   },
   "outputs": [
    {
     "name": "stdout",
     "output_type": "stream",
     "text": [
      "(7819, 25, 3) (7819, 7)\n"
     ]
    },
    {
     "name": "stderr",
     "output_type": "stream",
     "text": [
      "C:\\Users\\daniel cooper\\anaconda3\\envs\\pdiot\\lib\\site-packages\\sklearn\\preprocessing\\_encoders.py:972: FutureWarning: `sparse` was renamed to `sparse_output` in version 1.2 and will be removed in 1.4. `sparse_output` is ignored unless you leave `sparse` to its default value.\n",
      "  warnings.warn(\n",
      "C:\\Users\\daniel cooper\\anaconda3\\envs\\pdiot\\lib\\site-packages\\sklearn\\preprocessing\\_encoders.py:972: FutureWarning: `sparse` was renamed to `sparse_output` in version 1.2 and will be removed in 1.4. `sparse_output` is ignored unless you leave `sparse` to its default value.\n",
      "  warnings.warn(\n"
     ]
    }
   ],
   "source": [
    "enc = OneHotEncoder(handle_unknown='ignore', sparse=False)\n",
    "\n",
    "enc = enc.fit(y_train)\n",
    "y_train = enc.transform(y_train)\n",
    "enc = enc.fit(y_val)\n",
    "y_val = enc.transform(y_val)\n",
    "\n",
    "# enc = enc.fit(y_test)\n",
    "# y_test = enc.transform(y_test)\n",
    "print(X_train.shape, y_train.shape)"
   ]
  },
  {
   "cell_type": "code",
   "execution_count": 13,
   "id": "cacd9ca1",
   "metadata": {
    "scrolled": true
   },
   "outputs": [],
   "source": [
    "model = keras.Sequential()\n",
    "model.add(keras.layers.Normalization())\n",
    "model.add(\n",
    "    keras.layers.Bidirectional(\n",
    "      keras.layers.LSTM(\n",
    "          units=128, \n",
    "          input_shape=[X_train.shape[1], X_train.shape[2]]\n",
    "      )\n",
    "    )\n",
    ")\n",
    "model.add(keras.layers.Dropout(rate=0.5))\n",
    "model.add(keras.layers.Dense(units=128, activation='relu'))\n",
    "model.add(keras.layers.Dense(y_train.shape[1], activation='softmax'))\n",
    "model.compile(loss='categorical_crossentropy', optimizer='adam', metrics=['accuracy'])"
   ]
  },
  {
   "cell_type": "code",
   "execution_count": 14,
   "id": "ac37055d",
   "metadata": {
    "scrolled": true
   },
   "outputs": [
    {
     "name": "stdout",
     "output_type": "stream",
     "text": [
      "Epoch 1/50\n",
      "220/220 [==============================] - 6s 17ms/step - loss: 1.7871 - accuracy: 0.2777 - val_loss: 1.7501 - val_accuracy: 0.2558\n",
      "Epoch 2/50\n",
      "220/220 [==============================] - 3s 13ms/step - loss: 1.7033 - accuracy: 0.3072 - val_loss: 1.6746 - val_accuracy: 0.3350\n",
      "Epoch 3/50\n",
      "220/220 [==============================] - 3s 13ms/step - loss: 1.6227 - accuracy: 0.3473 - val_loss: 1.5967 - val_accuracy: 0.3555\n",
      "Epoch 4/50\n",
      "220/220 [==============================] - 3s 13ms/step - loss: 1.5315 - accuracy: 0.3864 - val_loss: 1.5078 - val_accuracy: 0.3798\n",
      "Epoch 5/50\n",
      "220/220 [==============================] - 3s 13ms/step - loss: 1.4278 - accuracy: 0.4195 - val_loss: 1.3516 - val_accuracy: 0.4412\n",
      "Epoch 6/50\n",
      "220/220 [==============================] - 3s 13ms/step - loss: 1.3566 - accuracy: 0.4427 - val_loss: 1.2729 - val_accuracy: 0.4552\n",
      "Epoch 7/50\n",
      "220/220 [==============================] - 3s 13ms/step - loss: 1.2703 - accuracy: 0.4722 - val_loss: 1.2259 - val_accuracy: 0.4987\n",
      "Epoch 8/50\n",
      "220/220 [==============================] - 3s 13ms/step - loss: 1.1913 - accuracy: 0.5053 - val_loss: 1.1323 - val_accuracy: 0.5473\n",
      "Epoch 9/50\n",
      "220/220 [==============================] - 3s 13ms/step - loss: 1.1064 - accuracy: 0.5421 - val_loss: 1.1107 - val_accuracy: 0.5153\n",
      "Epoch 10/50\n",
      "220/220 [==============================] - 3s 13ms/step - loss: 1.0457 - accuracy: 0.5630 - val_loss: 1.0842 - val_accuracy: 0.5499\n",
      "Epoch 11/50\n",
      "220/220 [==============================] - 3s 13ms/step - loss: 1.0303 - accuracy: 0.5792 - val_loss: 0.9775 - val_accuracy: 0.6164\n",
      "Epoch 12/50\n",
      "220/220 [==============================] - 3s 13ms/step - loss: 0.9378 - accuracy: 0.6119 - val_loss: 0.9074 - val_accuracy: 0.6343\n",
      "Epoch 13/50\n",
      "220/220 [==============================] - 3s 13ms/step - loss: 0.8869 - accuracy: 0.6361 - val_loss: 0.7912 - val_accuracy: 0.6880\n",
      "Epoch 14/50\n",
      "220/220 [==============================] - 3s 13ms/step - loss: 0.8463 - accuracy: 0.6513 - val_loss: 0.8270 - val_accuracy: 0.6777\n",
      "Epoch 15/50\n",
      "220/220 [==============================] - 3s 13ms/step - loss: 0.8174 - accuracy: 0.6678 - val_loss: 0.8024 - val_accuracy: 0.7110\n",
      "Epoch 16/50\n",
      "220/220 [==============================] - 3s 13ms/step - loss: 0.8130 - accuracy: 0.6699 - val_loss: 0.6858 - val_accuracy: 0.7455\n",
      "Epoch 17/50\n",
      "220/220 [==============================] - 3s 13ms/step - loss: 0.7559 - accuracy: 0.6911 - val_loss: 0.6999 - val_accuracy: 0.7225\n",
      "Epoch 18/50\n",
      "220/220 [==============================] - 3s 13ms/step - loss: 0.7692 - accuracy: 0.6905 - val_loss: 0.7125 - val_accuracy: 0.7148\n",
      "Epoch 19/50\n",
      "220/220 [==============================] - 3s 13ms/step - loss: 0.7369 - accuracy: 0.7036 - val_loss: 0.6503 - val_accuracy: 0.7506\n",
      "Epoch 20/50\n",
      "220/220 [==============================] - 3s 13ms/step - loss: 0.7286 - accuracy: 0.7067 - val_loss: 0.6582 - val_accuracy: 0.7506\n",
      "Epoch 21/50\n",
      "220/220 [==============================] - 3s 13ms/step - loss: 0.7401 - accuracy: 0.7053 - val_loss: 0.6221 - val_accuracy: 0.7570\n",
      "Epoch 22/50\n",
      "220/220 [==============================] - 3s 13ms/step - loss: 0.6832 - accuracy: 0.7225 - val_loss: 0.5895 - val_accuracy: 0.7494\n",
      "Epoch 23/50\n",
      "220/220 [==============================] - 3s 13ms/step - loss: 0.7141 - accuracy: 0.7104 - val_loss: 0.5951 - val_accuracy: 0.7813\n",
      "Epoch 24/50\n",
      "220/220 [==============================] - 3s 13ms/step - loss: 0.6441 - accuracy: 0.7429 - val_loss: 0.5548 - val_accuracy: 0.7852\n",
      "Epoch 25/50\n",
      "220/220 [==============================] - 3s 13ms/step - loss: 0.6543 - accuracy: 0.7391 - val_loss: 0.5622 - val_accuracy: 0.7890\n",
      "Epoch 26/50\n",
      "220/220 [==============================] - 3s 14ms/step - loss: 0.6593 - accuracy: 0.7323 - val_loss: 0.6531 - val_accuracy: 0.7532\n",
      "Epoch 27/50\n",
      "220/220 [==============================] - 3s 13ms/step - loss: 0.6412 - accuracy: 0.7426 - val_loss: 0.5439 - val_accuracy: 0.7941\n",
      "Epoch 28/50\n",
      "220/220 [==============================] - 3s 13ms/step - loss: 0.6168 - accuracy: 0.7507 - val_loss: 0.5369 - val_accuracy: 0.7941\n",
      "Epoch 29/50\n",
      "220/220 [==============================] - 3s 13ms/step - loss: 0.5877 - accuracy: 0.7664 - val_loss: 0.5418 - val_accuracy: 0.7954\n",
      "Epoch 30/50\n",
      "220/220 [==============================] - 3s 13ms/step - loss: 0.6027 - accuracy: 0.7600 - val_loss: 0.5789 - val_accuracy: 0.7609\n",
      "Epoch 31/50\n",
      "220/220 [==============================] - 3s 14ms/step - loss: 0.6083 - accuracy: 0.7552 - val_loss: 0.6002 - val_accuracy: 0.7647\n",
      "Epoch 32/50\n",
      "220/220 [==============================] - 3s 13ms/step - loss: 0.5760 - accuracy: 0.7722 - val_loss: 0.5187 - val_accuracy: 0.8018\n",
      "Epoch 33/50\n",
      "220/220 [==============================] - 3s 13ms/step - loss: 0.5655 - accuracy: 0.7733 - val_loss: 0.5423 - val_accuracy: 0.7877\n",
      "Epoch 34/50\n",
      "220/220 [==============================] - 3s 13ms/step - loss: 0.5666 - accuracy: 0.7745 - val_loss: 0.5306 - val_accuracy: 0.7864\n",
      "Epoch 35/50\n",
      "220/220 [==============================] - 3s 13ms/step - loss: 0.5817 - accuracy: 0.7742 - val_loss: 0.5033 - val_accuracy: 0.7992\n",
      "Epoch 36/50\n",
      "220/220 [==============================] - 3s 13ms/step - loss: 0.5591 - accuracy: 0.7810 - val_loss: 0.5380 - val_accuracy: 0.8069\n",
      "Epoch 37/50\n",
      "220/220 [==============================] - 3s 14ms/step - loss: 0.5731 - accuracy: 0.7721 - val_loss: 0.4929 - val_accuracy: 0.8197\n",
      "Epoch 38/50\n",
      "220/220 [==============================] - 3s 13ms/step - loss: 0.5308 - accuracy: 0.7860 - val_loss: 0.5907 - val_accuracy: 0.7852\n",
      "Epoch 39/50\n",
      "220/220 [==============================] - 3s 13ms/step - loss: 0.5434 - accuracy: 0.7800 - val_loss: 0.5156 - val_accuracy: 0.8146\n",
      "Epoch 40/50\n",
      "220/220 [==============================] - 3s 13ms/step - loss: 0.5522 - accuracy: 0.7812 - val_loss: 0.4845 - val_accuracy: 0.8184\n",
      "Epoch 41/50\n",
      "220/220 [==============================] - 3s 14ms/step - loss: 0.5197 - accuracy: 0.7918 - val_loss: 0.5093 - val_accuracy: 0.8159\n",
      "Epoch 42/50\n",
      "220/220 [==============================] - 3s 13ms/step - loss: 0.5483 - accuracy: 0.7846 - val_loss: 0.5537 - val_accuracy: 0.7992\n",
      "Epoch 43/50\n",
      "220/220 [==============================] - 3s 13ms/step - loss: 0.5272 - accuracy: 0.7880 - val_loss: 0.4743 - val_accuracy: 0.8325\n",
      "Epoch 44/50\n",
      "220/220 [==============================] - 3s 14ms/step - loss: 0.5288 - accuracy: 0.7907 - val_loss: 0.4877 - val_accuracy: 0.8210\n",
      "Epoch 45/50\n",
      "220/220 [==============================] - 3s 13ms/step - loss: 0.5237 - accuracy: 0.7925 - val_loss: 0.4604 - val_accuracy: 0.8248\n",
      "Epoch 46/50\n",
      "220/220 [==============================] - 3s 13ms/step - loss: 0.4764 - accuracy: 0.8092 - val_loss: 0.5119 - val_accuracy: 0.8043\n",
      "Epoch 47/50\n",
      "220/220 [==============================] - 3s 13ms/step - loss: 0.5122 - accuracy: 0.7985 - val_loss: 0.4746 - val_accuracy: 0.8338\n",
      "Epoch 48/50\n",
      "220/220 [==============================] - 3s 13ms/step - loss: 0.5035 - accuracy: 0.7972 - val_loss: 0.4620 - val_accuracy: 0.8312\n",
      "Epoch 49/50\n",
      "220/220 [==============================] - 3s 13ms/step - loss: 0.4906 - accuracy: 0.8019 - val_loss: 0.4959 - val_accuracy: 0.8261\n",
      "Epoch 50/50\n",
      "220/220 [==============================] - 3s 13ms/step - loss: 0.4762 - accuracy: 0.8134 - val_loss: 0.5257 - val_accuracy: 0.8043\n"
     ]
    }
   ],
   "source": [
    "history = model.fit(\n",
    "    X_train, y_train,\n",
    "    epochs=50,\n",
    "    batch_size=32,\n",
    "    validation_split=0.1,\n",
    "    shuffle=False\n",
    ")"
   ]
  },
  {
   "cell_type": "code",
   "execution_count": 15,
   "id": "b52b3aef",
   "metadata": {
    "scrolled": true
   },
   "outputs": [
    {
     "data": {
      "image/png": "[encoded data removed]",
      "text/plain": [
       "<Figure size 600x400 with 1 Axes>"
      ]
     },
     "metadata": {},
     "output_type": "display_data"
    }
   ],
   "source": [
    "import matplotlib.pyplot as plt\n",
    "from sklearn.metrics import classification_report, confusion_matrix, ConfusionMatrixDisplay\n",
    "\n",
    "plt.figure(figsize=(6, 4))\n",
    "plt.plot(history.history['accuracy'], 'r', label='Accuracy of training data')\n",
    "plt.plot(history.history['loss'], 'r--', label='Loss of training data')\n",
    "plt.title('Model Accuracy and Loss')\n",
    "plt.ylabel('Accuracy and Loss')\n",
    "plt.xlabel('Training Epoch')\n",
    "plt.ylim(0)\n",
    "plt.legend()\n",
    "plt.show()\n",
    "\n"
   ]
  },
  {
   "cell_type": "code",
   "execution_count": 16,
   "id": "159e8304",
   "metadata": {
    "scrolled": true
   },
   "outputs": [
    {
     "name": "stdout",
     "output_type": "stream",
     "text": [
      "31/31 [==============================] - 1s 4ms/step\n"
     ]
    },
    {
     "data": {
      "image/png": "[encoded data removed]",
      "text/plain": [
       "<Figure size 640x480 with 2 Axes>"
      ]
     },
     "metadata": {},
     "output_type": "display_data"
    }
   ],
   "source": [
    "predictions = model.predict(X_val)\n",
    "predictions = np.argmax(predictions, axis=1)\n",
    "y_val_pred = np.argmax(y_val, axis=1)\n",
    "cm = confusion_matrix(y_val_pred, predictions)\n",
    "cm_disp = ConfusionMatrixDisplay(confusion_matrix= cm)\n",
    "cm_disp.plot()\n",
    "plt.show()"
   ]
  },
  {
   "cell_type": "code",
   "execution_count": 17,
   "id": "7c88d8c8",
   "metadata": {},
   "outputs": [
    {
     "name": "stdout",
     "output_type": "stream",
     "text": [
      "              precision    recall  f1-score   support\n",
      "\n",
      "           0       0.70      0.57      0.63       133\n",
      "           1       0.59      0.76      0.67        42\n",
      "           2       0.84      0.88      0.86       137\n",
      "           3       0.79      0.68      0.73       144\n",
      "           4       0.90      0.94      0.92       284\n",
      "           5       0.79      0.82      0.80       121\n",
      "           6       0.74      0.78      0.76       117\n",
      "\n",
      "    accuracy                           0.80       978\n",
      "   macro avg       0.76      0.78      0.77       978\n",
      "weighted avg       0.80      0.80      0.80       978\n",
      "\n"
     ]
    }
   ],
   "source": [
    "print(classification_report(y_val_pred, predictions))"
   ]
  },
  {
   "cell_type": "code",
   "execution_count": 18,
   "id": "76b40720",
   "metadata": {
    "scrolled": true
   },
   "outputs": [
    {
     "name": "stdout",
     "output_type": "stream",
     "text": [
      "31/31 [==============================] - 0s 4ms/step - loss: 0.4927 - accuracy: 0.8016\n"
     ]
    },
    {
     "data": {
      "text/plain": [
       "[0.4926859736442566, 0.8016359806060791]"
      ]
     },
     "execution_count": 18,
     "metadata": {},
     "output_type": "execute_result"
    }
   ],
   "source": [
    "model.evaluate(X_val, y_val)"
   ]
  },
  {
   "cell_type": "code",
   "execution_count": 19,
   "id": "a62e7610",
   "metadata": {
    "scrolled": true
   },
   "outputs": [
    {
     "data": {
      "text/plain": [
       "['Coughing',\n",
       " 'Eating',\n",
       " 'Hyperventilating',\n",
       " 'Laughing',\n",
       " 'Normal',\n",
       " 'Singing',\n",
       " 'Talking']"
      ]
     },
     "execution_count": 19,
     "metadata": {},
     "output_type": "execute_result"
    }
   ],
   "source": [
    "[name[3:] for name in enc.get_feature_names_out()]"
   ]
  },
  {
   "cell_type": "code",
   "execution_count": null,
   "id": "ce9531cb",
   "metadata": {},
   "outputs": [
    {
     "name": "stderr",
     "output_type": "stream",
     "text": [
      "WARNING:absl:Found untraced functions such as lstm_cell_4_layer_call_fn, lstm_cell_4_layer_call_and_return_conditional_losses, lstm_cell_5_layer_call_fn, lstm_cell_5_layer_call_and_return_conditional_losses while saving (showing 4 of 4). These functions will not be directly callable after loading.\n"
     ]
    },
    {
     "name": "stdout",
     "output_type": "stream",
     "text": [
      "INFO:tensorflow:Assets written to: C:\\Users\\DANIEL~1\\AppData\\Local\\Temp\\tmpaukaz2cb\\assets\n"
     ]
    },
    {
     "name": "stderr",
     "output_type": "stream",
     "text": [
      "INFO:tensorflow:Assets written to: C:\\Users\\DANIEL~1\\AppData\\Local\\Temp\\tmpaukaz2cb\\assets\n"
     ]
    }
   ],
   "source": [
    "# Convert the model.\n",
    "converter = tf.lite.TFLiteConverter.from_keras_model(model)\n",
    "tflite_model = converter.convert()\n",
    "\n",
    "# Save the model.\n",
    "with open('C:/Users/daniel cooper/model.tflite', 'wb') as f:\n",
    "  f.write(tflite_model)"
   ]
  }
 ],
 "metadata": {
  "kernelspec": {
   "display_name": "Python 3 (ipykernel)",
   "language": "python",
   "name": "python3"
  },
  "language_info": {
   "codemirror_mode": {
    "name": "ipython",
    "version": 3
   },
   "file_extension": ".py",
   "mimetype": "text/x-python",
   "name": "python",
   "nbconvert_exporter": "python",
   "pygments_lexer": "ipython3",
   "version": "3.9.18"
  }
 },
 "nbformat": 4,
 "nbformat_minor": 5
}
