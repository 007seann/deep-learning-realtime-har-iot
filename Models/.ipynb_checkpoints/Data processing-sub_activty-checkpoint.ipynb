{
 "cells": [
  {
   "cell_type": "code",
   "execution_count": 25,
   "id": "ee95509e",
   "metadata": {
    "scrolled": true
   },
   "outputs": [],
   "source": [
    "import os\n",
    "import pandas as pd\n",
    "import numpy as np\n",
    "from sklearn.model_selection import train_test_split\n",
    "import tensorflow as tf\n",
    "from tensorflow import keras\n",
    "from tensorflow.keras import layers\n",
    "from sklearn.preprocessing import RobustScaler, OneHotEncoder"
   ]
  },
  {
   "cell_type": "code",
   "execution_count": 26,
   "id": "a20b414e",
   "metadata": {
    "scrolled": true
   },
   "outputs": [],
   "source": [
    "from tensorflow.keras.utils import to_categorical\n",
    "\n",
    "def import_and_clean_file(file, file_dir):\n",
    "    # read data from name of file\n",
    "    sensor, student, activity, activity_subtype, _, date, timestamp = file[:-4].split(\"_\")\n",
    "    # read in database\n",
    "    df = pd.read_csv(file_dir)\n",
    "    # drop features we dont want\n",
    "    df = df.drop(['ind', 'mag_x','mag_y','mag_z'], axis = 1, errors = 'ignore')\n",
    "    scale_columns = ['accel_x', 'accel_y', 'accel_z']\n",
    "    df['timestamp'] = df['timestamp'].astype(np.float64)\n",
    "#     df['accel_x'] = df['accel_x'].astype(np.float64)\n",
    "#     df['accel_y'] = df['accel_y'].astype(np.float64)\n",
    "#     df['accel_z'] = df['accel_z'].astype(np.float64)\n",
    "#     df['gyro_x'] = df['gyro_x'].astype(np.float64)\n",
    "#     df['gyro_y'] = df['gyro_y'].astype(np.float64)\n",
    "#     df['gyro_z'] = df['gyro_z'].astype(np.float64)\n",
    "    df['activity'] = activity\n",
    "    df['activity_subtype'] = activity_subtype\n",
    "    df.sort_values(by=['timestamp'])\n",
    "    # scale data\n",
    "    \n",
    "    return df"
   ]
  },
  {
   "cell_type": "code",
   "execution_count": 27,
   "id": "b64a7f9a",
   "metadata": {
    "scrolled": true
   },
   "outputs": [],
   "source": [
    "from scipy import stats\n",
    "\n",
    "def get_X_y(directory='2023', window_size=50, overlap=25):\n",
    "    # Initialize lists to store data and labels\n",
    "    X = []  # Data\n",
    "    y = []  # Labels\n",
    "\n",
    "    # Loop through the clean-named subfolders\n",
    "    for student in os.listdir(directory):\n",
    "            if \"placeholder\" not in student:\n",
    "                student_directory = os.path.join(directory, student)\n",
    "                # itterate through students data\n",
    "                for file in os.listdir(student_directory):\n",
    "                    file_dir = os.path.join(student_directory, file)\n",
    "                    if os.path.isfile(file_dir) and \"clean\" in file and \"Respeck\" in file:\n",
    "                        sensor, student, activity, activity_subtype, _, date, timestamp = file[:-4].split(\"_\")\n",
    "                        df = import_and_clean_file(file, file_dir)\n",
    "                        # Split the time series data into overlapping windows\n",
    "                        for i in range(0, len(df) - window_size + 1, overlap):\n",
    "                            window = df[i:i + window_size]\n",
    "                            # create X matrix\n",
    "                            X.append(window.drop(columns=['timestamp','activity', 'activity_subtype']))\n",
    "                            # create y matrix\n",
    "                            y.append(activity_subtype)\n",
    "\n",
    "    return np.array(X), np.array(y).reshape(-1,1)"
   ]
  },
  {
   "cell_type": "code",
   "execution_count": 28,
   "id": "2c6b56c0",
   "metadata": {
    "scrolled": true
   },
   "outputs": [
    {
     "name": "stdout",
     "output_type": "stream",
     "text": [
      "(3064, 50, 6) (3064, 1)\n"
     ]
    },
    {
     "data": {
      "text/html": [
       "<div>\n",
       "<style scoped>\n",
       "    .dataframe tbody tr th:only-of-type {\n",
       "        vertical-align: middle;\n",
       "    }\n",
       "\n",
       "    .dataframe tbody tr th {\n",
       "        vertical-align: top;\n",
       "    }\n",
       "\n",
       "    .dataframe thead th {\n",
       "        text-align: right;\n",
       "    }\n",
       "</style>\n",
       "<table border=\"1\" class=\"dataframe\">\n",
       "  <thead>\n",
       "    <tr style=\"text-align: right;\">\n",
       "      <th></th>\n",
       "      <th>0</th>\n",
       "      <th>1</th>\n",
       "      <th>2</th>\n",
       "      <th>3</th>\n",
       "      <th>4</th>\n",
       "      <th>5</th>\n",
       "    </tr>\n",
       "  </thead>\n",
       "  <tbody>\n",
       "    <tr>\n",
       "      <th>0</th>\n",
       "      <td>-0.244141</td>\n",
       "      <td>-0.967346</td>\n",
       "      <td>0.077820</td>\n",
       "      <td>-1.265625</td>\n",
       "      <td>0.781250</td>\n",
       "      <td>-0.234375</td>\n",
       "    </tr>\n",
       "    <tr>\n",
       "      <th>1</th>\n",
       "      <td>-0.253906</td>\n",
       "      <td>-1.000305</td>\n",
       "      <td>0.083191</td>\n",
       "      <td>-0.953125</td>\n",
       "      <td>1.750000</td>\n",
       "      <td>-0.375000</td>\n",
       "    </tr>\n",
       "    <tr>\n",
       "      <th>2</th>\n",
       "      <td>-0.225830</td>\n",
       "      <td>-0.980286</td>\n",
       "      <td>0.106384</td>\n",
       "      <td>3.375000</td>\n",
       "      <td>3.593750</td>\n",
       "      <td>-1.000000</td>\n",
       "    </tr>\n",
       "    <tr>\n",
       "      <th>3</th>\n",
       "      <td>-0.286865</td>\n",
       "      <td>-0.985901</td>\n",
       "      <td>0.055847</td>\n",
       "      <td>5.937500</td>\n",
       "      <td>6.734375</td>\n",
       "      <td>2.468750</td>\n",
       "    </tr>\n",
       "    <tr>\n",
       "      <th>4</th>\n",
       "      <td>-0.226562</td>\n",
       "      <td>-0.976868</td>\n",
       "      <td>0.041931</td>\n",
       "      <td>5.843750</td>\n",
       "      <td>7.484375</td>\n",
       "      <td>2.531250</td>\n",
       "    </tr>\n",
       "  </tbody>\n",
       "</table>\n",
       "</div>"
      ],
      "text/plain": [
       "          0         1         2         3         4         5\n",
       "0 -0.244141 -0.967346  0.077820 -1.265625  0.781250 -0.234375\n",
       "1 -0.253906 -1.000305  0.083191 -0.953125  1.750000 -0.375000\n",
       "2 -0.225830 -0.980286  0.106384  3.375000  3.593750 -1.000000\n",
       "3 -0.286865 -0.985901  0.055847  5.937500  6.734375  2.468750\n",
       "4 -0.226562 -0.976868  0.041931  5.843750  7.484375  2.531250"
      ]
     },
     "execution_count": 28,
     "metadata": {},
     "output_type": "execute_result"
    }
   ],
   "source": [
    "X, y = get_X_y()\n",
    "X_train, X_temp, y_train, y_temp = train_test_split(X, y, test_size=0.2, random_state=42)\n",
    "X_test, X_val, y_test, y_val = train_test_split(X_temp, y_temp, test_size=0.5, random_state=42)\n",
    "print(X_train.shape, y_train.shape)\n",
    "\n",
    "pd.DataFrame(X_train[0]).head()"
   ]
  },
  {
   "cell_type": "code",
   "execution_count": 29,
   "id": "4dd7af2c",
   "metadata": {
    "scrolled": true
   },
   "outputs": [
    {
     "name": "stdout",
     "output_type": "stream",
     "text": [
      "(3064, 50, 6) (3064, 7)\n"
     ]
    }
   ],
   "source": [
    "enc = OneHotEncoder(handle_unknown='ignore', sparse=False)\n",
    "\n",
    "enc = enc.fit(y_train)\n",
    "y_train = enc.transform(y_train)\n",
    "y_val = enc.transform(y_val)\n",
    "y_test = enc.transform(y_test)\n",
    "\n",
    "print(X_train.shape, y_train.shape)"
   ]
  },
  {
   "cell_type": "code",
   "execution_count": 30,
   "id": "cacd9ca1",
   "metadata": {
    "scrolled": true
   },
   "outputs": [],
   "source": [
    "model = keras.Sequential()\n",
    "model.add(keras.layers.Normalization())\n",
    "model.add(\n",
    "    keras.layers.Bidirectional(\n",
    "      keras.layers.LSTM(\n",
    "          units=128, \n",
    "          input_shape=[X_train.shape[1], X_train.shape[2]]\n",
    "      )\n",
    "    )\n",
    ")\n",
    "model.add(keras.layers.Dropout(rate=0.5))\n",
    "model.add(keras.layers.Dense(units=128, activation='relu'))\n",
    "model.add(keras.layers.Dense(y_train.shape[1], activation='softmax'))\n",
    "model.compile(loss='categorical_crossentropy', optimizer='adam', metrics=['accuracy'])"
   ]
  },
  {
   "cell_type": "code",
   "execution_count": 31,
   "id": "ac37055d",
   "metadata": {
    "scrolled": true
   },
   "outputs": [
    {
     "name": "stdout",
     "output_type": "stream",
     "text": [
      "Epoch 1/20\n",
      "44/44 [==============================] - 7s 100ms/step - loss: 1.6597 - accuracy: 0.2804 - val_loss: 1.3433 - val_accuracy: 0.4267\n",
      "Epoch 2/20\n",
      "44/44 [==============================] - 3s 73ms/step - loss: 1.2082 - accuracy: 0.4846 - val_loss: 1.0821 - val_accuracy: 0.5342\n",
      "Epoch 3/20\n",
      "44/44 [==============================] - 3s 77ms/step - loss: 1.0015 - accuracy: 0.5517 - val_loss: 0.9186 - val_accuracy: 0.5733\n",
      "Epoch 4/20\n",
      "44/44 [==============================] - 4s 80ms/step - loss: 0.9105 - accuracy: 0.5948 - val_loss: 0.9112 - val_accuracy: 0.5700\n",
      "Epoch 5/20\n",
      "44/44 [==============================] - 4s 84ms/step - loss: 0.8347 - accuracy: 0.6329 - val_loss: 0.8360 - val_accuracy: 0.6287\n",
      "Epoch 6/20\n",
      "44/44 [==============================] - 4s 82ms/step - loss: 0.7500 - accuracy: 0.6732 - val_loss: 0.8051 - val_accuracy: 0.6450\n",
      "Epoch 7/20\n",
      "44/44 [==============================] - 4s 94ms/step - loss: 0.6715 - accuracy: 0.7109 - val_loss: 0.7267 - val_accuracy: 0.6906\n",
      "Epoch 8/20\n",
      "44/44 [==============================] - 4s 88ms/step - loss: 0.6319 - accuracy: 0.7243 - val_loss: 0.7633 - val_accuracy: 0.6840\n",
      "Epoch 9/20\n",
      "44/44 [==============================] - 3s 79ms/step - loss: 0.6610 - accuracy: 0.7243 - val_loss: 0.7892 - val_accuracy: 0.6710\n",
      "Epoch 10/20\n",
      "44/44 [==============================] - 4s 79ms/step - loss: 0.6096 - accuracy: 0.7450 - val_loss: 0.6408 - val_accuracy: 0.7296\n",
      "Epoch 11/20\n",
      "44/44 [==============================] - 4s 87ms/step - loss: 0.5363 - accuracy: 0.7748 - val_loss: 0.6189 - val_accuracy: 0.7427\n",
      "Epoch 12/20\n",
      "44/44 [==============================] - 6s 127ms/step - loss: 0.5089 - accuracy: 0.7838 - val_loss: 0.6483 - val_accuracy: 0.7199\n",
      "Epoch 13/20\n",
      "44/44 [==============================] - 4s 85ms/step - loss: 0.4784 - accuracy: 0.8009 - val_loss: 0.7208 - val_accuracy: 0.7101\n",
      "Epoch 14/20\n",
      "44/44 [==============================] - 4s 81ms/step - loss: 0.4792 - accuracy: 0.7965 - val_loss: 0.5495 - val_accuracy: 0.7492\n",
      "Epoch 15/20\n",
      "44/44 [==============================] - 4s 99ms/step - loss: 0.4272 - accuracy: 0.8194 - val_loss: 0.5792 - val_accuracy: 0.7427\n",
      "Epoch 16/20\n",
      "44/44 [==============================] - 4s 97ms/step - loss: 0.4104 - accuracy: 0.8299 - val_loss: 0.5846 - val_accuracy: 0.7752\n",
      "Epoch 17/20\n",
      "44/44 [==============================] - 5s 109ms/step - loss: 0.3808 - accuracy: 0.8437 - val_loss: 0.5465 - val_accuracy: 0.7818\n",
      "Epoch 18/20\n",
      "44/44 [==============================] - 5s 103ms/step - loss: 0.3703 - accuracy: 0.8451 - val_loss: 0.6896 - val_accuracy: 0.7394\n",
      "Epoch 19/20\n",
      "44/44 [==============================] - 3s 79ms/step - loss: 0.3606 - accuracy: 0.8546 - val_loss: 0.5881 - val_accuracy: 0.7655\n",
      "Epoch 20/20\n",
      "44/44 [==============================] - 4s 81ms/step - loss: 0.3635 - accuracy: 0.8495 - val_loss: 0.5548 - val_accuracy: 0.7590\n"
     ]
    }
   ],
   "source": [
    "history = model.fit(\n",
    "    X_train, y_train,\n",
    "    epochs=30,\n",
    "    batch_size=64,\n",
    "    validation_split=0.1,\n",
    "    shuffle=False\n",
    ")"
   ]
  },
  {
   "cell_type": "code",
   "execution_count": 32,
   "id": "b52b3aef",
   "metadata": {
    "scrolled": true
   },
   "outputs": [
    {
     "data": {
      "image/png": "[encoded data removed]",
      "text/plain": [
       "<Figure size 600x400 with 1 Axes>"
      ]
     },
     "metadata": {},
     "output_type": "display_data"
    }
   ],
   "source": [
    "import matplotlib.pyplot as plt\n",
    "from sklearn.metrics import classification_report, confusion_matrix, ConfusionMatrixDisplay\n",
    "\n",
    "plt.figure(figsize=(6, 4))\n",
    "plt.plot(history.history['accuracy'], 'r', label='Accuracy of training data')\n",
    "plt.plot(history.history['loss'], 'r--', label='Loss of training data')\n",
    "plt.title('Model Accuracy and Loss')\n",
    "plt.ylabel('Accuracy and Loss')\n",
    "plt.xlabel('Training Epoch')\n",
    "plt.ylim(0)\n",
    "plt.legend()\n",
    "plt.show()\n",
    "\n"
   ]
  },
  {
   "cell_type": "code",
   "execution_count": 33,
   "id": "159e8304",
   "metadata": {
    "scrolled": true
   },
   "outputs": [
    {
     "name": "stdout",
     "output_type": "stream",
     "text": [
      "12/12 [==============================] - 1s 19ms/step\n"
     ]
    },
    {
     "data": {
      "image/png": "[encoded data removed]",
      "text/plain": [
       "<Figure size 640x480 with 2 Axes>"
      ]
     },
     "metadata": {},
     "output_type": "display_data"
    }
   ],
   "source": [
    "predictions = model.predict(X_test)\n",
    "predictions = np.argmax(predictions, axis=1)\n",
    "y_test_pred = np.argmax(y_test, axis=1)\n",
    "cm = confusion_matrix(y_test_pred, predictions)\n",
    "cm_disp = ConfusionMatrixDisplay(confusion_matrix= cm)\n",
    "cm_disp.plot()\n",
    "plt.show()"
   ]
  },
  {
   "cell_type": "code",
   "execution_count": 34,
   "id": "7c88d8c8",
   "metadata": {},
   "outputs": [
    {
     "name": "stdout",
     "output_type": "stream",
     "text": [
      "              precision    recall  f1-score   support\n",
      "\n",
      "           0       0.87      0.90      0.88        50\n",
      "           1       0.65      0.61      0.63        18\n",
      "           2       0.97      0.97      0.97        59\n",
      "           3       0.89      0.71      0.79        45\n",
      "           4       0.83      0.98      0.90       107\n",
      "           5       0.55      0.35      0.43        48\n",
      "           6       0.57      0.62      0.60        56\n",
      "\n",
      "    accuracy                           0.79       383\n",
      "   macro avg       0.76      0.74      0.74       383\n",
      "weighted avg       0.78      0.79      0.78       383\n",
      "\n"
     ]
    }
   ],
   "source": [
    "print(classification_report(y_test_pred, predictions))"
   ]
  },
  {
   "cell_type": "code",
   "execution_count": 35,
   "id": "76b40720",
   "metadata": {
    "scrolled": true
   },
   "outputs": [
    {
     "name": "stdout",
     "output_type": "stream",
     "text": [
      "12/12 [==============================] - 0s 24ms/step - loss: 0.5473 - accuracy: 0.7885\n"
     ]
    },
    {
     "data": {
      "text/plain": [
       "[0.5472886562347412, 0.7885117530822754]"
      ]
     },
     "execution_count": 35,
     "metadata": {},
     "output_type": "execute_result"
    }
   ],
   "source": [
    "model.evaluate(X_test, y_test)"
   ]
  },
  {
   "cell_type": "code",
   "execution_count": 36,
   "id": "a62e7610",
   "metadata": {
    "scrolled": true
   },
   "outputs": [
    {
     "data": {
      "text/plain": [
       "['Coughing',\n",
       " 'Eating',\n",
       " 'Hyperventilating',\n",
       " 'Laughing',\n",
       " 'Normal',\n",
       " 'Singing',\n",
       " 'Talking']"
      ]
     },
     "execution_count": 36,
     "metadata": {},
     "output_type": "execute_result"
    }
   ],
   "source": [
    "[name[3:] for name in enc.get_feature_names_out()]"
   ]
  }
 ],
 "metadata": {
  "kernelspec": {
   "display_name": "Python 3 (ipykernel)",
   "language": "python",
   "name": "python3"
  },
  "language_info": {
   "codemirror_mode": {
    "name": "ipython",
    "version": 3
   },
   "file_extension": ".py",
   "mimetype": "text/x-python",
   "name": "python",
   "nbconvert_exporter": "python",
   "pygments_lexer": "ipython3",
   "version": "3.7.16"
  }
 },
 "nbformat": 4,
 "nbformat_minor": 5
}
